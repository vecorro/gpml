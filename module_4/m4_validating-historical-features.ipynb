{
 "cells": [
  {
   "cell_type": "markdown",
   "id": "e2b3e96b",
   "metadata": {
    "pycharm": {
     "name": "#%% md\n"
    }
   },
   "source": [
    "# Validating Historical Features with Great Expectations"
   ]
  },
  {
   "cell_type": "markdown",
   "id": "a07ff5f8",
   "metadata": {
    "pycharm": {
     "name": "#%% md\n"
    }
   },
   "source": [
    "![Validating Historical Features with Great Expectations](./dqm-diagram-v2.jpg)"
   ]
  },
  {
   "cell_type": "markdown",
   "id": "98678d3b",
   "metadata": {
    "pycharm": {
     "name": "#%% md\n"
    }
   },
   "source": [
    "In this tutorial, we will use the public dataset of Chicago taxi trips to present data validation capabilities of Feast. The original dataset is stored in BigQuery and consists of raw data for each taxi trip (one row per trip) since 2013. We will generate several training datasets (aka historical features in Feast) for different periods and evaluate expectations made on one dataset against another. Our features will represent aggregations of raw data with daily intervals (eg, trips per day, average fare or speed for a specific day, etc.). We will craft some features using SQL while pulling data from BigQuery (like total trips time or total miles travelled). Another chunk of features will be implemented using Feast's on-demand transformations - features calculated on the fly when requested."
   ]
  },
  {
   "cell_type": "markdown",
   "id": "817a81e7",
   "metadata": {
    "pycharm": {
     "name": "#%% md\n"
    }
   },
   "source": [
    "Our plan:\n",
    "\n",
    "1. Declare & apply features and feature views in Feast\n",
    "2. Generate reference dataset\n",
    "3. Develop & test profiler function\n",
    "4. Run validation on different dataset using reference dataset & profiler"
   ]
  },
  {
   "cell_type": "code",
   "execution_count": 1,
   "id": "19cd609c",
   "metadata": {
    "pycharm": {
     "name": "#%%\n"
    }
   },
   "outputs": [],
   "source": [
    "import pyarrow.parquet\n",
    "import pandas as pd\n",
    "from datetime import timedelta\n",
    "from feast import Feature, FeatureView, Entity, FeatureStore, Field\n",
    "from feast.value_type import ValueType\n",
    "from feast.types import  Float64, Int32\n",
    "from feast.data_format import ParquetFormat\n",
    "from feast.on_demand_feature_view import on_demand_feature_view\n",
    "from feast.infra.offline_stores.file_source import FileSource\n",
    "from feast.infra.offline_stores.file import SavedDatasetFileStorage\n",
    "from google.protobuf.duration_pb2 import Duration"
   ]
  },
  {
   "cell_type": "markdown",
   "source": [
    "## 1. Declaring features"
   ],
   "metadata": {
    "collapsed": false,
    "pycharm": {
     "name": "#%% md\n"
    }
   }
  },
  {
   "cell_type": "code",
   "execution_count": 2,
   "outputs": [
    {
     "data": {
      "text/plain": "                                                   taxi_id  \\\n0        9b2a23587b25fe43998076b3761b979ee91f9f5ac8bdac...   \n1        26211b46f6f6c6987bee5e2062934ba8692bced4811d1a...   \n2        018adeb3e0e0f1b8c78f37c4b99735005ea7acfe800ab8...   \n3        c8549ac4a2842a038f2a5b91ecf894ca7cb04d60558be3...   \n4        2780ead18beaa862cc67315ddabd9d1acaadcd6da82eba...   \n...                                                    ...   \n1647129  381b18e55254dd5635fefcf1b2a7956671bd47be71a38e...   \n1647130  848a1ee7cd6c9d5c24658a35523ec72ae374eef3f562bc...   \n1647131  8da9e1d18757022c6a6a614fc2d38483e38aae441feff5...   \n1647132  c797f1560410b9db343567ea7c8e4095f66ceb65800fa4...   \n1647133  6ec5e2f0fee2c2e720cf96b27cea150db81ce91feac86c...   \n\n                              day  total_miles_travelled  total_trip_seconds  \\\n0       2019-04-30 00:00:00+00:00                  31.04               15523   \n1       2019-04-05 00:00:00+00:00                  88.21               16757   \n2       2020-02-05 00:00:00+00:00                  39.69               14331   \n3       2020-02-26 00:00:00+00:00                  46.74               15535   \n4       2020-02-20 00:00:00+00:00                  86.40               21749   \n...                           ...                    ...                 ...   \n1647129 2020-03-12 00:00:00+00:00                  60.21               15396   \n1647130 2020-03-04 00:00:00+00:00                  52.85               17958   \n1647131 2020-03-02 00:00:00+00:00                  75.59               14840   \n1647132 2020-09-25 00:00:00+00:00                  73.73               17125   \n1647133 2020-03-04 00:00:00+00:00                  33.76               12916   \n\n         total_earned  trip_count  \n0              207.00          31  \n1              331.50          33  \n2              233.00          36  \n3              235.25          30  \n4              353.25          38  \n...               ...         ...  \n1647129        254.00          28  \n1647130        251.00          28  \n1647131        283.50          28  \n1647132        284.25          28  \n1647133        194.25          28  \n\n[1647134 rows x 6 columns]",
      "text/html": "<div>\n<style scoped>\n    .dataframe tbody tr th:only-of-type {\n        vertical-align: middle;\n    }\n\n    .dataframe tbody tr th {\n        vertical-align: top;\n    }\n\n    .dataframe thead th {\n        text-align: right;\n    }\n</style>\n<table border=\"1\" class=\"dataframe\">\n  <thead>\n    <tr style=\"text-align: right;\">\n      <th></th>\n      <th>taxi_id</th>\n      <th>day</th>\n      <th>total_miles_travelled</th>\n      <th>total_trip_seconds</th>\n      <th>total_earned</th>\n      <th>trip_count</th>\n    </tr>\n  </thead>\n  <tbody>\n    <tr>\n      <th>0</th>\n      <td>9b2a23587b25fe43998076b3761b979ee91f9f5ac8bdac...</td>\n      <td>2019-04-30 00:00:00+00:00</td>\n      <td>31.04</td>\n      <td>15523</td>\n      <td>207.00</td>\n      <td>31</td>\n    </tr>\n    <tr>\n      <th>1</th>\n      <td>26211b46f6f6c6987bee5e2062934ba8692bced4811d1a...</td>\n      <td>2019-04-05 00:00:00+00:00</td>\n      <td>88.21</td>\n      <td>16757</td>\n      <td>331.50</td>\n      <td>33</td>\n    </tr>\n    <tr>\n      <th>2</th>\n      <td>018adeb3e0e0f1b8c78f37c4b99735005ea7acfe800ab8...</td>\n      <td>2020-02-05 00:00:00+00:00</td>\n      <td>39.69</td>\n      <td>14331</td>\n      <td>233.00</td>\n      <td>36</td>\n    </tr>\n    <tr>\n      <th>3</th>\n      <td>c8549ac4a2842a038f2a5b91ecf894ca7cb04d60558be3...</td>\n      <td>2020-02-26 00:00:00+00:00</td>\n      <td>46.74</td>\n      <td>15535</td>\n      <td>235.25</td>\n      <td>30</td>\n    </tr>\n    <tr>\n      <th>4</th>\n      <td>2780ead18beaa862cc67315ddabd9d1acaadcd6da82eba...</td>\n      <td>2020-02-20 00:00:00+00:00</td>\n      <td>86.40</td>\n      <td>21749</td>\n      <td>353.25</td>\n      <td>38</td>\n    </tr>\n    <tr>\n      <th>...</th>\n      <td>...</td>\n      <td>...</td>\n      <td>...</td>\n      <td>...</td>\n      <td>...</td>\n      <td>...</td>\n    </tr>\n    <tr>\n      <th>1647129</th>\n      <td>381b18e55254dd5635fefcf1b2a7956671bd47be71a38e...</td>\n      <td>2020-03-12 00:00:00+00:00</td>\n      <td>60.21</td>\n      <td>15396</td>\n      <td>254.00</td>\n      <td>28</td>\n    </tr>\n    <tr>\n      <th>1647130</th>\n      <td>848a1ee7cd6c9d5c24658a35523ec72ae374eef3f562bc...</td>\n      <td>2020-03-04 00:00:00+00:00</td>\n      <td>52.85</td>\n      <td>17958</td>\n      <td>251.00</td>\n      <td>28</td>\n    </tr>\n    <tr>\n      <th>1647131</th>\n      <td>8da9e1d18757022c6a6a614fc2d38483e38aae441feff5...</td>\n      <td>2020-03-02 00:00:00+00:00</td>\n      <td>75.59</td>\n      <td>14840</td>\n      <td>283.50</td>\n      <td>28</td>\n    </tr>\n    <tr>\n      <th>1647132</th>\n      <td>c797f1560410b9db343567ea7c8e4095f66ceb65800fa4...</td>\n      <td>2020-09-25 00:00:00+00:00</td>\n      <td>73.73</td>\n      <td>17125</td>\n      <td>284.25</td>\n      <td>28</td>\n    </tr>\n    <tr>\n      <th>1647133</th>\n      <td>6ec5e2f0fee2c2e720cf96b27cea150db81ce91feac86c...</td>\n      <td>2020-03-04 00:00:00+00:00</td>\n      <td>33.76</td>\n      <td>12916</td>\n      <td>194.25</td>\n      <td>28</td>\n    </tr>\n  </tbody>\n</table>\n<p>1647134 rows × 6 columns</p>\n</div>"
     },
     "metadata": {},
     "output_type": "display_data"
    }
   ],
   "source": [
    "df = pd.read_parquet(\"trips_stats.parquet\")\n",
    "display(df)"
   ],
   "metadata": {
    "collapsed": false,
    "pycharm": {
     "name": "#%%\n"
    }
   }
  },
  {
   "cell_type": "code",
   "execution_count": 3,
   "outputs": [
    {
     "data": {
      "text/plain": "                                                   taxi_id  \\\n1149410  d13c5aaa066f94b4927779ed24cd313b0c686f03407095...   \n1068987  d13c5aaa066f94b4927779ed24cd313b0c686f03407095...   \n1008498  d13c5aaa066f94b4927779ed24cd313b0c686f03407095...   \n1118291  d13c5aaa066f94b4927779ed24cd313b0c686f03407095...   \n922475   d13c5aaa066f94b4927779ed24cd313b0c686f03407095...   \n...                                                    ...   \n984363   d13c5aaa066f94b4927779ed24cd313b0c686f03407095...   \n109519   d13c5aaa066f94b4927779ed24cd313b0c686f03407095...   \n877317   d13c5aaa066f94b4927779ed24cd313b0c686f03407095...   \n1484460  d13c5aaa066f94b4927779ed24cd313b0c686f03407095...   \n746606   d13c5aaa066f94b4927779ed24cd313b0c686f03407095...   \n\n                              day  total_miles_travelled  total_trip_seconds  \\\n1149410 2020-03-13 00:00:00+00:00                   12.9                4320   \n1068987 2020-03-12 00:00:00+00:00                   23.2                6420   \n1008498 2020-03-11 00:00:00+00:00                   14.9                4800   \n1118291 2020-03-10 00:00:00+00:00                   21.8                6360   \n922475  2020-03-09 00:00:00+00:00                   21.8                6300   \n...                           ...                    ...                 ...   \n984363  2019-01-07 00:00:00+00:00                   11.4                3780   \n109519  2019-01-05 00:00:00+00:00                    1.2                 540   \n877317  2019-01-04 00:00:00+00:00                   32.4                6540   \n1484460 2019-01-03 00:00:00+00:00                   25.3                7860   \n746606  2019-01-02 00:00:00+00:00                   17.8                3420   \n\n         total_earned  trip_count  \n1149410         75.50          12  \n1068987         99.50          11  \n1008498         76.50          10  \n1118291        101.00          12  \n922475          89.75           9  \n...               ...         ...  \n984363          66.75          10  \n109519          10.25           2  \n877317         116.00           9  \n1484460        132.50          19  \n746606          67.50           7  \n\n[305 rows x 6 columns]",
      "text/html": "<div>\n<style scoped>\n    .dataframe tbody tr th:only-of-type {\n        vertical-align: middle;\n    }\n\n    .dataframe tbody tr th {\n        vertical-align: top;\n    }\n\n    .dataframe thead th {\n        text-align: right;\n    }\n</style>\n<table border=\"1\" class=\"dataframe\">\n  <thead>\n    <tr style=\"text-align: right;\">\n      <th></th>\n      <th>taxi_id</th>\n      <th>day</th>\n      <th>total_miles_travelled</th>\n      <th>total_trip_seconds</th>\n      <th>total_earned</th>\n      <th>trip_count</th>\n    </tr>\n  </thead>\n  <tbody>\n    <tr>\n      <th>1149410</th>\n      <td>d13c5aaa066f94b4927779ed24cd313b0c686f03407095...</td>\n      <td>2020-03-13 00:00:00+00:00</td>\n      <td>12.9</td>\n      <td>4320</td>\n      <td>75.50</td>\n      <td>12</td>\n    </tr>\n    <tr>\n      <th>1068987</th>\n      <td>d13c5aaa066f94b4927779ed24cd313b0c686f03407095...</td>\n      <td>2020-03-12 00:00:00+00:00</td>\n      <td>23.2</td>\n      <td>6420</td>\n      <td>99.50</td>\n      <td>11</td>\n    </tr>\n    <tr>\n      <th>1008498</th>\n      <td>d13c5aaa066f94b4927779ed24cd313b0c686f03407095...</td>\n      <td>2020-03-11 00:00:00+00:00</td>\n      <td>14.9</td>\n      <td>4800</td>\n      <td>76.50</td>\n      <td>10</td>\n    </tr>\n    <tr>\n      <th>1118291</th>\n      <td>d13c5aaa066f94b4927779ed24cd313b0c686f03407095...</td>\n      <td>2020-03-10 00:00:00+00:00</td>\n      <td>21.8</td>\n      <td>6360</td>\n      <td>101.00</td>\n      <td>12</td>\n    </tr>\n    <tr>\n      <th>922475</th>\n      <td>d13c5aaa066f94b4927779ed24cd313b0c686f03407095...</td>\n      <td>2020-03-09 00:00:00+00:00</td>\n      <td>21.8</td>\n      <td>6300</td>\n      <td>89.75</td>\n      <td>9</td>\n    </tr>\n    <tr>\n      <th>...</th>\n      <td>...</td>\n      <td>...</td>\n      <td>...</td>\n      <td>...</td>\n      <td>...</td>\n      <td>...</td>\n    </tr>\n    <tr>\n      <th>984363</th>\n      <td>d13c5aaa066f94b4927779ed24cd313b0c686f03407095...</td>\n      <td>2019-01-07 00:00:00+00:00</td>\n      <td>11.4</td>\n      <td>3780</td>\n      <td>66.75</td>\n      <td>10</td>\n    </tr>\n    <tr>\n      <th>109519</th>\n      <td>d13c5aaa066f94b4927779ed24cd313b0c686f03407095...</td>\n      <td>2019-01-05 00:00:00+00:00</td>\n      <td>1.2</td>\n      <td>540</td>\n      <td>10.25</td>\n      <td>2</td>\n    </tr>\n    <tr>\n      <th>877317</th>\n      <td>d13c5aaa066f94b4927779ed24cd313b0c686f03407095...</td>\n      <td>2019-01-04 00:00:00+00:00</td>\n      <td>32.4</td>\n      <td>6540</td>\n      <td>116.00</td>\n      <td>9</td>\n    </tr>\n    <tr>\n      <th>1484460</th>\n      <td>d13c5aaa066f94b4927779ed24cd313b0c686f03407095...</td>\n      <td>2019-01-03 00:00:00+00:00</td>\n      <td>25.3</td>\n      <td>7860</td>\n      <td>132.50</td>\n      <td>19</td>\n    </tr>\n    <tr>\n      <th>746606</th>\n      <td>d13c5aaa066f94b4927779ed24cd313b0c686f03407095...</td>\n      <td>2019-01-02 00:00:00+00:00</td>\n      <td>17.8</td>\n      <td>3420</td>\n      <td>67.50</td>\n      <td>7</td>\n    </tr>\n  </tbody>\n</table>\n<p>305 rows × 6 columns</p>\n</div>"
     },
     "execution_count": 3,
     "metadata": {},
     "output_type": "execute_result"
    }
   ],
   "source": [
    "id = 'd13c5aaa066f94b4927779ed24cd313b0c686f03407095cf5daa4c227d411eb5049a5b1ce8ff07157f9641e0e863be971c9d24bc3ef3f89857d7788fef397242'\n",
    "df[df.taxi_id == id].sort_values(by=\"day\", ascending=False)"
   ],
   "metadata": {
    "collapsed": false,
    "pycharm": {
     "name": "#%%\n"
    }
   }
  },
  {
   "cell_type": "code",
   "execution_count": 4,
   "id": "79ff6a81",
   "metadata": {
    "pycharm": {
     "name": "#%%\n"
    }
   },
   "outputs": [],
   "source": [
    "batch_source = FileSource(\n",
    "    timestamp_field=\"day\",\n",
    "    path=\"trips_stats.parquet\",  # using parquet file that we created on previous step\n",
    "    file_format=ParquetFormat()\n",
    ")\n",
    "\n",
    "taxi_entity = Entity(name='taxi', join_keys=['taxi_id'])\n",
    "\n",
    "trips_stats_fv = FeatureView(\n",
    "    name='trip_stats',\n",
    "    entities=['taxi'],\n",
    "    schema=[\n",
    "        Field(name=\"total_miles_travelled\", dtype=Float64),\n",
    "        Field(name=\"total_trip_seconds\", dtype=Float64),\n",
    "        Field(name=\"total_earned\", dtype=Float64),\n",
    "        Field(name=\"trip_count\", dtype=Float64),\n",
    "    ],\n",
    "    ttl=timedelta(seconds=86400), # 86400 sec = 1day\n",
    "    source=batch_source,\n",
    ")"
   ]
  },
  {
   "cell_type": "markdown",
   "id": "d52b1567",
   "metadata": {
    "pycharm": {
     "name": "#%% md\n"
    }
   },
   "source": [
    "*Read more about feature views in [Feast docs](https://docs.feast.dev/getting-started/concepts/feature-view)*"
   ]
  },
  {
   "cell_type": "code",
   "execution_count": 5,
   "id": "d706f6b6",
   "metadata": {
    "pycharm": {
     "name": "#%%\n"
    }
   },
   "outputs": [],
   "source": [
    "@on_demand_feature_view(\n",
    "    schema=[\n",
    "        Field(name=\"avg_fare\", dtype=Float64),\n",
    "        Field(name=\"avg_speed\", dtype=Float64),\n",
    "        Field(name=\"avg_trip_seconds\", dtype=Float64),\n",
    "        Field(name=\"earned_per_hour\", dtype=Float64),\n",
    "    ],\n",
    "    sources=[trips_stats_fv]\n",
    ")\n",
    "\n",
    "def on_demand_stats(inp):\n",
    "    out = pd.DataFrame()\n",
    "    out[\"avg_fare\"] = inp[\"total_earned\"] / inp[\"trip_count\"]\n",
    "    out[\"avg_speed\"] = 3600 * inp[\"total_miles_travelled\"] / inp[\"total_trip_seconds\"]\n",
    "    out[\"avg_trip_seconds\"] = inp[\"total_trip_seconds\"] / inp[\"trip_count\"]\n",
    "    out[\"earned_per_hour\"] = 3600 * inp[\"total_earned\"] / inp[\"total_trip_seconds\"]\n",
    "    return out"
   ]
  },
  {
   "cell_type": "markdown",
   "id": "bcff9a2e",
   "metadata": {
    "pycharm": {
     "name": "#%% md\n"
    }
   },
   "source": [
    "*Read more about on demand feature views [here](https://docs.feast.dev/reference/alpha-on-demand-feature-view)*"
   ]
  },
  {
   "cell_type": "code",
   "execution_count": 6,
   "outputs": [],
   "source": [
    "store = FeatureStore(\".\")  # using feature_store.yaml that stored in the same directory\n",
    "store.apply([taxi_entity, trips_stats_fv, on_demand_stats])  # writing to the registry"
   ],
   "metadata": {
    "collapsed": false,
    "pycharm": {
     "name": "#%%\n"
    }
   }
  },
  {
   "cell_type": "markdown",
   "source": [
    "## 3. Generating training (reference) dataset"
   ],
   "metadata": {
    "collapsed": false,
    "pycharm": {
     "name": "#%% md\n"
    }
   }
  },
  {
   "cell_type": "code",
   "execution_count": 7,
   "id": "03ba0273",
   "metadata": {
    "pycharm": {
     "name": "#%%\n"
    }
   },
   "outputs": [
    {
     "data": {
      "text/plain": "                                                taxi_id\n0     91d5288487e87c5917b813ba6f75ab1c3a9749af906a2d...\n1     9d5308a039a77963ed44f4b4435abd45f28eb7c4eb7669...\n2     2d411799ad37a21a76e73cab9a4ec254f551ba45761f4e...\n3     a36483657911ff455df8757d429c4c7cc1d720b6ef8f4a...\n4     e97ff21e0c8f655aa03ec62fbccdf33578a21516535ce7...\n...                                                 ...\n5059  91d35a6982a6a0287931022e745957a1d3284b0ed36b91...\n5060  b0372cb54559e5569b3fe82dec65d7ac25d8276d59e9b6...\n5061  d63ae52c1bdf4ff2edf7fd88db73bfa5b5ea1c045ea2bc...\n5062  468715c4e6b0967d57ec45e4ee960045525de2b01a3229...\n5063  7ebf27414a0c7b128e7925e1da56d51a8b81484f7630cf...\n\n[5064 rows x 1 columns]",
      "text/html": "<div>\n<style scoped>\n    .dataframe tbody tr th:only-of-type {\n        vertical-align: middle;\n    }\n\n    .dataframe tbody tr th {\n        vertical-align: top;\n    }\n\n    .dataframe thead th {\n        text-align: right;\n    }\n</style>\n<table border=\"1\" class=\"dataframe\">\n  <thead>\n    <tr style=\"text-align: right;\">\n      <th></th>\n      <th>taxi_id</th>\n    </tr>\n  </thead>\n  <tbody>\n    <tr>\n      <th>0</th>\n      <td>91d5288487e87c5917b813ba6f75ab1c3a9749af906a2d...</td>\n    </tr>\n    <tr>\n      <th>1</th>\n      <td>9d5308a039a77963ed44f4b4435abd45f28eb7c4eb7669...</td>\n    </tr>\n    <tr>\n      <th>2</th>\n      <td>2d411799ad37a21a76e73cab9a4ec254f551ba45761f4e...</td>\n    </tr>\n    <tr>\n      <th>3</th>\n      <td>a36483657911ff455df8757d429c4c7cc1d720b6ef8f4a...</td>\n    </tr>\n    <tr>\n      <th>4</th>\n      <td>e97ff21e0c8f655aa03ec62fbccdf33578a21516535ce7...</td>\n    </tr>\n    <tr>\n      <th>...</th>\n      <td>...</td>\n    </tr>\n    <tr>\n      <th>5059</th>\n      <td>91d35a6982a6a0287931022e745957a1d3284b0ed36b91...</td>\n    </tr>\n    <tr>\n      <th>5060</th>\n      <td>b0372cb54559e5569b3fe82dec65d7ac25d8276d59e9b6...</td>\n    </tr>\n    <tr>\n      <th>5061</th>\n      <td>d63ae52c1bdf4ff2edf7fd88db73bfa5b5ea1c045ea2bc...</td>\n    </tr>\n    <tr>\n      <th>5062</th>\n      <td>468715c4e6b0967d57ec45e4ee960045525de2b01a3229...</td>\n    </tr>\n    <tr>\n      <th>5063</th>\n      <td>7ebf27414a0c7b128e7925e1da56d51a8b81484f7630cf...</td>\n    </tr>\n  </tbody>\n</table>\n<p>5064 rows × 1 columns</p>\n</div>"
     },
     "metadata": {},
     "output_type": "display_data"
    }
   ],
   "source": [
    "# Read a table with all taxi IDs\n",
    "taxi_ids = pyarrow.parquet.read_table(\"entities.parquet\").to_pandas()\n",
    "display(taxi_ids)"
   ]
  },
  {
   "cell_type": "code",
   "execution_count": 8,
   "id": "a558e4b8",
   "metadata": {
    "pycharm": {
     "name": "#%%\n"
    }
   },
   "outputs": [
    {
     "data": {
      "text/plain": "   event_timestamp\n0       2019-06-01\n1       2019-06-02\n2       2019-06-03\n3       2019-06-04\n4       2019-06-05\n5       2019-06-06\n6       2019-06-07\n7       2019-06-08\n8       2019-06-09\n9       2019-06-10\n10      2019-06-11\n11      2019-06-12\n12      2019-06-13\n13      2019-06-14\n14      2019-06-15\n15      2019-06-16\n16      2019-06-17\n17      2019-06-18\n18      2019-06-19\n19      2019-06-20\n20      2019-06-21\n21      2019-06-22\n22      2019-06-23\n23      2019-06-24\n24      2019-06-25\n25      2019-06-26\n26      2019-06-27\n27      2019-06-28\n28      2019-06-29\n29      2019-06-30\n30      2019-07-01",
      "text/html": "<div>\n<style scoped>\n    .dataframe tbody tr th:only-of-type {\n        vertical-align: middle;\n    }\n\n    .dataframe tbody tr th {\n        vertical-align: top;\n    }\n\n    .dataframe thead th {\n        text-align: right;\n    }\n</style>\n<table border=\"1\" class=\"dataframe\">\n  <thead>\n    <tr style=\"text-align: right;\">\n      <th></th>\n      <th>event_timestamp</th>\n    </tr>\n  </thead>\n  <tbody>\n    <tr>\n      <th>0</th>\n      <td>2019-06-01</td>\n    </tr>\n    <tr>\n      <th>1</th>\n      <td>2019-06-02</td>\n    </tr>\n    <tr>\n      <th>2</th>\n      <td>2019-06-03</td>\n    </tr>\n    <tr>\n      <th>3</th>\n      <td>2019-06-04</td>\n    </tr>\n    <tr>\n      <th>4</th>\n      <td>2019-06-05</td>\n    </tr>\n    <tr>\n      <th>5</th>\n      <td>2019-06-06</td>\n    </tr>\n    <tr>\n      <th>6</th>\n      <td>2019-06-07</td>\n    </tr>\n    <tr>\n      <th>7</th>\n      <td>2019-06-08</td>\n    </tr>\n    <tr>\n      <th>8</th>\n      <td>2019-06-09</td>\n    </tr>\n    <tr>\n      <th>9</th>\n      <td>2019-06-10</td>\n    </tr>\n    <tr>\n      <th>10</th>\n      <td>2019-06-11</td>\n    </tr>\n    <tr>\n      <th>11</th>\n      <td>2019-06-12</td>\n    </tr>\n    <tr>\n      <th>12</th>\n      <td>2019-06-13</td>\n    </tr>\n    <tr>\n      <th>13</th>\n      <td>2019-06-14</td>\n    </tr>\n    <tr>\n      <th>14</th>\n      <td>2019-06-15</td>\n    </tr>\n    <tr>\n      <th>15</th>\n      <td>2019-06-16</td>\n    </tr>\n    <tr>\n      <th>16</th>\n      <td>2019-06-17</td>\n    </tr>\n    <tr>\n      <th>17</th>\n      <td>2019-06-18</td>\n    </tr>\n    <tr>\n      <th>18</th>\n      <td>2019-06-19</td>\n    </tr>\n    <tr>\n      <th>19</th>\n      <td>2019-06-20</td>\n    </tr>\n    <tr>\n      <th>20</th>\n      <td>2019-06-21</td>\n    </tr>\n    <tr>\n      <th>21</th>\n      <td>2019-06-22</td>\n    </tr>\n    <tr>\n      <th>22</th>\n      <td>2019-06-23</td>\n    </tr>\n    <tr>\n      <th>23</th>\n      <td>2019-06-24</td>\n    </tr>\n    <tr>\n      <th>24</th>\n      <td>2019-06-25</td>\n    </tr>\n    <tr>\n      <th>25</th>\n      <td>2019-06-26</td>\n    </tr>\n    <tr>\n      <th>26</th>\n      <td>2019-06-27</td>\n    </tr>\n    <tr>\n      <th>27</th>\n      <td>2019-06-28</td>\n    </tr>\n    <tr>\n      <th>28</th>\n      <td>2019-06-29</td>\n    </tr>\n    <tr>\n      <th>29</th>\n      <td>2019-06-30</td>\n    </tr>\n    <tr>\n      <th>30</th>\n      <td>2019-07-01</td>\n    </tr>\n  </tbody>\n</table>\n</div>"
     },
     "metadata": {},
     "output_type": "display_data"
    }
   ],
   "source": [
    "# Generate a time stamp table with 1 day date per row for 1 month\n",
    "timestamps = pd.DataFrame()\n",
    "timestamps[\"event_timestamp\"] = pd.date_range(\"2019-06-01\", \"2019-07-01\", freq='D')\n",
    "display(timestamps)"
   ]
  },
  {
   "cell_type": "markdown",
   "id": "e6db6725",
   "metadata": {
    "pycharm": {
     "name": "#%% md\n"
    }
   },
   "source": [
    "Cross merge (aka Cartesian product) produces entity dataframe with each taxi_id repeated for each timestamp:"
   ]
  },
  {
   "cell_type": "code",
   "execution_count": 9,
   "id": "2f6ca83c",
   "metadata": {
    "pycharm": {
     "name": "#%%\n"
    }
   },
   "outputs": [
    {
     "data": {
      "text/plain": "                                                  taxi_id event_timestamp\n0       91d5288487e87c5917b813ba6f75ab1c3a9749af906a2d...      2019-06-01\n1       91d5288487e87c5917b813ba6f75ab1c3a9749af906a2d...      2019-06-02\n2       91d5288487e87c5917b813ba6f75ab1c3a9749af906a2d...      2019-06-03\n3       91d5288487e87c5917b813ba6f75ab1c3a9749af906a2d...      2019-06-04\n4       91d5288487e87c5917b813ba6f75ab1c3a9749af906a2d...      2019-06-05\n...                                                   ...             ...\n156979  7ebf27414a0c7b128e7925e1da56d51a8b81484f7630cf...      2019-06-27\n156980  7ebf27414a0c7b128e7925e1da56d51a8b81484f7630cf...      2019-06-28\n156981  7ebf27414a0c7b128e7925e1da56d51a8b81484f7630cf...      2019-06-29\n156982  7ebf27414a0c7b128e7925e1da56d51a8b81484f7630cf...      2019-06-30\n156983  7ebf27414a0c7b128e7925e1da56d51a8b81484f7630cf...      2019-07-01\n\n[156984 rows x 2 columns]",
      "text/html": "<div>\n<style scoped>\n    .dataframe tbody tr th:only-of-type {\n        vertical-align: middle;\n    }\n\n    .dataframe tbody tr th {\n        vertical-align: top;\n    }\n\n    .dataframe thead th {\n        text-align: right;\n    }\n</style>\n<table border=\"1\" class=\"dataframe\">\n  <thead>\n    <tr style=\"text-align: right;\">\n      <th></th>\n      <th>taxi_id</th>\n      <th>event_timestamp</th>\n    </tr>\n  </thead>\n  <tbody>\n    <tr>\n      <th>0</th>\n      <td>91d5288487e87c5917b813ba6f75ab1c3a9749af906a2d...</td>\n      <td>2019-06-01</td>\n    </tr>\n    <tr>\n      <th>1</th>\n      <td>91d5288487e87c5917b813ba6f75ab1c3a9749af906a2d...</td>\n      <td>2019-06-02</td>\n    </tr>\n    <tr>\n      <th>2</th>\n      <td>91d5288487e87c5917b813ba6f75ab1c3a9749af906a2d...</td>\n      <td>2019-06-03</td>\n    </tr>\n    <tr>\n      <th>3</th>\n      <td>91d5288487e87c5917b813ba6f75ab1c3a9749af906a2d...</td>\n      <td>2019-06-04</td>\n    </tr>\n    <tr>\n      <th>4</th>\n      <td>91d5288487e87c5917b813ba6f75ab1c3a9749af906a2d...</td>\n      <td>2019-06-05</td>\n    </tr>\n    <tr>\n      <th>...</th>\n      <td>...</td>\n      <td>...</td>\n    </tr>\n    <tr>\n      <th>156979</th>\n      <td>7ebf27414a0c7b128e7925e1da56d51a8b81484f7630cf...</td>\n      <td>2019-06-27</td>\n    </tr>\n    <tr>\n      <th>156980</th>\n      <td>7ebf27414a0c7b128e7925e1da56d51a8b81484f7630cf...</td>\n      <td>2019-06-28</td>\n    </tr>\n    <tr>\n      <th>156981</th>\n      <td>7ebf27414a0c7b128e7925e1da56d51a8b81484f7630cf...</td>\n      <td>2019-06-29</td>\n    </tr>\n    <tr>\n      <th>156982</th>\n      <td>7ebf27414a0c7b128e7925e1da56d51a8b81484f7630cf...</td>\n      <td>2019-06-30</td>\n    </tr>\n    <tr>\n      <th>156983</th>\n      <td>7ebf27414a0c7b128e7925e1da56d51a8b81484f7630cf...</td>\n      <td>2019-07-01</td>\n    </tr>\n  </tbody>\n</table>\n<p>156984 rows × 2 columns</p>\n</div>"
     },
     "metadata": {},
     "output_type": "display_data"
    }
   ],
   "source": [
    "entity_df = pd.merge(taxi_ids, timestamps, how='cross')\n",
    "display(entity_df)"
   ]
  },
  {
   "cell_type": "markdown",
   "id": "e2f39876",
   "metadata": {
    "pycharm": {
     "name": "#%% md\n"
    }
   },
   "source": [
    "Retrieving historical features for resulting entity dataframe and persisting output as a saved dataset:"
   ]
  },
  {
   "cell_type": "code",
   "execution_count": 10,
   "id": "2c4af1e4",
   "metadata": {
    "pycharm": {
     "name": "#%%\n"
    }
   },
   "outputs": [
    {
     "name": "stderr",
     "output_type": "stream",
     "text": [
      "/Users/kike/opt/miniconda3/envs/feast_workshop/lib/python3.10/site-packages/feast/feature_store.py:952: RuntimeWarning: Saving dataset is an experimental feature. This API is unstable and it could and most probably will be changed in the future. We do not guarantee that future changes will maintain backward compatibility.\n",
      "  warnings.warn(\n"
     ]
    },
    {
     "data": {
      "text/plain": "<SavedDataset(name = my_training_ds, features = ['trip_stats:total_miles_travelled', 'trip_stats:total_trip_seconds', 'trip_stats:total_earned', 'trip_stats:trip_count', 'on_demand_stats:avg_fare', 'on_demand_stats:avg_trip_seconds', 'on_demand_stats:avg_speed', 'on_demand_stats:earned_per_hour'], join_keys = ['taxi_id'], storage = <feast.infra.offline_stores.file_source.SavedDatasetFileStorage object at 0x7fb520be35b0>, full_feature_names = False, tags = {}, feature_service_name = None, _retrieval_job = <feast.infra.offline_stores.file.FileRetrievalJob object at 0x7fb53059f7f0>, min_event_timestamp = 2019-06-01 00:00:00, max_event_timestamp = 2019-07-01 00:00:00, created_timestamp = 2022-06-24 13:05:23.270938, last_updated_timestamp = 2022-06-24 13:05:23.270938)>"
     },
     "execution_count": 10,
     "metadata": {},
     "output_type": "execute_result"
    }
   ],
   "source": [
    "job = store.get_historical_features(\n",
    "    entity_df=entity_df,\n",
    "    features=[\n",
    "        \"trip_stats:total_miles_travelled\",\n",
    "        \"trip_stats:total_trip_seconds\",\n",
    "        \"trip_stats:total_earned\",\n",
    "        \"trip_stats:trip_count\",\n",
    "        \"on_demand_stats:avg_fare\",\n",
    "        \"on_demand_stats:avg_trip_seconds\",\n",
    "        \"on_demand_stats:avg_speed\",\n",
    "        \"on_demand_stats:earned_per_hour\",\n",
    "    ]\n",
    ")\n",
    "\n",
    "store.create_saved_dataset(\n",
    "    from_=job,\n",
    "    name='my_training_ds',\n",
    "    storage=SavedDatasetFileStorage(path='my_training_ds.parquet')\n",
    ")"
   ]
  },
  {
   "cell_type": "code",
   "execution_count": 11,
   "outputs": [
    {
     "data": {
      "text/plain": "                                                    taxi_id  \\\n41641152  d13c5aaa066f94b4927779ed24cd313b0c686f03407095...   \n34157776  4f9128df57e0c64c1e98f9bfa053b2b01d5d3c21833371...   \n34147094  3b8ea67bd1771560c29ac478e78e61a7cb9c3eea351b43...   \n23784708  d3966c10c10e63be58eee01d3a6637d69f227f686ab885...   \n46562308  d5c183f45a01c86c3cb0457bbd209c012db32a36a29c51...   \n...                                                     ...   \n33930298  ac488e1f03251055f4b4eba3ca51de23709ac4182721e0...   \n19882826  5c5ebf6ea48279cddb3c608433c1e83d31bc1e699b6768...   \n2196191   17e5ec0902050b4cb63ab2f7b82cd36b81c289767b4f4f...   \n33910777  7dc01f4be54a4058ffb81098be25f52c9f1249afc88e3e...   \n50881579  6933327f9cc740e893a882282f7d06460207d6d4e084b3...   \n\n                   event_timestamp  total_miles_travelled  total_trip_seconds  \\\n41641152 2019-06-01 00:00:00+00:00                  69.50               16080   \n34157776 2019-06-01 00:00:00+00:00                  75.20               14700   \n34147094 2019-06-01 00:00:00+00:00                  26.10                5280   \n23784708 2019-06-01 00:00:00+00:00                 124.80               23880   \n46562308 2019-06-01 00:00:00+00:00                  93.81               22584   \n...                            ...                    ...                 ...   \n33930298 2019-07-01 00:00:00+00:00                  21.04                5935   \n19882826 2019-07-01 00:00:00+00:00                  13.17                4408   \n2196191  2019-07-01 00:00:00+00:00                  27.00                7650   \n33910777 2019-07-01 00:00:00+00:00                  55.30               10020   \n50881579 2019-07-01 00:00:00+00:00                  58.90               11640   \n\n          total_earned  trip_count   avg_fare  avg_speed  avg_trip_seconds  \\\n41641152        203.50           8  25.437500  15.559701       2010.000000   \n34157776        231.50          11  21.045455  18.416327       1336.363636   \n34147094         72.25           2  36.125000  17.795455       2640.000000   \n23784708        378.75          20  18.937500  18.814070       1194.000000   \n46562308        315.50          20  15.775000  14.953773       1129.200000   \n...                ...         ...        ...        ...               ...   \n33930298         90.25           9  10.027778  12.762258        659.444444   \n19882826         63.50           8   7.937500  10.755898        551.000000   \n2196191         122.25          14   8.732143  12.705882        546.428571   \n33910777        178.50          11  16.227273  19.868263        910.909091   \n50881579        218.25          21  10.392857  18.216495        554.285714   \n\n          earned_per_hour  \n41641152        45.559701  \n34157776        56.693878  \n34147094        49.261364  \n23784708        57.097990  \n46562308        50.292242  \n...                   ...  \n33930298        54.743050  \n19882826        51.860254  \n2196191         57.529412  \n33910777        64.131737  \n50881579        67.500000  \n\n[119808 rows x 10 columns]",
      "text/html": "<div>\n<style scoped>\n    .dataframe tbody tr th:only-of-type {\n        vertical-align: middle;\n    }\n\n    .dataframe tbody tr th {\n        vertical-align: top;\n    }\n\n    .dataframe thead th {\n        text-align: right;\n    }\n</style>\n<table border=\"1\" class=\"dataframe\">\n  <thead>\n    <tr style=\"text-align: right;\">\n      <th></th>\n      <th>taxi_id</th>\n      <th>event_timestamp</th>\n      <th>total_miles_travelled</th>\n      <th>total_trip_seconds</th>\n      <th>total_earned</th>\n      <th>trip_count</th>\n      <th>avg_fare</th>\n      <th>avg_speed</th>\n      <th>avg_trip_seconds</th>\n      <th>earned_per_hour</th>\n    </tr>\n  </thead>\n  <tbody>\n    <tr>\n      <th>41641152</th>\n      <td>d13c5aaa066f94b4927779ed24cd313b0c686f03407095...</td>\n      <td>2019-06-01 00:00:00+00:00</td>\n      <td>69.50</td>\n      <td>16080</td>\n      <td>203.50</td>\n      <td>8</td>\n      <td>25.437500</td>\n      <td>15.559701</td>\n      <td>2010.000000</td>\n      <td>45.559701</td>\n    </tr>\n    <tr>\n      <th>34157776</th>\n      <td>4f9128df57e0c64c1e98f9bfa053b2b01d5d3c21833371...</td>\n      <td>2019-06-01 00:00:00+00:00</td>\n      <td>75.20</td>\n      <td>14700</td>\n      <td>231.50</td>\n      <td>11</td>\n      <td>21.045455</td>\n      <td>18.416327</td>\n      <td>1336.363636</td>\n      <td>56.693878</td>\n    </tr>\n    <tr>\n      <th>34147094</th>\n      <td>3b8ea67bd1771560c29ac478e78e61a7cb9c3eea351b43...</td>\n      <td>2019-06-01 00:00:00+00:00</td>\n      <td>26.10</td>\n      <td>5280</td>\n      <td>72.25</td>\n      <td>2</td>\n      <td>36.125000</td>\n      <td>17.795455</td>\n      <td>2640.000000</td>\n      <td>49.261364</td>\n    </tr>\n    <tr>\n      <th>23784708</th>\n      <td>d3966c10c10e63be58eee01d3a6637d69f227f686ab885...</td>\n      <td>2019-06-01 00:00:00+00:00</td>\n      <td>124.80</td>\n      <td>23880</td>\n      <td>378.75</td>\n      <td>20</td>\n      <td>18.937500</td>\n      <td>18.814070</td>\n      <td>1194.000000</td>\n      <td>57.097990</td>\n    </tr>\n    <tr>\n      <th>46562308</th>\n      <td>d5c183f45a01c86c3cb0457bbd209c012db32a36a29c51...</td>\n      <td>2019-06-01 00:00:00+00:00</td>\n      <td>93.81</td>\n      <td>22584</td>\n      <td>315.50</td>\n      <td>20</td>\n      <td>15.775000</td>\n      <td>14.953773</td>\n      <td>1129.200000</td>\n      <td>50.292242</td>\n    </tr>\n    <tr>\n      <th>...</th>\n      <td>...</td>\n      <td>...</td>\n      <td>...</td>\n      <td>...</td>\n      <td>...</td>\n      <td>...</td>\n      <td>...</td>\n      <td>...</td>\n      <td>...</td>\n      <td>...</td>\n    </tr>\n    <tr>\n      <th>33930298</th>\n      <td>ac488e1f03251055f4b4eba3ca51de23709ac4182721e0...</td>\n      <td>2019-07-01 00:00:00+00:00</td>\n      <td>21.04</td>\n      <td>5935</td>\n      <td>90.25</td>\n      <td>9</td>\n      <td>10.027778</td>\n      <td>12.762258</td>\n      <td>659.444444</td>\n      <td>54.743050</td>\n    </tr>\n    <tr>\n      <th>19882826</th>\n      <td>5c5ebf6ea48279cddb3c608433c1e83d31bc1e699b6768...</td>\n      <td>2019-07-01 00:00:00+00:00</td>\n      <td>13.17</td>\n      <td>4408</td>\n      <td>63.50</td>\n      <td>8</td>\n      <td>7.937500</td>\n      <td>10.755898</td>\n      <td>551.000000</td>\n      <td>51.860254</td>\n    </tr>\n    <tr>\n      <th>2196191</th>\n      <td>17e5ec0902050b4cb63ab2f7b82cd36b81c289767b4f4f...</td>\n      <td>2019-07-01 00:00:00+00:00</td>\n      <td>27.00</td>\n      <td>7650</td>\n      <td>122.25</td>\n      <td>14</td>\n      <td>8.732143</td>\n      <td>12.705882</td>\n      <td>546.428571</td>\n      <td>57.529412</td>\n    </tr>\n    <tr>\n      <th>33910777</th>\n      <td>7dc01f4be54a4058ffb81098be25f52c9f1249afc88e3e...</td>\n      <td>2019-07-01 00:00:00+00:00</td>\n      <td>55.30</td>\n      <td>10020</td>\n      <td>178.50</td>\n      <td>11</td>\n      <td>16.227273</td>\n      <td>19.868263</td>\n      <td>910.909091</td>\n      <td>64.131737</td>\n    </tr>\n    <tr>\n      <th>50881579</th>\n      <td>6933327f9cc740e893a882282f7d06460207d6d4e084b3...</td>\n      <td>2019-07-01 00:00:00+00:00</td>\n      <td>58.90</td>\n      <td>11640</td>\n      <td>218.25</td>\n      <td>21</td>\n      <td>10.392857</td>\n      <td>18.216495</td>\n      <td>554.285714</td>\n      <td>67.500000</td>\n    </tr>\n  </tbody>\n</table>\n<p>119808 rows × 10 columns</p>\n</div>"
     },
     "metadata": {},
     "output_type": "display_data"
    }
   ],
   "source": [
    "# Display resulting table from the on-demand features\n",
    "trips_table_with_on_demand_feats = job.to_df()\n",
    "display(trips_table_with_on_demand_feats)"
   ],
   "metadata": {
    "collapsed": false,
    "pycharm": {
     "name": "#%%\n"
    }
   }
  },
  {
   "cell_type": "code",
   "execution_count": 12,
   "outputs": [
    {
     "data": {
      "text/plain": "                                                    taxi_id  \\\n41649284  d13c5aaa066f94b4927779ed24cd313b0c686f03407095...   \n41648979  d13c5aaa066f94b4927779ed24cd313b0c686f03407095...   \n41648654  d13c5aaa066f94b4927779ed24cd313b0c686f03407095...   \n41648639  d13c5aaa066f94b4927779ed24cd313b0c686f03407095...   \n41647893  d13c5aaa066f94b4927779ed24cd313b0c686f03407095...   \n41647588  d13c5aaa066f94b4927779ed24cd313b0c686f03407095...   \n41647335  d13c5aaa066f94b4927779ed24cd313b0c686f03407095...   \n41647011  d13c5aaa066f94b4927779ed24cd313b0c686f03407095...   \n41646569  d13c5aaa066f94b4927779ed24cd313b0c686f03407095...   \n41646298  d13c5aaa066f94b4927779ed24cd313b0c686f03407095...   \n41645999  d13c5aaa066f94b4927779ed24cd313b0c686f03407095...   \n41645618  d13c5aaa066f94b4927779ed24cd313b0c686f03407095...   \n41645300  d13c5aaa066f94b4927779ed24cd313b0c686f03407095...   \n41644995  d13c5aaa066f94b4927779ed24cd313b0c686f03407095...   \n41644917  d13c5aaa066f94b4927779ed24cd313b0c686f03407095...   \n41644514  d13c5aaa066f94b4927779ed24cd313b0c686f03407095...   \n41644309  d13c5aaa066f94b4927779ed24cd313b0c686f03407095...   \n41643856  d13c5aaa066f94b4927779ed24cd313b0c686f03407095...   \n41643530  d13c5aaa066f94b4927779ed24cd313b0c686f03407095...   \n41643381  d13c5aaa066f94b4927779ed24cd313b0c686f03407095...   \n41643076  d13c5aaa066f94b4927779ed24cd313b0c686f03407095...   \n41642621  d13c5aaa066f94b4927779ed24cd313b0c686f03407095...   \n41642370  d13c5aaa066f94b4927779ed24cd313b0c686f03407095...   \n41642063  d13c5aaa066f94b4927779ed24cd313b0c686f03407095...   \n41641758  d13c5aaa066f94b4927779ed24cd313b0c686f03407095...   \n41641378  d13c5aaa066f94b4927779ed24cd313b0c686f03407095...   \n41641152  d13c5aaa066f94b4927779ed24cd313b0c686f03407095...   \n\n                   event_timestamp  total_miles_travelled  total_trip_seconds  \\\n41649284 2019-06-28 00:00:00+00:00                    7.6                1260   \n41648979 2019-06-27 00:00:00+00:00                    7.6                1260   \n41648654 2019-06-26 00:00:00+00:00                   84.5               19140   \n41648639 2019-06-25 00:00:00+00:00                   30.1               11340   \n41647893 2019-06-23 00:00:00+00:00                   31.4                6060   \n41647588 2019-06-22 00:00:00+00:00                   31.4                6060   \n41647335 2019-06-21 00:00:00+00:00                   59.1               13020   \n41647011 2019-06-20 00:00:00+00:00                   23.4                7080   \n41646569 2019-06-19 00:00:00+00:00                   29.2                2760   \n41646298 2019-06-18 00:00:00+00:00                    7.8                1980   \n41645999 2019-06-17 00:00:00+00:00                   57.4                9600   \n41645618 2019-06-16 00:00:00+00:00                   37.9                4440   \n41645300 2019-06-15 00:00:00+00:00                   14.8                2160   \n41644995 2019-06-14 00:00:00+00:00                   14.8                2160   \n41644917 2019-06-13 00:00:00+00:00                   55.6               13620   \n41644514 2019-06-12 00:00:00+00:00                   59.2               13800   \n41644309 2019-06-11 00:00:00+00:00                   71.9               15360   \n41643856 2019-06-10 00:00:00+00:00                   58.1               10740   \n41643530 2019-06-09 00:00:00+00:00                   50.4                6000   \n41643381 2019-06-08 00:00:00+00:00                   26.9                7740   \n41643076 2019-06-07 00:00:00+00:00                   26.9                7740   \n41642621 2019-06-06 00:00:00+00:00                   86.0               13320   \n41642370 2019-06-05 00:00:00+00:00                   72.0               13680   \n41642063 2019-06-04 00:00:00+00:00                   83.7               14100   \n41641758 2019-06-03 00:00:00+00:00                   83.7               14100   \n41641378 2019-06-02 00:00:00+00:00                   20.1                3720   \n41641152 2019-06-01 00:00:00+00:00                   69.5               16080   \n\n          total_earned  trip_count   avg_fare  avg_speed  avg_trip_seconds  \\\n41649284         25.25           2  12.625000  21.714286        630.000000   \n41648979         25.25           2  12.625000  21.714286        630.000000   \n41648654        334.75          33  10.143939  15.893417        580.000000   \n41648639        166.00          21   7.904762   9.555556        540.000000   \n41647893        113.00          10  11.300000  18.653465        606.000000   \n41647588        113.00          10  11.300000  18.653465        606.000000   \n41647335        199.00          13  15.307692  16.341014       1001.538462   \n41647011        107.50          12   8.958333  11.898305        590.000000   \n41646569         80.50           4  20.125000  38.086957        690.000000   \n41646298         37.50           5   7.500000  14.181818        396.000000   \n41645999        155.50           6  25.916667  21.525000       1600.000000   \n41645618         93.25           2  46.625000  30.729730       2220.000000   \n41645300         38.00           1  38.000000  24.666667       2160.000000   \n41644995         38.00           1  38.000000  24.666667       2160.000000   \n41644917        196.50          14  14.035714  14.696035        972.857143   \n41644514        178.50           8  22.312500  15.443478       1725.000000   \n41644309        230.50          14  16.464286  16.851563       1097.142857   \n41643856        157.50           5  31.500000  19.474860       2148.000000   \n41643530        129.50           4  32.375000  30.240000       1500.000000   \n41643381        118.25          13   9.096154  12.511628        595.384615   \n41643076        118.25          13   9.096154  12.511628        595.384615   \n41642621        219.50           5  43.900000  23.243243       2664.000000   \n41642370        197.50           7  28.214286  18.947368       1954.285714   \n41642063        224.00           7  32.000000  21.370213       2014.285714   \n41641758        224.00           7  32.000000  21.370213       2014.285714   \n41641378         59.75           3  19.916667  19.451613       1240.000000   \n41641152        203.50           8  25.437500  15.559701       2010.000000   \n\n          earned_per_hour  \n41649284        72.142857  \n41648979        72.142857  \n41648654        62.962382  \n41648639        52.698413  \n41647893        67.128713  \n41647588        67.128713  \n41647335        55.023041  \n41647011        54.661017  \n41646569       105.000000  \n41646298        68.181818  \n41645999        58.312500  \n41645618        75.608108  \n41645300        63.333333  \n41644995        63.333333  \n41644917        51.938326  \n41644514        46.565217  \n41644309        54.023438  \n41643856        52.793296  \n41643530        77.700000  \n41643381        55.000000  \n41643076        55.000000  \n41642621        59.324324  \n41642370        51.973684  \n41642063        57.191489  \n41641758        57.191489  \n41641378        57.822581  \n41641152        45.559701  ",
      "text/html": "<div>\n<style scoped>\n    .dataframe tbody tr th:only-of-type {\n        vertical-align: middle;\n    }\n\n    .dataframe tbody tr th {\n        vertical-align: top;\n    }\n\n    .dataframe thead th {\n        text-align: right;\n    }\n</style>\n<table border=\"1\" class=\"dataframe\">\n  <thead>\n    <tr style=\"text-align: right;\">\n      <th></th>\n      <th>taxi_id</th>\n      <th>event_timestamp</th>\n      <th>total_miles_travelled</th>\n      <th>total_trip_seconds</th>\n      <th>total_earned</th>\n      <th>trip_count</th>\n      <th>avg_fare</th>\n      <th>avg_speed</th>\n      <th>avg_trip_seconds</th>\n      <th>earned_per_hour</th>\n    </tr>\n  </thead>\n  <tbody>\n    <tr>\n      <th>41649284</th>\n      <td>d13c5aaa066f94b4927779ed24cd313b0c686f03407095...</td>\n      <td>2019-06-28 00:00:00+00:00</td>\n      <td>7.6</td>\n      <td>1260</td>\n      <td>25.25</td>\n      <td>2</td>\n      <td>12.625000</td>\n      <td>21.714286</td>\n      <td>630.000000</td>\n      <td>72.142857</td>\n    </tr>\n    <tr>\n      <th>41648979</th>\n      <td>d13c5aaa066f94b4927779ed24cd313b0c686f03407095...</td>\n      <td>2019-06-27 00:00:00+00:00</td>\n      <td>7.6</td>\n      <td>1260</td>\n      <td>25.25</td>\n      <td>2</td>\n      <td>12.625000</td>\n      <td>21.714286</td>\n      <td>630.000000</td>\n      <td>72.142857</td>\n    </tr>\n    <tr>\n      <th>41648654</th>\n      <td>d13c5aaa066f94b4927779ed24cd313b0c686f03407095...</td>\n      <td>2019-06-26 00:00:00+00:00</td>\n      <td>84.5</td>\n      <td>19140</td>\n      <td>334.75</td>\n      <td>33</td>\n      <td>10.143939</td>\n      <td>15.893417</td>\n      <td>580.000000</td>\n      <td>62.962382</td>\n    </tr>\n    <tr>\n      <th>41648639</th>\n      <td>d13c5aaa066f94b4927779ed24cd313b0c686f03407095...</td>\n      <td>2019-06-25 00:00:00+00:00</td>\n      <td>30.1</td>\n      <td>11340</td>\n      <td>166.00</td>\n      <td>21</td>\n      <td>7.904762</td>\n      <td>9.555556</td>\n      <td>540.000000</td>\n      <td>52.698413</td>\n    </tr>\n    <tr>\n      <th>41647893</th>\n      <td>d13c5aaa066f94b4927779ed24cd313b0c686f03407095...</td>\n      <td>2019-06-23 00:00:00+00:00</td>\n      <td>31.4</td>\n      <td>6060</td>\n      <td>113.00</td>\n      <td>10</td>\n      <td>11.300000</td>\n      <td>18.653465</td>\n      <td>606.000000</td>\n      <td>67.128713</td>\n    </tr>\n    <tr>\n      <th>41647588</th>\n      <td>d13c5aaa066f94b4927779ed24cd313b0c686f03407095...</td>\n      <td>2019-06-22 00:00:00+00:00</td>\n      <td>31.4</td>\n      <td>6060</td>\n      <td>113.00</td>\n      <td>10</td>\n      <td>11.300000</td>\n      <td>18.653465</td>\n      <td>606.000000</td>\n      <td>67.128713</td>\n    </tr>\n    <tr>\n      <th>41647335</th>\n      <td>d13c5aaa066f94b4927779ed24cd313b0c686f03407095...</td>\n      <td>2019-06-21 00:00:00+00:00</td>\n      <td>59.1</td>\n      <td>13020</td>\n      <td>199.00</td>\n      <td>13</td>\n      <td>15.307692</td>\n      <td>16.341014</td>\n      <td>1001.538462</td>\n      <td>55.023041</td>\n    </tr>\n    <tr>\n      <th>41647011</th>\n      <td>d13c5aaa066f94b4927779ed24cd313b0c686f03407095...</td>\n      <td>2019-06-20 00:00:00+00:00</td>\n      <td>23.4</td>\n      <td>7080</td>\n      <td>107.50</td>\n      <td>12</td>\n      <td>8.958333</td>\n      <td>11.898305</td>\n      <td>590.000000</td>\n      <td>54.661017</td>\n    </tr>\n    <tr>\n      <th>41646569</th>\n      <td>d13c5aaa066f94b4927779ed24cd313b0c686f03407095...</td>\n      <td>2019-06-19 00:00:00+00:00</td>\n      <td>29.2</td>\n      <td>2760</td>\n      <td>80.50</td>\n      <td>4</td>\n      <td>20.125000</td>\n      <td>38.086957</td>\n      <td>690.000000</td>\n      <td>105.000000</td>\n    </tr>\n    <tr>\n      <th>41646298</th>\n      <td>d13c5aaa066f94b4927779ed24cd313b0c686f03407095...</td>\n      <td>2019-06-18 00:00:00+00:00</td>\n      <td>7.8</td>\n      <td>1980</td>\n      <td>37.50</td>\n      <td>5</td>\n      <td>7.500000</td>\n      <td>14.181818</td>\n      <td>396.000000</td>\n      <td>68.181818</td>\n    </tr>\n    <tr>\n      <th>41645999</th>\n      <td>d13c5aaa066f94b4927779ed24cd313b0c686f03407095...</td>\n      <td>2019-06-17 00:00:00+00:00</td>\n      <td>57.4</td>\n      <td>9600</td>\n      <td>155.50</td>\n      <td>6</td>\n      <td>25.916667</td>\n      <td>21.525000</td>\n      <td>1600.000000</td>\n      <td>58.312500</td>\n    </tr>\n    <tr>\n      <th>41645618</th>\n      <td>d13c5aaa066f94b4927779ed24cd313b0c686f03407095...</td>\n      <td>2019-06-16 00:00:00+00:00</td>\n      <td>37.9</td>\n      <td>4440</td>\n      <td>93.25</td>\n      <td>2</td>\n      <td>46.625000</td>\n      <td>30.729730</td>\n      <td>2220.000000</td>\n      <td>75.608108</td>\n    </tr>\n    <tr>\n      <th>41645300</th>\n      <td>d13c5aaa066f94b4927779ed24cd313b0c686f03407095...</td>\n      <td>2019-06-15 00:00:00+00:00</td>\n      <td>14.8</td>\n      <td>2160</td>\n      <td>38.00</td>\n      <td>1</td>\n      <td>38.000000</td>\n      <td>24.666667</td>\n      <td>2160.000000</td>\n      <td>63.333333</td>\n    </tr>\n    <tr>\n      <th>41644995</th>\n      <td>d13c5aaa066f94b4927779ed24cd313b0c686f03407095...</td>\n      <td>2019-06-14 00:00:00+00:00</td>\n      <td>14.8</td>\n      <td>2160</td>\n      <td>38.00</td>\n      <td>1</td>\n      <td>38.000000</td>\n      <td>24.666667</td>\n      <td>2160.000000</td>\n      <td>63.333333</td>\n    </tr>\n    <tr>\n      <th>41644917</th>\n      <td>d13c5aaa066f94b4927779ed24cd313b0c686f03407095...</td>\n      <td>2019-06-13 00:00:00+00:00</td>\n      <td>55.6</td>\n      <td>13620</td>\n      <td>196.50</td>\n      <td>14</td>\n      <td>14.035714</td>\n      <td>14.696035</td>\n      <td>972.857143</td>\n      <td>51.938326</td>\n    </tr>\n    <tr>\n      <th>41644514</th>\n      <td>d13c5aaa066f94b4927779ed24cd313b0c686f03407095...</td>\n      <td>2019-06-12 00:00:00+00:00</td>\n      <td>59.2</td>\n      <td>13800</td>\n      <td>178.50</td>\n      <td>8</td>\n      <td>22.312500</td>\n      <td>15.443478</td>\n      <td>1725.000000</td>\n      <td>46.565217</td>\n    </tr>\n    <tr>\n      <th>41644309</th>\n      <td>d13c5aaa066f94b4927779ed24cd313b0c686f03407095...</td>\n      <td>2019-06-11 00:00:00+00:00</td>\n      <td>71.9</td>\n      <td>15360</td>\n      <td>230.50</td>\n      <td>14</td>\n      <td>16.464286</td>\n      <td>16.851563</td>\n      <td>1097.142857</td>\n      <td>54.023438</td>\n    </tr>\n    <tr>\n      <th>41643856</th>\n      <td>d13c5aaa066f94b4927779ed24cd313b0c686f03407095...</td>\n      <td>2019-06-10 00:00:00+00:00</td>\n      <td>58.1</td>\n      <td>10740</td>\n      <td>157.50</td>\n      <td>5</td>\n      <td>31.500000</td>\n      <td>19.474860</td>\n      <td>2148.000000</td>\n      <td>52.793296</td>\n    </tr>\n    <tr>\n      <th>41643530</th>\n      <td>d13c5aaa066f94b4927779ed24cd313b0c686f03407095...</td>\n      <td>2019-06-09 00:00:00+00:00</td>\n      <td>50.4</td>\n      <td>6000</td>\n      <td>129.50</td>\n      <td>4</td>\n      <td>32.375000</td>\n      <td>30.240000</td>\n      <td>1500.000000</td>\n      <td>77.700000</td>\n    </tr>\n    <tr>\n      <th>41643381</th>\n      <td>d13c5aaa066f94b4927779ed24cd313b0c686f03407095...</td>\n      <td>2019-06-08 00:00:00+00:00</td>\n      <td>26.9</td>\n      <td>7740</td>\n      <td>118.25</td>\n      <td>13</td>\n      <td>9.096154</td>\n      <td>12.511628</td>\n      <td>595.384615</td>\n      <td>55.000000</td>\n    </tr>\n    <tr>\n      <th>41643076</th>\n      <td>d13c5aaa066f94b4927779ed24cd313b0c686f03407095...</td>\n      <td>2019-06-07 00:00:00+00:00</td>\n      <td>26.9</td>\n      <td>7740</td>\n      <td>118.25</td>\n      <td>13</td>\n      <td>9.096154</td>\n      <td>12.511628</td>\n      <td>595.384615</td>\n      <td>55.000000</td>\n    </tr>\n    <tr>\n      <th>41642621</th>\n      <td>d13c5aaa066f94b4927779ed24cd313b0c686f03407095...</td>\n      <td>2019-06-06 00:00:00+00:00</td>\n      <td>86.0</td>\n      <td>13320</td>\n      <td>219.50</td>\n      <td>5</td>\n      <td>43.900000</td>\n      <td>23.243243</td>\n      <td>2664.000000</td>\n      <td>59.324324</td>\n    </tr>\n    <tr>\n      <th>41642370</th>\n      <td>d13c5aaa066f94b4927779ed24cd313b0c686f03407095...</td>\n      <td>2019-06-05 00:00:00+00:00</td>\n      <td>72.0</td>\n      <td>13680</td>\n      <td>197.50</td>\n      <td>7</td>\n      <td>28.214286</td>\n      <td>18.947368</td>\n      <td>1954.285714</td>\n      <td>51.973684</td>\n    </tr>\n    <tr>\n      <th>41642063</th>\n      <td>d13c5aaa066f94b4927779ed24cd313b0c686f03407095...</td>\n      <td>2019-06-04 00:00:00+00:00</td>\n      <td>83.7</td>\n      <td>14100</td>\n      <td>224.00</td>\n      <td>7</td>\n      <td>32.000000</td>\n      <td>21.370213</td>\n      <td>2014.285714</td>\n      <td>57.191489</td>\n    </tr>\n    <tr>\n      <th>41641758</th>\n      <td>d13c5aaa066f94b4927779ed24cd313b0c686f03407095...</td>\n      <td>2019-06-03 00:00:00+00:00</td>\n      <td>83.7</td>\n      <td>14100</td>\n      <td>224.00</td>\n      <td>7</td>\n      <td>32.000000</td>\n      <td>21.370213</td>\n      <td>2014.285714</td>\n      <td>57.191489</td>\n    </tr>\n    <tr>\n      <th>41641378</th>\n      <td>d13c5aaa066f94b4927779ed24cd313b0c686f03407095...</td>\n      <td>2019-06-02 00:00:00+00:00</td>\n      <td>20.1</td>\n      <td>3720</td>\n      <td>59.75</td>\n      <td>3</td>\n      <td>19.916667</td>\n      <td>19.451613</td>\n      <td>1240.000000</td>\n      <td>57.822581</td>\n    </tr>\n    <tr>\n      <th>41641152</th>\n      <td>d13c5aaa066f94b4927779ed24cd313b0c686f03407095...</td>\n      <td>2019-06-01 00:00:00+00:00</td>\n      <td>69.5</td>\n      <td>16080</td>\n      <td>203.50</td>\n      <td>8</td>\n      <td>25.437500</td>\n      <td>15.559701</td>\n      <td>2010.000000</td>\n      <td>45.559701</td>\n    </tr>\n  </tbody>\n</table>\n</div>"
     },
     "execution_count": 12,
     "metadata": {},
     "output_type": "execute_result"
    }
   ],
   "source": [
    "# Display features for a specific taxi_id\n",
    "trips_table_with_on_demand_feats[trips_table_with_on_demand_feats.taxi_id == id].sort_values(by=\"event_timestamp\", ascending=False)"
   ],
   "metadata": {
    "collapsed": false,
    "pycharm": {
     "name": "#%%\n"
    }
   }
  },
  {
   "cell_type": "markdown",
   "id": "439de503",
   "metadata": {
    "pycharm": {
     "name": "#%% md\n"
    }
   },
   "source": [
    "## 4. Developing dataset profiler"
   ]
  },
  {
   "cell_type": "markdown",
   "id": "488b14d9",
   "metadata": {
    "pycharm": {
     "name": "#%% md\n"
    }
   },
   "source": [
    "Dataset profiler is a function that accepts dataset and generates set of its characteristics. This charasteristics will be then used to evaluate (validate) next datasets."
   ]
  },
  {
   "cell_type": "markdown",
   "id": "32d2c8b2",
   "metadata": {
    "pycharm": {
     "name": "#%% md\n"
    }
   },
   "source": [
    "**Important: datasets are not compared to each other! \n",
    "Feast use a reference dataset and a profiler function to generate a reference profile. \n",
    "This profile will be then used during validation of the tested dataset.**"
   ]
  },
  {
   "cell_type": "code",
   "execution_count": 13,
   "id": "a46f571f",
   "metadata": {
    "pycharm": {
     "name": "#%%\n"
    }
   },
   "outputs": [
    {
     "name": "stderr",
     "output_type": "stream",
     "text": [
      "/Users/kike/opt/miniconda3/envs/feast_workshop/lib/python3.10/site-packages/great_expectations/marshmallow__shade/__init__.py:24: DeprecationWarning: distutils Version classes are deprecated. Use packaging.version instead.\n",
      "  __version_info__ = tuple(LooseVersion(__version__).version)\n"
     ]
    }
   ],
   "source": [
    "import numpy as np\n",
    "\n",
    "from feast.dqm.profilers.ge_profiler import ge_profiler\n",
    "from great_expectations.core.expectation_suite import ExpectationSuite\n",
    "from great_expectations.dataset import PandasDataset"
   ]
  },
  {
   "cell_type": "markdown",
   "id": "4d157e99",
   "metadata": {
    "pycharm": {
     "name": "#%% md\n"
    }
   },
   "source": [
    "Loading saved dataset first and exploring the data:"
   ]
  },
  {
   "cell_type": "code",
   "execution_count": 14,
   "id": "e57a229b",
   "metadata": {
    "pycharm": {
     "name": "#%%\n"
    }
   },
   "outputs": [
    {
     "name": "stderr",
     "output_type": "stream",
     "text": [
      "/Users/kike/opt/miniconda3/envs/feast_workshop/lib/python3.10/site-packages/feast/feature_store.py:1005: RuntimeWarning: Retrieving datasets is an experimental feature. This API is unstable and it could and most probably will be changed in the future. We do not guarantee that future changes will maintain backward compatibility.\n",
      "  warnings.warn(\n"
     ]
    }
   ],
   "source": [
    "ds = store.get_saved_dataset('my_training_ds')"
   ]
  },
  {
   "cell_type": "markdown",
   "id": "73feb39d",
   "metadata": {
    "pycharm": {
     "name": "#%% md\n"
    }
   },
   "source": [
    "Feast uses [Great Expectations](https://docs.greatexpectations.io/docs/) as a validation engine and [ExpectationSuite](https://legacy.docs.greatexpectations.io/en/latest/autoapi/great_expectations/core/expectation_suite/index.html#great_expectations.core.expectation_suite.ExpectationSuite) as a dataset's profile. Hence, we need to develop a function that will generate ExpectationSuite. This function will receive instance of [PandasDataset](https://legacy.docs.greatexpectations.io/en/latest/autoapi/great_expectations/dataset/index.html?highlight=pandasdataset#great_expectations.dataset.PandasDataset) (wrapper around pandas.DataFrame) so we can utilize both Pandas DataFrame API and some helper functions from PandasDataset during profiling."
   ]
  },
  {
   "cell_type": "code",
   "execution_count": 15,
   "id": "b3a8714f",
   "metadata": {
    "pycharm": {
     "name": "#%%\n"
    }
   },
   "outputs": [],
   "source": [
    "DELTA = 0.1  # controlling allowed window in fraction of the value on scale [0, 1]\n",
    "\n",
    "@ge_profiler\n",
    "def stats_profiler(ds: PandasDataset) -> ExpectationSuite:\n",
    "    # simple checks on data consistency\n",
    "    ds.expect_column_values_to_be_between(\n",
    "        \"avg_speed\",\n",
    "        min_value=0,\n",
    "        max_value=60,\n",
    "        mostly=0.99  # allow some outliers\n",
    "    )\n",
    "    \n",
    "    ds.expect_column_values_to_be_between(\n",
    "        \"total_miles_travelled\",\n",
    "        min_value=0,\n",
    "        max_value=500,\n",
    "        mostly=0.99  # allow some outliers\n",
    "    )\n",
    "    \n",
    "    # expectation of means based on observed values\n",
    "    observed_mean = ds.trip_count.mean()\n",
    "    ds.expect_column_mean_to_be_between(\"trip_count\",\n",
    "                                        min_value=observed_mean * (1 - DELTA),\n",
    "                                        max_value=observed_mean * (1 + DELTA))\n",
    "    \n",
    "    observed_mean = ds.earned_per_hour.mean()\n",
    "    ds.expect_column_mean_to_be_between(\"earned_per_hour\",\n",
    "                                        min_value=observed_mean * (1 - DELTA),\n",
    "                                        max_value=observed_mean * (1 + DELTA))\n",
    "    \n",
    "    \n",
    "    # expectation of quantiles\n",
    "    qs = [0.5, 0.75, 0.9, 0.95]\n",
    "    observed_quantiles = ds.avg_fare.quantile(qs)\n",
    "    \n",
    "    ds.expect_column_quantile_values_to_be_between(\n",
    "        \"avg_fare\",\n",
    "        quantile_ranges={\n",
    "            \"quantiles\": qs,\n",
    "            \"value_ranges\": [[None, max_value] for max_value in observed_quantiles]\n",
    "        })                                     \n",
    "    \n",
    "    return ds.get_expectation_suite()"
   ]
  },
  {
   "cell_type": "markdown",
   "id": "d3f2e171",
   "metadata": {
    "pycharm": {
     "name": "#%% md\n"
    }
   },
   "source": [
    "Testing our profiler function:"
   ]
  },
  {
   "cell_type": "code",
   "execution_count": 16,
   "id": "504e5699",
   "metadata": {
    "pycharm": {
     "name": "#%%\n"
    }
   },
   "outputs": [
    {
     "data": {
      "text/plain": "<GEProfile with expectations: [\n  {\n    \"meta\": {},\n    \"kwargs\": {\n      \"column\": \"avg_speed\",\n      \"min_value\": 0,\n      \"max_value\": 60,\n      \"mostly\": 0.99\n    },\n    \"expectation_type\": \"expect_column_values_to_be_between\"\n  },\n  {\n    \"meta\": {},\n    \"kwargs\": {\n      \"column\": \"total_miles_travelled\",\n      \"min_value\": 0,\n      \"max_value\": 500,\n      \"mostly\": 0.99\n    },\n    \"expectation_type\": \"expect_column_values_to_be_between\"\n  },\n  {\n    \"meta\": {},\n    \"kwargs\": {\n      \"column\": \"trip_count\",\n      \"min_value\": 10.387244591346153,\n      \"max_value\": 12.695521167200855\n    },\n    \"expectation_type\": \"expect_column_mean_to_be_between\"\n  },\n  {\n    \"meta\": {},\n    \"kwargs\": {\n      \"column\": \"earned_per_hour\",\n      \"min_value\": 52.32062497564023,\n      \"max_value\": 63.9474305257825\n    },\n    \"expectation_type\": \"expect_column_mean_to_be_between\"\n  },\n  {\n    \"meta\": {},\n    \"kwargs\": {\n      \"column\": \"avg_fare\",\n      \"quantile_ranges\": {\n        \"quantiles\": [\n          0.5,\n          0.75,\n          0.9,\n          0.95\n        ],\n        \"value_ranges\": [\n          [\n            null,\n            16.4\n          ],\n          [\n            null,\n            26.229166666666668\n          ],\n          [\n            null,\n            36.4375\n          ],\n          [\n            null,\n            42.0\n          ]\n        ]\n      }\n    },\n    \"expectation_type\": \"expect_column_quantile_values_to_be_between\"\n  }\n]>"
     },
     "execution_count": 16,
     "metadata": {},
     "output_type": "execute_result"
    }
   ],
   "source": [
    "ds.get_profile(profiler=stats_profiler)"
   ]
  },
  {
   "cell_type": "markdown",
   "id": "ebb184b9",
   "metadata": {
    "pycharm": {
     "name": "#%% md\n"
    }
   },
   "source": [
    "**Verify that all expectations that we coded in our profiler are present here. Otherwise (if you can't find some expectations) it means that it failed to pass on the reference dataset (do it silently is default behavior of Great Expectations).**"
   ]
  },
  {
   "cell_type": "markdown",
   "id": "32709fff",
   "metadata": {
    "pycharm": {
     "name": "#%% md\n"
    }
   },
   "source": [
    "Now we can create validation reference from dataset and profiler function:"
   ]
  },
  {
   "cell_type": "code",
   "execution_count": 17,
   "id": "3cc27606",
   "metadata": {
    "pycharm": {
     "name": "#%%\n"
    }
   },
   "outputs": [],
   "source": [
    "validation_reference = ds.as_reference(profiler=stats_profiler)"
   ]
  },
  {
   "cell_type": "markdown",
   "id": "983a9300",
   "metadata": {
    "pycharm": {
     "name": "#%% md\n"
    }
   },
   "source": [
    "and test it against our existing retrieval job"
   ]
  },
  {
   "cell_type": "code",
   "execution_count": 18,
   "id": "ba72e02a",
   "metadata": {
    "pycharm": {
     "name": "#%%\n"
    }
   },
   "outputs": [
    {
     "name": "stderr",
     "output_type": "stream",
     "text": [
      "/Users/kike/opt/miniconda3/envs/feast_workshop/lib/python3.10/site-packages/feast/infra/offline_stores/offline_store.py:93: RuntimeWarning: Dataset validation is an experimental feature. This API is unstable and it could and most probably will be changed in the future. We do not guarantee that future changes will maintain backward compatibility.\n",
      "  warnings.warn(\n"
     ]
    }
   ],
   "source": [
    "_ = job.to_df(validation_reference=validation_reference)"
   ]
  },
  {
   "cell_type": "markdown",
   "id": "e0604b9f",
   "metadata": {
    "pycharm": {
     "name": "#%% md\n"
    }
   },
   "source": [
    "Validation successfully passed as no exception were raised."
   ]
  },
  {
   "cell_type": "markdown",
   "id": "0b6d4338",
   "metadata": {
    "pycharm": {
     "name": "#%% md\n"
    }
   },
   "source": [
    "### 5. Validating new historical retrieval "
   ]
  },
  {
   "cell_type": "markdown",
   "id": "c3b16c93",
   "metadata": {
    "pycharm": {
     "name": "#%% md\n"
    }
   },
   "source": [
    "Creating new timestamps for Dec 2020:"
   ]
  },
  {
   "cell_type": "code",
   "execution_count": 19,
   "id": "25450aab",
   "metadata": {
    "pycharm": {
     "name": "#%%\n"
    }
   },
   "outputs": [],
   "source": [
    "from feast.dqm.errors import ValidationFailed"
   ]
  },
  {
   "cell_type": "code",
   "execution_count": 20,
   "id": "d7f6e892",
   "metadata": {
    "pycharm": {
     "name": "#%%\n"
    }
   },
   "outputs": [],
   "source": [
    "timestamps = pd.DataFrame()\n",
    "timestamps[\"event_timestamp\"] = pd.date_range(\"2020-12-01\", \"2020-12-07\", freq='D')"
   ]
  },
  {
   "cell_type": "code",
   "execution_count": 21,
   "id": "3a5d3b7b",
   "metadata": {
    "pycharm": {
     "name": "#%%\n"
    }
   },
   "outputs": [
    {
     "data": {
      "text/plain": "                                                 taxi_id event_timestamp\n0      91d5288487e87c5917b813ba6f75ab1c3a9749af906a2d...      2020-12-01\n1      91d5288487e87c5917b813ba6f75ab1c3a9749af906a2d...      2020-12-02\n2      91d5288487e87c5917b813ba6f75ab1c3a9749af906a2d...      2020-12-03\n3      91d5288487e87c5917b813ba6f75ab1c3a9749af906a2d...      2020-12-04\n4      91d5288487e87c5917b813ba6f75ab1c3a9749af906a2d...      2020-12-05\n...                                                  ...             ...\n35443  7ebf27414a0c7b128e7925e1da56d51a8b81484f7630cf...      2020-12-03\n35444  7ebf27414a0c7b128e7925e1da56d51a8b81484f7630cf...      2020-12-04\n35445  7ebf27414a0c7b128e7925e1da56d51a8b81484f7630cf...      2020-12-05\n35446  7ebf27414a0c7b128e7925e1da56d51a8b81484f7630cf...      2020-12-06\n35447  7ebf27414a0c7b128e7925e1da56d51a8b81484f7630cf...      2020-12-07\n\n[35448 rows x 2 columns]",
      "text/html": "<div>\n<style scoped>\n    .dataframe tbody tr th:only-of-type {\n        vertical-align: middle;\n    }\n\n    .dataframe tbody tr th {\n        vertical-align: top;\n    }\n\n    .dataframe thead th {\n        text-align: right;\n    }\n</style>\n<table border=\"1\" class=\"dataframe\">\n  <thead>\n    <tr style=\"text-align: right;\">\n      <th></th>\n      <th>taxi_id</th>\n      <th>event_timestamp</th>\n    </tr>\n  </thead>\n  <tbody>\n    <tr>\n      <th>0</th>\n      <td>91d5288487e87c5917b813ba6f75ab1c3a9749af906a2d...</td>\n      <td>2020-12-01</td>\n    </tr>\n    <tr>\n      <th>1</th>\n      <td>91d5288487e87c5917b813ba6f75ab1c3a9749af906a2d...</td>\n      <td>2020-12-02</td>\n    </tr>\n    <tr>\n      <th>2</th>\n      <td>91d5288487e87c5917b813ba6f75ab1c3a9749af906a2d...</td>\n      <td>2020-12-03</td>\n    </tr>\n    <tr>\n      <th>3</th>\n      <td>91d5288487e87c5917b813ba6f75ab1c3a9749af906a2d...</td>\n      <td>2020-12-04</td>\n    </tr>\n    <tr>\n      <th>4</th>\n      <td>91d5288487e87c5917b813ba6f75ab1c3a9749af906a2d...</td>\n      <td>2020-12-05</td>\n    </tr>\n    <tr>\n      <th>...</th>\n      <td>...</td>\n      <td>...</td>\n    </tr>\n    <tr>\n      <th>35443</th>\n      <td>7ebf27414a0c7b128e7925e1da56d51a8b81484f7630cf...</td>\n      <td>2020-12-03</td>\n    </tr>\n    <tr>\n      <th>35444</th>\n      <td>7ebf27414a0c7b128e7925e1da56d51a8b81484f7630cf...</td>\n      <td>2020-12-04</td>\n    </tr>\n    <tr>\n      <th>35445</th>\n      <td>7ebf27414a0c7b128e7925e1da56d51a8b81484f7630cf...</td>\n      <td>2020-12-05</td>\n    </tr>\n    <tr>\n      <th>35446</th>\n      <td>7ebf27414a0c7b128e7925e1da56d51a8b81484f7630cf...</td>\n      <td>2020-12-06</td>\n    </tr>\n    <tr>\n      <th>35447</th>\n      <td>7ebf27414a0c7b128e7925e1da56d51a8b81484f7630cf...</td>\n      <td>2020-12-07</td>\n    </tr>\n  </tbody>\n</table>\n<p>35448 rows × 2 columns</p>\n</div>"
     },
     "execution_count": 21,
     "metadata": {},
     "output_type": "execute_result"
    }
   ],
   "source": [
    "entity_df = pd.merge(taxi_ids, timestamps, how='cross')\n",
    "entity_df"
   ]
  },
  {
   "cell_type": "code",
   "execution_count": 22,
   "id": "5be40a91",
   "metadata": {
    "pycharm": {
     "name": "#%%\n"
    }
   },
   "outputs": [],
   "source": [
    "job = store.get_historical_features(\n",
    "    entity_df=entity_df,\n",
    "    features=[\n",
    "        \"trip_stats:total_miles_travelled\",\n",
    "        \"trip_stats:total_trip_seconds\",\n",
    "        \"trip_stats:total_earned\",\n",
    "        \"trip_stats:trip_count\",\n",
    "        \"on_demand_stats:avg_fare\",\n",
    "        \"on_demand_stats:avg_trip_seconds\",\n",
    "        \"on_demand_stats:avg_speed\",\n",
    "        \"on_demand_stats:earned_per_hour\",\n",
    "    ]\n",
    ")"
   ]
  },
  {
   "cell_type": "markdown",
   "id": "1b12295b",
   "metadata": {
    "pycharm": {
     "name": "#%% md\n"
    }
   },
   "source": [
    "Execute retrieval job with validation reference:"
   ]
  },
  {
   "cell_type": "code",
   "execution_count": 23,
   "id": "3279f2ac",
   "metadata": {
    "pycharm": {
     "name": "#%%\n"
    }
   },
   "outputs": [
    {
     "name": "stderr",
     "output_type": "stream",
     "text": [
      "/Users/kike/opt/miniconda3/envs/feast_workshop/lib/python3.10/site-packages/feast/infra/offline_stores/offline_store.py:93: RuntimeWarning: Dataset validation is an experimental feature. This API is unstable and it could and most probably will be changed in the future. We do not guarantee that future changes will maintain backward compatibility.\n",
      "  warnings.warn(\n"
     ]
    },
    {
     "name": "stdout",
     "output_type": "stream",
     "text": [
      "[\n",
      "  {\n",
      "    \"result\": {\n",
      "      \"observed_value\": 6.692920555429092,\n",
      "      \"element_count\": 4393,\n",
      "      \"missing_count\": null,\n",
      "      \"missing_percent\": null\n",
      "    },\n",
      "    \"expectation_config\": {\n",
      "      \"meta\": {},\n",
      "      \"kwargs\": {\n",
      "        \"column\": \"trip_count\",\n",
      "        \"min_value\": 10.387244591346153,\n",
      "        \"max_value\": 12.695521167200855,\n",
      "        \"result_format\": \"COMPLETE\"\n",
      "      },\n",
      "      \"expectation_type\": \"expect_column_mean_to_be_between\"\n",
      "    },\n",
      "    \"meta\": {},\n",
      "    \"exception_info\": {\n",
      "      \"raised_exception\": false,\n",
      "      \"exception_message\": null,\n",
      "      \"exception_traceback\": null\n",
      "    },\n",
      "    \"success\": false\n",
      "  },\n",
      "  {\n",
      "    \"result\": {\n",
      "      \"observed_value\": 68.99268345164135,\n",
      "      \"element_count\": 4393,\n",
      "      \"missing_count\": null,\n",
      "      \"missing_percent\": null\n",
      "    },\n",
      "    \"expectation_config\": {\n",
      "      \"meta\": {},\n",
      "      \"kwargs\": {\n",
      "        \"column\": \"earned_per_hour\",\n",
      "        \"min_value\": 52.32062497564023,\n",
      "        \"max_value\": 63.9474305257825,\n",
      "        \"result_format\": \"COMPLETE\"\n",
      "      },\n",
      "      \"expectation_type\": \"expect_column_mean_to_be_between\"\n",
      "    },\n",
      "    \"meta\": {},\n",
      "    \"exception_info\": {\n",
      "      \"raised_exception\": false,\n",
      "      \"exception_message\": null,\n",
      "      \"exception_traceback\": null\n",
      "    },\n",
      "    \"success\": false\n",
      "  },\n",
      "  {\n",
      "    \"result\": {\n",
      "      \"observed_value\": {\n",
      "        \"quantiles\": [\n",
      "          0.5,\n",
      "          0.75,\n",
      "          0.9,\n",
      "          0.95\n",
      "        ],\n",
      "        \"values\": [\n",
      "          19.5,\n",
      "          28.1,\n",
      "          38.0,\n",
      "          44.125\n",
      "        ]\n",
      "      },\n",
      "      \"element_count\": 4393,\n",
      "      \"missing_count\": null,\n",
      "      \"missing_percent\": null,\n",
      "      \"details\": {\n",
      "        \"success_details\": [\n",
      "          false,\n",
      "          false,\n",
      "          false,\n",
      "          false\n",
      "        ]\n",
      "      }\n",
      "    },\n",
      "    \"expectation_config\": {\n",
      "      \"meta\": {},\n",
      "      \"kwargs\": {\n",
      "        \"column\": \"avg_fare\",\n",
      "        \"quantile_ranges\": {\n",
      "          \"quantiles\": [\n",
      "            0.5,\n",
      "            0.75,\n",
      "            0.9,\n",
      "            0.95\n",
      "          ],\n",
      "          \"value_ranges\": [\n",
      "            [\n",
      "              null,\n",
      "              16.4\n",
      "            ],\n",
      "            [\n",
      "              null,\n",
      "              26.229166666666668\n",
      "            ],\n",
      "            [\n",
      "              null,\n",
      "              36.4375\n",
      "            ],\n",
      "            [\n",
      "              null,\n",
      "              42.0\n",
      "            ]\n",
      "          ]\n",
      "        },\n",
      "        \"result_format\": \"COMPLETE\"\n",
      "      },\n",
      "      \"expectation_type\": \"expect_column_quantile_values_to_be_between\"\n",
      "    },\n",
      "    \"meta\": {},\n",
      "    \"exception_info\": {\n",
      "      \"raised_exception\": false,\n",
      "      \"exception_message\": null,\n",
      "      \"exception_traceback\": null\n",
      "    },\n",
      "    \"success\": false\n",
      "  }\n",
      "]\n"
     ]
    }
   ],
   "source": [
    "try:\n",
    "    df = job.to_df(validation_reference=validation_reference)\n",
    "except ValidationFailed as exc:\n",
    "    print(exc.validation_report)"
   ]
  },
  {
   "cell_type": "markdown",
   "id": "516f1935",
   "metadata": {
    "pycharm": {
     "name": "#%% md\n"
    }
   },
   "source": [
    "Validation failed since several expectations didn't pass:\n",
    "* Trip count (mean) decreased more than 10% (which is expected when comparing Dec 2020 vs June 2019)\n",
    "* Average Fare increased - all quantiles are higher than expected\n",
    "* Earn per hour (mean) increased more than 10% (most probably due to increased fare)"
   ]
  },
  {
   "cell_type": "code",
   "execution_count": 23,
   "id": "cb9d59c9",
   "metadata": {
    "pycharm": {
     "name": "#%%\n"
    }
   },
   "outputs": [],
   "source": []
  }
 ],
 "metadata": {
  "kernelspec": {
   "name": "feast_workshop",
   "language": "python",
   "display_name": "feast_ws"
  },
  "language_info": {
   "codemirror_mode": {
    "name": "ipython",
    "version": 3
   },
   "file_extension": ".py",
   "mimetype": "text/x-python",
   "name": "python",
   "nbconvert_exporter": "python",
   "pygments_lexer": "ipython3",
   "version": "3.7.12"
  }
 },
 "nbformat": 4,
 "nbformat_minor": 5
}