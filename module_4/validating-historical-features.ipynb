{
 "cells": [
  {
   "cell_type": "markdown",
   "id": "e2b3e96b",
   "metadata": {
    "pycharm": {
     "name": "#%% md\n"
    }
   },
   "source": [
    "# Validating Historical Features with Great Expectations"
   ]
  },
  {
   "cell_type": "markdown",
   "id": "a07ff5f8",
   "metadata": {
    "pycharm": {
     "name": "#%% md\n"
    }
   },
   "source": [
    "![Validating Historical Features with Great Expectations](./dqm-diagram-1.png)"
   ]
  },
  {
   "cell_type": "markdown",
   "id": "98678d3b",
   "metadata": {
    "pycharm": {
     "name": "#%% md\n"
    }
   },
   "source": [
    "In this tutorial, we will use the public dataset of Chicago taxi trips to present data validation capabilities of Feast. The original dataset is stored in BigQuery and consists of raw data for each taxi trip (one row per trip) since 2013. We will generate several training datasets (aka historical features in Feast) for different periods and evaluate expectations made on one dataset against another. Our features will represent aggregations of raw data with daily intervals (eg, trips per day, average fare or speed for a specific day, etc.). We will craft some features using SQL while pulling data from BigQuery (like total trips time or total miles travelled). Another chunk of features will be implemented using Feast's on-demand transformations - features calculated on the fly when requested."
   ]
  },
  {
   "cell_type": "markdown",
   "id": "817a81e7",
   "metadata": {
    "pycharm": {
     "name": "#%% md\n"
    }
   },
   "source": [
    "Our plan:\n",
    "\n",
    "0. Prepare environment\n",
    "1. Pull data from BigQuery (optional)\n",
    "2. Declare & apply features and feature views in Feast\n",
    "3. Generate reference dataset\n",
    "4. Develop & test profiler function\n",
    "5. Run validation on different dataset using reference dataset & profiler"
   ]
  },
  {
   "cell_type": "markdown",
   "id": "9b66b943",
   "metadata": {
    "pycharm": {
     "name": "#%% md\n"
    }
   },
   "source": [
    "### 0. Setup"
   ]
  },
  {
   "cell_type": "markdown",
   "id": "30caf020",
   "metadata": {
    "pycharm": {
     "name": "#%% md\n"
    }
   },
   "source": [
    "Install Feast Python SDK and great expectations:"
   ]
  },
  {
   "cell_type": "code",
   "execution_count": 1,
   "id": "706e67d7",
   "metadata": {
    "pycharm": {
     "name": "#%%\n"
    }
   },
   "outputs": [],
   "source": [
    "#!pip install 'feast[ge]'"
   ]
  },
  {
   "cell_type": "markdown",
   "id": "93dbebd8",
   "metadata": {
    "pycharm": {
     "name": "#%% md\n"
    }
   },
   "source": [
    "### 1. Dataset preparation (Optional) "
   ]
  },
  {
   "cell_type": "markdown",
   "id": "e875bb35",
   "metadata": {
    "pycharm": {
     "name": "#%% md\n"
    }
   },
   "source": [
    "**You can skip this step if you don't have GCP account. Please use parquet files that are coming with this tutorial instead**"
   ]
  },
  {
   "cell_type": "markdown",
   "source": [
    "!pip install google-cloud-bigquery\n",
    "import pyarrow.parquet\n",
    "from google.cloud.bigquery import Client\n",
    "bq_client = Client(project='kf-feast')\n",
    "Running some basic aggregations while pulling data from BigQuery. Grouping by taxi_id and day:\n",
    "data_query = \"\"\"SELECT\n",
    "    taxi_id,\n",
    "    TIMESTAMP_TRUNC(trip_start_timestamp, DAY) as day,\n",
    "    SUM(trip_miles) as total_miles_travelled,\n",
    "    SUM(trip_seconds) as total_trip_seconds,\n",
    "    SUM(fare) as total_earned,\n",
    "    COUNT(*) as trip_count\n",
    "FROM `bigquery-public-data.chicago_taxi_trips.taxi_trips`\n",
    "WHERE\n",
    "    trip_miles > 0 AND trip_seconds > 60 AND\n",
    "    trip_start_timestamp BETWEEN '2019-01-01' and '2020-12-31' AND\n",
    "    trip_total < 1000\n",
    "GROUP BY taxi_id, TIMESTAMP_TRUNC(trip_start_timestamp, DAY)\"\"\"\n",
    "driver_stats_table = bq_client.query(data_query).to_arrow()\n",
    "\n",
    "# Storing resulting dataset into parquet file\n",
    "pyarrow.parquet.write_table(driver_stats_table, \"trips_stats.parquet\")\n",
    "def entities_query(year):\n",
    "    return f\"\"\"SELECT\n",
    "    distinct taxi_id\n",
    "FROM `bigquery-public-data.chicago_taxi_trips.taxi_trips`\n",
    "WHERE\n",
    "    trip_miles > 0 AND trip_seconds > 0 AND\n",
    "    trip_start_timestamp BETWEEN '{year}-01-01' and '{year}-12-31'\n",
    "\"\"\"\n",
    "entities_2019_table = bq_client.query(entities_query(2019)).to_arrow()\n",
    "\n",
    "# Storing entities (taxi ids) into parquet file\n",
    "pyarrow.parquet.write_table(entities_2019_table, \"entities.parquet\")\n",
    "#entities_2020_table = bq_client.query(entities_query(2020)).to_arrow()\n",
    "#pyarrow.parquet.write_table(entities_2019_table, \"entities_2020.parquet\")"
   ],
   "metadata": {
    "collapsed": false,
    "pycharm": {
     "name": "#%% md\n"
    }
   }
  },
  {
   "cell_type": "markdown",
   "id": "3b5faba1",
   "metadata": {
    "pycharm": {
     "name": "#%% md\n"
    }
   },
   "source": [
    "## 2. Declaring features"
   ]
  },
  {
   "cell_type": "code",
   "execution_count": 2,
   "id": "19cd609c",
   "metadata": {
    "pycharm": {
     "name": "#%%\n"
    }
   },
   "outputs": [],
   "source": [
    "import pyarrow.parquet\n",
    "import pandas as pd\n",
    "from feast import Feature, FeatureView, Entity, FeatureStore\n",
    "from feast.value_type import ValueType\n",
    "from feast.data_format import ParquetFormat\n",
    "from feast.on_demand_feature_view import on_demand_feature_view\n",
    "from feast.infra.offline_stores.file_source import FileSource\n",
    "from feast.infra.offline_stores.file import SavedDatasetFileStorage\n",
    "from google.protobuf.duration_pb2 import Duration"
   ]
  },
  {
   "cell_type": "code",
   "execution_count": 3,
   "outputs": [
    {
     "data": {
      "text/plain": "                                             taxi_id  \\\n0  9b2a23587b25fe43998076b3761b979ee91f9f5ac8bdac...   \n1  26211b46f6f6c6987bee5e2062934ba8692bced4811d1a...   \n2  018adeb3e0e0f1b8c78f37c4b99735005ea7acfe800ab8...   \n3  c8549ac4a2842a038f2a5b91ecf894ca7cb04d60558be3...   \n4  2780ead18beaa862cc67315ddabd9d1acaadcd6da82eba...   \n\n                        day  total_miles_travelled  total_trip_seconds  \\\n0 2019-04-30 00:00:00+00:00                  31.04               15523   \n1 2019-04-05 00:00:00+00:00                  88.21               16757   \n2 2020-02-05 00:00:00+00:00                  39.69               14331   \n3 2020-02-26 00:00:00+00:00                  46.74               15535   \n4 2020-02-20 00:00:00+00:00                  86.40               21749   \n\n   total_earned  trip_count  \n0        207.00          31  \n1        331.50          33  \n2        233.00          36  \n3        235.25          30  \n4        353.25          38  ",
      "text/html": "<div>\n<style scoped>\n    .dataframe tbody tr th:only-of-type {\n        vertical-align: middle;\n    }\n\n    .dataframe tbody tr th {\n        vertical-align: top;\n    }\n\n    .dataframe thead th {\n        text-align: right;\n    }\n</style>\n<table border=\"1\" class=\"dataframe\">\n  <thead>\n    <tr style=\"text-align: right;\">\n      <th></th>\n      <th>taxi_id</th>\n      <th>day</th>\n      <th>total_miles_travelled</th>\n      <th>total_trip_seconds</th>\n      <th>total_earned</th>\n      <th>trip_count</th>\n    </tr>\n  </thead>\n  <tbody>\n    <tr>\n      <th>0</th>\n      <td>9b2a23587b25fe43998076b3761b979ee91f9f5ac8bdac...</td>\n      <td>2019-04-30 00:00:00+00:00</td>\n      <td>31.04</td>\n      <td>15523</td>\n      <td>207.00</td>\n      <td>31</td>\n    </tr>\n    <tr>\n      <th>1</th>\n      <td>26211b46f6f6c6987bee5e2062934ba8692bced4811d1a...</td>\n      <td>2019-04-05 00:00:00+00:00</td>\n      <td>88.21</td>\n      <td>16757</td>\n      <td>331.50</td>\n      <td>33</td>\n    </tr>\n    <tr>\n      <th>2</th>\n      <td>018adeb3e0e0f1b8c78f37c4b99735005ea7acfe800ab8...</td>\n      <td>2020-02-05 00:00:00+00:00</td>\n      <td>39.69</td>\n      <td>14331</td>\n      <td>233.00</td>\n      <td>36</td>\n    </tr>\n    <tr>\n      <th>3</th>\n      <td>c8549ac4a2842a038f2a5b91ecf894ca7cb04d60558be3...</td>\n      <td>2020-02-26 00:00:00+00:00</td>\n      <td>46.74</td>\n      <td>15535</td>\n      <td>235.25</td>\n      <td>30</td>\n    </tr>\n    <tr>\n      <th>4</th>\n      <td>2780ead18beaa862cc67315ddabd9d1acaadcd6da82eba...</td>\n      <td>2020-02-20 00:00:00+00:00</td>\n      <td>86.40</td>\n      <td>21749</td>\n      <td>353.25</td>\n      <td>38</td>\n    </tr>\n  </tbody>\n</table>\n</div>"
     },
     "execution_count": 3,
     "metadata": {},
     "output_type": "execute_result"
    }
   ],
   "source": [
    "df = pd.read_parquet(\"trips_stats.parquet\")\n",
    "df.head(5)"
   ],
   "metadata": {
    "collapsed": false,
    "pycharm": {
     "name": "#%%\n"
    }
   }
  },
  {
   "cell_type": "code",
   "execution_count": 26,
   "outputs": [
    {
     "data": {
      "text/plain": "                                                   taxi_id  \\\n746606   d13c5aaa066f94b4927779ed24cd313b0c686f03407095...   \n1484460  d13c5aaa066f94b4927779ed24cd313b0c686f03407095...   \n877317   d13c5aaa066f94b4927779ed24cd313b0c686f03407095...   \n109519   d13c5aaa066f94b4927779ed24cd313b0c686f03407095...   \n984363   d13c5aaa066f94b4927779ed24cd313b0c686f03407095...   \n...                                                    ...   \n922475   d13c5aaa066f94b4927779ed24cd313b0c686f03407095...   \n1118291  d13c5aaa066f94b4927779ed24cd313b0c686f03407095...   \n1008498  d13c5aaa066f94b4927779ed24cd313b0c686f03407095...   \n1068987  d13c5aaa066f94b4927779ed24cd313b0c686f03407095...   \n1149410  d13c5aaa066f94b4927779ed24cd313b0c686f03407095...   \n\n                              day  total_miles_travelled  total_trip_seconds  \\\n746606  2019-01-02 00:00:00+00:00                   17.8                3420   \n1484460 2019-01-03 00:00:00+00:00                   25.3                7860   \n877317  2019-01-04 00:00:00+00:00                   32.4                6540   \n109519  2019-01-05 00:00:00+00:00                    1.2                 540   \n984363  2019-01-07 00:00:00+00:00                   11.4                3780   \n...                           ...                    ...                 ...   \n922475  2020-03-09 00:00:00+00:00                   21.8                6300   \n1118291 2020-03-10 00:00:00+00:00                   21.8                6360   \n1008498 2020-03-11 00:00:00+00:00                   14.9                4800   \n1068987 2020-03-12 00:00:00+00:00                   23.2                6420   \n1149410 2020-03-13 00:00:00+00:00                   12.9                4320   \n\n         total_earned  trip_count  \n746606          67.50           7  \n1484460        132.50          19  \n877317         116.00           9  \n109519          10.25           2  \n984363          66.75          10  \n...               ...         ...  \n922475          89.75           9  \n1118291        101.00          12  \n1008498         76.50          10  \n1068987         99.50          11  \n1149410         75.50          12  \n\n[305 rows x 6 columns]",
      "text/html": "<div>\n<style scoped>\n    .dataframe tbody tr th:only-of-type {\n        vertical-align: middle;\n    }\n\n    .dataframe tbody tr th {\n        vertical-align: top;\n    }\n\n    .dataframe thead th {\n        text-align: right;\n    }\n</style>\n<table border=\"1\" class=\"dataframe\">\n  <thead>\n    <tr style=\"text-align: right;\">\n      <th></th>\n      <th>taxi_id</th>\n      <th>day</th>\n      <th>total_miles_travelled</th>\n      <th>total_trip_seconds</th>\n      <th>total_earned</th>\n      <th>trip_count</th>\n    </tr>\n  </thead>\n  <tbody>\n    <tr>\n      <th>746606</th>\n      <td>d13c5aaa066f94b4927779ed24cd313b0c686f03407095...</td>\n      <td>2019-01-02 00:00:00+00:00</td>\n      <td>17.8</td>\n      <td>3420</td>\n      <td>67.50</td>\n      <td>7</td>\n    </tr>\n    <tr>\n      <th>1484460</th>\n      <td>d13c5aaa066f94b4927779ed24cd313b0c686f03407095...</td>\n      <td>2019-01-03 00:00:00+00:00</td>\n      <td>25.3</td>\n      <td>7860</td>\n      <td>132.50</td>\n      <td>19</td>\n    </tr>\n    <tr>\n      <th>877317</th>\n      <td>d13c5aaa066f94b4927779ed24cd313b0c686f03407095...</td>\n      <td>2019-01-04 00:00:00+00:00</td>\n      <td>32.4</td>\n      <td>6540</td>\n      <td>116.00</td>\n      <td>9</td>\n    </tr>\n    <tr>\n      <th>109519</th>\n      <td>d13c5aaa066f94b4927779ed24cd313b0c686f03407095...</td>\n      <td>2019-01-05 00:00:00+00:00</td>\n      <td>1.2</td>\n      <td>540</td>\n      <td>10.25</td>\n      <td>2</td>\n    </tr>\n    <tr>\n      <th>984363</th>\n      <td>d13c5aaa066f94b4927779ed24cd313b0c686f03407095...</td>\n      <td>2019-01-07 00:00:00+00:00</td>\n      <td>11.4</td>\n      <td>3780</td>\n      <td>66.75</td>\n      <td>10</td>\n    </tr>\n    <tr>\n      <th>...</th>\n      <td>...</td>\n      <td>...</td>\n      <td>...</td>\n      <td>...</td>\n      <td>...</td>\n      <td>...</td>\n    </tr>\n    <tr>\n      <th>922475</th>\n      <td>d13c5aaa066f94b4927779ed24cd313b0c686f03407095...</td>\n      <td>2020-03-09 00:00:00+00:00</td>\n      <td>21.8</td>\n      <td>6300</td>\n      <td>89.75</td>\n      <td>9</td>\n    </tr>\n    <tr>\n      <th>1118291</th>\n      <td>d13c5aaa066f94b4927779ed24cd313b0c686f03407095...</td>\n      <td>2020-03-10 00:00:00+00:00</td>\n      <td>21.8</td>\n      <td>6360</td>\n      <td>101.00</td>\n      <td>12</td>\n    </tr>\n    <tr>\n      <th>1008498</th>\n      <td>d13c5aaa066f94b4927779ed24cd313b0c686f03407095...</td>\n      <td>2020-03-11 00:00:00+00:00</td>\n      <td>14.9</td>\n      <td>4800</td>\n      <td>76.50</td>\n      <td>10</td>\n    </tr>\n    <tr>\n      <th>1068987</th>\n      <td>d13c5aaa066f94b4927779ed24cd313b0c686f03407095...</td>\n      <td>2020-03-12 00:00:00+00:00</td>\n      <td>23.2</td>\n      <td>6420</td>\n      <td>99.50</td>\n      <td>11</td>\n    </tr>\n    <tr>\n      <th>1149410</th>\n      <td>d13c5aaa066f94b4927779ed24cd313b0c686f03407095...</td>\n      <td>2020-03-13 00:00:00+00:00</td>\n      <td>12.9</td>\n      <td>4320</td>\n      <td>75.50</td>\n      <td>12</td>\n    </tr>\n  </tbody>\n</table>\n<p>305 rows × 6 columns</p>\n</div>"
     },
     "execution_count": 26,
     "metadata": {},
     "output_type": "execute_result"
    }
   ],
   "source": [
    "df[df.taxi_id == 'd13c5aaa066f94b4927779ed24cd313b0c686f03407095cf5daa4c227d411eb5049a5b1ce8ff07157f9641e0e863be971c9d24bc3ef3f89857d7788fef397242'].sort_values(by=\"day\")"
   ],
   "metadata": {
    "collapsed": false,
    "pycharm": {
     "name": "#%%\n"
    }
   }
  },
  {
   "cell_type": "code",
   "execution_count": 4,
   "id": "79ff6a81",
   "metadata": {
    "pycharm": {
     "name": "#%%\n"
    }
   },
   "outputs": [
    {
     "name": "stderr",
     "output_type": "stream",
     "text": [
      "/Users/kike/opt/miniconda3/envs/feast/lib/python3.8/site-packages/feast/data_source.py:229: DeprecationWarning: The argument 'event_timestamp_column' is being deprecated. Please use 'timestamp_field' instead. instead. Feast 0.23 and onwards will not support the argument 'event_timestamp_column' for datasources.\n",
      "  warnings.warn(\n",
      "/Users/kike/opt/miniconda3/envs/feast/lib/python3.8/site-packages/feast/entity.py:110: DeprecationWarning: The `join_key` parameter is being deprecated in favor of the `join_keys` parameter. Please switch from using `join_key` to `join_keys`. Feast 0.23 and onwards will not support the `join_key` parameter.\n",
      "  warnings.warn(\n",
      "/Users/kike/opt/miniconda3/envs/feast/lib/python3.8/site-packages/feast/feature_view.py:256: DeprecationWarning: batch_source and stream_source have been deprecated in favor of `source`.The deprecated fields will be removed in Feast 0.23.\n",
      "  warnings.warn(\n",
      "/Users/kike/opt/miniconda3/envs/feast/lib/python3.8/site-packages/feast/feature_view.py:180: DeprecationWarning: The option to pass a Duration object to the ttl parameter is being deprecated. Please pass a timedelta object instead. Feast 0.23 and onwards will not support Duration objects.\n",
      "  warnings.warn(\n",
      "/Users/kike/opt/miniconda3/envs/feast/lib/python3.8/site-packages/feast/feature_view.py:194: DeprecationWarning: The `features` parameter is being deprecated in favor of the `schema` parameter. Please switch from using `features` to `schema`. This will also requiring switching feature definitions from using `Feature` to `Field`. Feast 0.23 and onwards will not support the `features` parameter.\n",
      "  warnings.warn(\n"
     ]
    }
   ],
   "source": [
    "batch_source = FileSource(\n",
    "    event_timestamp_column=\"day\",\n",
    "    path=\"trips_stats.parquet\",  # using parquet file that we created on previous step\n",
    "    file_format=ParquetFormat()\n",
    ")\n",
    "taxi_entity = Entity(name='taxi', join_key='taxi_id')\n",
    "trips_stats_fv = FeatureView(\n",
    "    name='trip_stats',\n",
    "    entities=['taxi'],\n",
    "    features=[\n",
    "        Feature(\"total_miles_travelled\", ValueType.DOUBLE),\n",
    "        Feature(\"total_trip_seconds\", ValueType.DOUBLE),\n",
    "        Feature(\"total_earned\", ValueType.DOUBLE),\n",
    "        Feature(\"trip_count\", ValueType.INT64),\n",
    "\n",
    "    ],\n",
    "    ttl=Duration(seconds=86400), # 86400 sec = 1day\n",
    "    batch_source=batch_source,\n",
    ")"
   ]
  },
  {
   "cell_type": "markdown",
   "id": "d52b1567",
   "metadata": {
    "pycharm": {
     "name": "#%% md\n"
    }
   },
   "source": [
    "*Read more about feature views in [Feast docs](https://docs.feast.dev/getting-started/concepts/feature-view)*"
   ]
  },
  {
   "cell_type": "code",
   "execution_count": 7,
   "id": "d706f6b6",
   "metadata": {
    "pycharm": {
     "name": "#%%\n"
    }
   },
   "outputs": [
    {
     "name": "stderr",
     "output_type": "stream",
     "text": [
      "/Users/kike/opt/miniconda3/envs/feast/lib/python3.8/site-packages/feast/on_demand_feature_view.py:559: DeprecationWarning: The `features` parameter is being deprecated in favor of the `schema` parameter. Please switch from using `features` to `schema`. This will also requiring switching feature definitions from using `Feature` to `Field`. Feast 0.23 and onwards will not support the `features` parameter.\n",
      "  warnings.warn(\n"
     ]
    }
   ],
   "source": [
    "@on_demand_feature_view(\n",
    "    features=[\n",
    "        Feature(\"avg_fare\", ValueType.DOUBLE),\n",
    "        Feature(\"avg_speed\", ValueType.DOUBLE),\n",
    "        Feature(\"avg_trip_seconds\", ValueType.DOUBLE),\n",
    "        Feature(\"earned_per_hour\", ValueType.DOUBLE),\n",
    "    ],\n",
    "    sources=[trips_stats_fv]\n",
    ")\n",
    "\n",
    "def on_demand_stats(inp):\n",
    "    out = pd.DataFrame()\n",
    "    out[\"avg_fare\"] = inp[\"total_earned\"] / inp[\"trip_count\"]\n",
    "    out[\"avg_speed\"] = 3600 * inp[\"total_miles_travelled\"] / inp[\"total_trip_seconds\"]\n",
    "    out[\"avg_trip_seconds\"] = inp[\"total_trip_seconds\"] / inp[\"trip_count\"]\n",
    "    out[\"earned_per_hour\"] = 3600 * inp[\"total_earned\"] / inp[\"total_trip_seconds\"]\n",
    "    return out"
   ]
  },
  {
   "cell_type": "markdown",
   "id": "bcff9a2e",
   "metadata": {
    "pycharm": {
     "name": "#%% md\n"
    }
   },
   "source": [
    "*Read more about on demand feature views [here](https://docs.feast.dev/reference/alpha-on-demand-feature-view)*"
   ]
  },
  {
   "cell_type": "code",
   "execution_count": 8,
   "id": "be0c72e7",
   "metadata": {
    "pycharm": {
     "name": "#%%\n"
    }
   },
   "outputs": [],
   "source": [
    "store = FeatureStore(\".\")  # using feature_store.yaml that stored in the same directory"
   ]
  },
  {
   "cell_type": "code",
   "execution_count": 9,
   "outputs": [],
   "source": [
    "store.apply([taxi_entity, trips_stats_fv, on_demand_stats])  # writing to the registry"
   ],
   "metadata": {
    "collapsed": false,
    "pycharm": {
     "name": "#%%\n"
    }
   }
  },
  {
   "cell_type": "markdown",
   "id": "45de2545",
   "metadata": {
    "pycharm": {
     "name": "#%% md\n"
    }
   },
   "source": [
    "## 3. Generating training (reference) dataset"
   ]
  },
  {
   "cell_type": "code",
   "execution_count": 10,
   "id": "03ba0273",
   "metadata": {
    "pycharm": {
     "name": "#%%\n"
    }
   },
   "outputs": [],
   "source": [
    "taxi_ids = pyarrow.parquet.read_table(\"entities.parquet\").to_pandas()"
   ]
  },
  {
   "cell_type": "markdown",
   "id": "ee72c332",
   "metadata": {
    "pycharm": {
     "name": "#%% md\n"
    }
   },
   "source": [
    "Generating range of timestamps with daily frequency:"
   ]
  },
  {
   "cell_type": "code",
   "execution_count": 11,
   "outputs": [
    {
     "data": {
      "text/plain": "                                             taxi_id\n0  91d5288487e87c5917b813ba6f75ab1c3a9749af906a2d...\n1  9d5308a039a77963ed44f4b4435abd45f28eb7c4eb7669...\n2  2d411799ad37a21a76e73cab9a4ec254f551ba45761f4e...\n3  a36483657911ff455df8757d429c4c7cc1d720b6ef8f4a...\n4  e97ff21e0c8f655aa03ec62fbccdf33578a21516535ce7...",
      "text/html": "<div>\n<style scoped>\n    .dataframe tbody tr th:only-of-type {\n        vertical-align: middle;\n    }\n\n    .dataframe tbody tr th {\n        vertical-align: top;\n    }\n\n    .dataframe thead th {\n        text-align: right;\n    }\n</style>\n<table border=\"1\" class=\"dataframe\">\n  <thead>\n    <tr style=\"text-align: right;\">\n      <th></th>\n      <th>taxi_id</th>\n    </tr>\n  </thead>\n  <tbody>\n    <tr>\n      <th>0</th>\n      <td>91d5288487e87c5917b813ba6f75ab1c3a9749af906a2d...</td>\n    </tr>\n    <tr>\n      <th>1</th>\n      <td>9d5308a039a77963ed44f4b4435abd45f28eb7c4eb7669...</td>\n    </tr>\n    <tr>\n      <th>2</th>\n      <td>2d411799ad37a21a76e73cab9a4ec254f551ba45761f4e...</td>\n    </tr>\n    <tr>\n      <th>3</th>\n      <td>a36483657911ff455df8757d429c4c7cc1d720b6ef8f4a...</td>\n    </tr>\n    <tr>\n      <th>4</th>\n      <td>e97ff21e0c8f655aa03ec62fbccdf33578a21516535ce7...</td>\n    </tr>\n  </tbody>\n</table>\n</div>"
     },
     "execution_count": 11,
     "metadata": {},
     "output_type": "execute_result"
    }
   ],
   "source": [
    "taxi_ids.head(5)"
   ],
   "metadata": {
    "collapsed": false,
    "pycharm": {
     "name": "#%%\n"
    }
   }
  },
  {
   "cell_type": "code",
   "execution_count": 15,
   "outputs": [
    {
     "data": {
      "text/plain": "(5064, 1)"
     },
     "execution_count": 15,
     "metadata": {},
     "output_type": "execute_result"
    }
   ],
   "source": [
    "taxi_ids.shape"
   ],
   "metadata": {
    "collapsed": false,
    "pycharm": {
     "name": "#%%\n"
    }
   }
  },
  {
   "cell_type": "code",
   "execution_count": 13,
   "id": "a558e4b8",
   "metadata": {
    "pycharm": {
     "name": "#%%\n"
    }
   },
   "outputs": [
    {
     "data": {
      "text/plain": "  event_timestamp\n0      2019-06-01\n1      2019-06-02\n2      2019-06-03\n3      2019-06-04\n4      2019-06-05",
      "text/html": "<div>\n<style scoped>\n    .dataframe tbody tr th:only-of-type {\n        vertical-align: middle;\n    }\n\n    .dataframe tbody tr th {\n        vertical-align: top;\n    }\n\n    .dataframe thead th {\n        text-align: right;\n    }\n</style>\n<table border=\"1\" class=\"dataframe\">\n  <thead>\n    <tr style=\"text-align: right;\">\n      <th></th>\n      <th>event_timestamp</th>\n    </tr>\n  </thead>\n  <tbody>\n    <tr>\n      <th>0</th>\n      <td>2019-06-01</td>\n    </tr>\n    <tr>\n      <th>1</th>\n      <td>2019-06-02</td>\n    </tr>\n    <tr>\n      <th>2</th>\n      <td>2019-06-03</td>\n    </tr>\n    <tr>\n      <th>3</th>\n      <td>2019-06-04</td>\n    </tr>\n    <tr>\n      <th>4</th>\n      <td>2019-06-05</td>\n    </tr>\n  </tbody>\n</table>\n</div>"
     },
     "execution_count": 13,
     "metadata": {},
     "output_type": "execute_result"
    }
   ],
   "source": [
    "timestamps = pd.DataFrame()\n",
    "timestamps[\"event_timestamp\"] = pd.date_range(\"2019-06-01\", \"2019-07-01\", freq='D')\n",
    "timestamps.head(5)"
   ]
  },
  {
   "cell_type": "code",
   "execution_count": 16,
   "outputs": [
    {
     "data": {
      "text/plain": "(31, 1)"
     },
     "execution_count": 16,
     "metadata": {},
     "output_type": "execute_result"
    }
   ],
   "source": [
    "timestamps.shape"
   ],
   "metadata": {
    "collapsed": false,
    "pycharm": {
     "name": "#%%\n"
    }
   }
  },
  {
   "cell_type": "markdown",
   "id": "e6db6725",
   "metadata": {
    "pycharm": {
     "name": "#%% md\n"
    }
   },
   "source": [
    "Cross merge (aka relation multiplication) produces entity dataframe with each taxi_id repeated for each timestamp:"
   ]
  },
  {
   "cell_type": "code",
   "execution_count": 14,
   "id": "2f6ca83c",
   "metadata": {
    "pycharm": {
     "name": "#%%\n"
    }
   },
   "outputs": [
    {
     "data": {
      "text/plain": "                                             taxi_id event_timestamp\n0  91d5288487e87c5917b813ba6f75ab1c3a9749af906a2d...      2019-06-01\n1  91d5288487e87c5917b813ba6f75ab1c3a9749af906a2d...      2019-06-02\n2  91d5288487e87c5917b813ba6f75ab1c3a9749af906a2d...      2019-06-03\n3  91d5288487e87c5917b813ba6f75ab1c3a9749af906a2d...      2019-06-04\n4  91d5288487e87c5917b813ba6f75ab1c3a9749af906a2d...      2019-06-05",
      "text/html": "<div>\n<style scoped>\n    .dataframe tbody tr th:only-of-type {\n        vertical-align: middle;\n    }\n\n    .dataframe tbody tr th {\n        vertical-align: top;\n    }\n\n    .dataframe thead th {\n        text-align: right;\n    }\n</style>\n<table border=\"1\" class=\"dataframe\">\n  <thead>\n    <tr style=\"text-align: right;\">\n      <th></th>\n      <th>taxi_id</th>\n      <th>event_timestamp</th>\n    </tr>\n  </thead>\n  <tbody>\n    <tr>\n      <th>0</th>\n      <td>91d5288487e87c5917b813ba6f75ab1c3a9749af906a2d...</td>\n      <td>2019-06-01</td>\n    </tr>\n    <tr>\n      <th>1</th>\n      <td>91d5288487e87c5917b813ba6f75ab1c3a9749af906a2d...</td>\n      <td>2019-06-02</td>\n    </tr>\n    <tr>\n      <th>2</th>\n      <td>91d5288487e87c5917b813ba6f75ab1c3a9749af906a2d...</td>\n      <td>2019-06-03</td>\n    </tr>\n    <tr>\n      <th>3</th>\n      <td>91d5288487e87c5917b813ba6f75ab1c3a9749af906a2d...</td>\n      <td>2019-06-04</td>\n    </tr>\n    <tr>\n      <th>4</th>\n      <td>91d5288487e87c5917b813ba6f75ab1c3a9749af906a2d...</td>\n      <td>2019-06-05</td>\n    </tr>\n  </tbody>\n</table>\n</div>"
     },
     "execution_count": 14,
     "metadata": {},
     "output_type": "execute_result"
    }
   ],
   "source": [
    "entity_df = pd.merge(taxi_ids, timestamps, how='cross')\n",
    "entity_df.head(5)"
   ]
  },
  {
   "cell_type": "code",
   "execution_count": 17,
   "outputs": [
    {
     "data": {
      "text/plain": "(156984, 2)"
     },
     "execution_count": 17,
     "metadata": {},
     "output_type": "execute_result"
    }
   ],
   "source": [
    "entity_df.shape"
   ],
   "metadata": {
    "collapsed": false,
    "pycharm": {
     "name": "#%%\n"
    }
   }
  },
  {
   "cell_type": "code",
   "execution_count": 18,
   "outputs": [
    {
     "data": {
      "text/plain": "156984"
     },
     "execution_count": 18,
     "metadata": {},
     "output_type": "execute_result"
    }
   ],
   "source": [
    "timestamps.shape[0] * taxi_ids.shape[0] # entity_df is the Cartesian product those dataframes"
   ],
   "metadata": {
    "collapsed": false,
    "pycharm": {
     "name": "#%%\n"
    }
   }
  },
  {
   "cell_type": "markdown",
   "id": "e2f39876",
   "metadata": {
    "pycharm": {
     "name": "#%% md\n"
    }
   },
   "source": [
    "Retrieving historical features for resulting entity dataframe and persisting output as a saved dataset:"
   ]
  },
  {
   "cell_type": "code",
   "execution_count": 19,
   "id": "2c4af1e4",
   "metadata": {
    "pycharm": {
     "name": "#%%\n"
    }
   },
   "outputs": [
    {
     "name": "stderr",
     "output_type": "stream",
     "text": [
      "/Users/kike/opt/miniconda3/envs/feast/lib/python3.8/site-packages/feast/feature_store.py:952: RuntimeWarning: Saving dataset is an experimental feature. This API is unstable and it could and most probably will be changed in the future. We do not guarantee that future changes will maintain backward compatibility.\n",
      "  warnings.warn(\n"
     ]
    },
    {
     "data": {
      "text/plain": "<SavedDataset(name = my_training_ds, features = ['trip_stats:total_miles_travelled', 'trip_stats:total_trip_seconds', 'trip_stats:total_earned', 'trip_stats:trip_count', 'on_demand_stats:avg_fare', 'on_demand_stats:avg_trip_seconds', 'on_demand_stats:avg_speed', 'on_demand_stats:earned_per_hour'], join_keys = ['taxi_id'], storage = <feast.infra.offline_stores.file_source.SavedDatasetFileStorage object at 0x7f9752931340>, full_feature_names = False, tags = {}, feature_service_name = None, _retrieval_job = <feast.infra.offline_stores.file.FileRetrievalJob object at 0x7f9770643d90>, min_event_timestamp = 2019-06-01 00:00:00, max_event_timestamp = 2019-07-01 00:00:00, created_timestamp = 2022-06-08 13:36:29.652232, last_updated_timestamp = 2022-06-08 13:36:29.652232)>"
     },
     "execution_count": 19,
     "metadata": {},
     "output_type": "execute_result"
    }
   ],
   "source": [
    "job = store.get_historical_features(\n",
    "    entity_df=entity_df,\n",
    "    features=[\n",
    "        \"trip_stats:total_miles_travelled\",\n",
    "        \"trip_stats:total_trip_seconds\",\n",
    "        \"trip_stats:total_earned\",\n",
    "        \"trip_stats:trip_count\",\n",
    "        \"on_demand_stats:avg_fare\",\n",
    "        \"on_demand_stats:avg_trip_seconds\",\n",
    "        \"on_demand_stats:avg_speed\",\n",
    "        \"on_demand_stats:earned_per_hour\",\n",
    "    ]\n",
    ")\n",
    "\n",
    "store.create_saved_dataset(\n",
    "    from_=job,\n",
    "    name='my_training_ds',\n",
    "    storage=SavedDatasetFileStorage(path='my_training_ds.parquet')\n",
    ")"
   ]
  },
  {
   "cell_type": "markdown",
   "id": "439de503",
   "metadata": {
    "pycharm": {
     "name": "#%% md\n"
    }
   },
   "source": [
    "## 4. Developing dataset profiler"
   ]
  },
  {
   "cell_type": "markdown",
   "id": "488b14d9",
   "metadata": {
    "pycharm": {
     "name": "#%% md\n"
    }
   },
   "source": [
    "Dataset profiler is a function that accepts dataset and generates set of its characteristics. This charasteristics will be then used to evaluate (validate) next datasets."
   ]
  },
  {
   "cell_type": "markdown",
   "id": "32d2c8b2",
   "metadata": {
    "pycharm": {
     "name": "#%% md\n"
    }
   },
   "source": [
    "**Important: datasets are not compared to each other! \n",
    "Feast use a reference dataset and a profiler function to generate a reference profile. \n",
    "This profile will be then used during validation of the tested dataset.**"
   ]
  },
  {
   "cell_type": "code",
   "execution_count": 20,
   "id": "a46f571f",
   "metadata": {
    "pycharm": {
     "name": "#%%\n"
    }
   },
   "outputs": [
    {
     "name": "stderr",
     "output_type": "stream",
     "text": [
      "/Users/kike/opt/miniconda3/envs/feast/lib/python3.8/site-packages/great_expectations/marshmallow__shade/__init__.py:24: DeprecationWarning: distutils Version classes are deprecated. Use packaging.version instead.\n",
      "  __version_info__ = tuple(LooseVersion(__version__).version)\n"
     ]
    }
   ],
   "source": [
    "import numpy as np\n",
    "\n",
    "from feast.dqm.profilers.ge_profiler import ge_profiler\n",
    "\n",
    "from great_expectations.core.expectation_suite import ExpectationSuite\n",
    "from great_expectations.dataset import PandasDataset"
   ]
  },
  {
   "cell_type": "markdown",
   "id": "4d157e99",
   "metadata": {
    "pycharm": {
     "name": "#%% md\n"
    }
   },
   "source": [
    "Loading saved dataset first and exploring the data:"
   ]
  },
  {
   "cell_type": "code",
   "execution_count": 21,
   "id": "e57a229b",
   "metadata": {
    "pycharm": {
     "name": "#%%\n"
    }
   },
   "outputs": [
    {
     "name": "stderr",
     "output_type": "stream",
     "text": [
      "/Users/kike/opt/miniconda3/envs/feast/lib/python3.8/site-packages/feast/feature_store.py:1005: RuntimeWarning: Retrieving datasets is an experimental feature. This API is unstable and it could and most probably will be changed in the future. We do not guarantee that future changes will maintain backward compatibility.\n",
      "  warnings.warn(\n"
     ]
    },
    {
     "data": {
      "text/plain": "          avg_trip_seconds  total_trip_seconds  trip_count  earned_per_hour  \\\n41641152       2010.000000               16080           8        45.559701   \n17019776       1476.000000                7380           5        36.219512   \n38527755       1270.000000                7620           6        54.212598   \n17007652       1415.000000                5660           4        45.000000   \n14512479       1395.600000                6978           5        53.783319   \n...                    ...                 ...         ...              ...   \n17469489       1205.000000                4820           4        76.369295   \n48525288        692.727273                7620          11        52.677165   \n5295296         588.750000                9420          16        54.649682   \n46508066       1647.000000                4941           3        73.770492   \n50881579        554.285714               11640          21        67.500000   \n\n                   event_timestamp  total_earned   avg_fare  avg_speed  \\\n41641152 2019-06-01 00:00:00+00:00        203.50  25.437500  15.559701   \n17019776 2019-06-01 00:00:00+00:00         74.25  14.850000   7.707317   \n38527755 2019-06-01 00:00:00+00:00        114.75  19.125000  18.188976   \n17007652 2019-06-01 00:00:00+00:00         70.75  17.687500  12.860777   \n14512479 2019-06-01 00:00:00+00:00        104.25  20.850000  17.793637   \n...                            ...           ...        ...        ...   \n17469489 2019-07-01 00:00:00+00:00        102.25  25.562500  27.619917   \n48525288 2019-07-01 00:00:00+00:00        111.50  10.136364  13.700787   \n5295296  2019-07-01 00:00:00+00:00        143.00   8.937500  11.847134   \n46508066 2019-07-01 00:00:00+00:00        101.25  33.750000  27.584699   \n50881579 2019-07-01 00:00:00+00:00        218.25  10.392857  18.216495   \n\n          total_miles_travelled  \\\n41641152                  69.50   \n17019776                  15.80   \n38527755                  38.50   \n17007652                  20.22   \n14512479                  34.49   \n...                         ...   \n17469489                  36.98   \n48525288                  29.00   \n5295296                   31.00   \n46508066                  37.86   \n50881579                  58.90   \n\n                                                    taxi_id  \n41641152  d13c5aaa066f94b4927779ed24cd313b0c686f03407095...  \n17019776  33164e16dd29b1c58cd15cce31df4bfcb75d9903cb66de...  \n38527755  226fe0b00be42932bdff81bc0b318b883bfbf15dd48093...  \n17007652  5a5bed1b5ced617d0594007d591f10bbbca354d50b19ca...  \n14512479  b7f7dbb452c0fb980a0f2050a146147c1006fe5f34e3b0...  \n...                                                     ...  \n17469489  961263722c1beadafef2355412d672acac35e4054f6aaa...  \n48525288  8b07f9156e568a37d362463c84dbd1118b4eeb753bae50...  \n5295296   a112879f10892d5c698ce150af17aa28615b6d005ca749...  \n46508066  68fe14b9fc2d53de5ac349d47f80f43fea895e201a31e3...  \n50881579  6933327f9cc740e893a882282f7d06460207d6d4e084b3...  \n\n[119808 rows x 10 columns]",
      "text/html": "<div>\n<style scoped>\n    .dataframe tbody tr th:only-of-type {\n        vertical-align: middle;\n    }\n\n    .dataframe tbody tr th {\n        vertical-align: top;\n    }\n\n    .dataframe thead th {\n        text-align: right;\n    }\n</style>\n<table border=\"1\" class=\"dataframe\">\n  <thead>\n    <tr style=\"text-align: right;\">\n      <th></th>\n      <th>avg_trip_seconds</th>\n      <th>total_trip_seconds</th>\n      <th>trip_count</th>\n      <th>earned_per_hour</th>\n      <th>event_timestamp</th>\n      <th>total_earned</th>\n      <th>avg_fare</th>\n      <th>avg_speed</th>\n      <th>total_miles_travelled</th>\n      <th>taxi_id</th>\n    </tr>\n  </thead>\n  <tbody>\n    <tr>\n      <th>41641152</th>\n      <td>2010.000000</td>\n      <td>16080</td>\n      <td>8</td>\n      <td>45.559701</td>\n      <td>2019-06-01 00:00:00+00:00</td>\n      <td>203.50</td>\n      <td>25.437500</td>\n      <td>15.559701</td>\n      <td>69.50</td>\n      <td>d13c5aaa066f94b4927779ed24cd313b0c686f03407095...</td>\n    </tr>\n    <tr>\n      <th>17019776</th>\n      <td>1476.000000</td>\n      <td>7380</td>\n      <td>5</td>\n      <td>36.219512</td>\n      <td>2019-06-01 00:00:00+00:00</td>\n      <td>74.25</td>\n      <td>14.850000</td>\n      <td>7.707317</td>\n      <td>15.80</td>\n      <td>33164e16dd29b1c58cd15cce31df4bfcb75d9903cb66de...</td>\n    </tr>\n    <tr>\n      <th>38527755</th>\n      <td>1270.000000</td>\n      <td>7620</td>\n      <td>6</td>\n      <td>54.212598</td>\n      <td>2019-06-01 00:00:00+00:00</td>\n      <td>114.75</td>\n      <td>19.125000</td>\n      <td>18.188976</td>\n      <td>38.50</td>\n      <td>226fe0b00be42932bdff81bc0b318b883bfbf15dd48093...</td>\n    </tr>\n    <tr>\n      <th>17007652</th>\n      <td>1415.000000</td>\n      <td>5660</td>\n      <td>4</td>\n      <td>45.000000</td>\n      <td>2019-06-01 00:00:00+00:00</td>\n      <td>70.75</td>\n      <td>17.687500</td>\n      <td>12.860777</td>\n      <td>20.22</td>\n      <td>5a5bed1b5ced617d0594007d591f10bbbca354d50b19ca...</td>\n    </tr>\n    <tr>\n      <th>14512479</th>\n      <td>1395.600000</td>\n      <td>6978</td>\n      <td>5</td>\n      <td>53.783319</td>\n      <td>2019-06-01 00:00:00+00:00</td>\n      <td>104.25</td>\n      <td>20.850000</td>\n      <td>17.793637</td>\n      <td>34.49</td>\n      <td>b7f7dbb452c0fb980a0f2050a146147c1006fe5f34e3b0...</td>\n    </tr>\n    <tr>\n      <th>...</th>\n      <td>...</td>\n      <td>...</td>\n      <td>...</td>\n      <td>...</td>\n      <td>...</td>\n      <td>...</td>\n      <td>...</td>\n      <td>...</td>\n      <td>...</td>\n      <td>...</td>\n    </tr>\n    <tr>\n      <th>17469489</th>\n      <td>1205.000000</td>\n      <td>4820</td>\n      <td>4</td>\n      <td>76.369295</td>\n      <td>2019-07-01 00:00:00+00:00</td>\n      <td>102.25</td>\n      <td>25.562500</td>\n      <td>27.619917</td>\n      <td>36.98</td>\n      <td>961263722c1beadafef2355412d672acac35e4054f6aaa...</td>\n    </tr>\n    <tr>\n      <th>48525288</th>\n      <td>692.727273</td>\n      <td>7620</td>\n      <td>11</td>\n      <td>52.677165</td>\n      <td>2019-07-01 00:00:00+00:00</td>\n      <td>111.50</td>\n      <td>10.136364</td>\n      <td>13.700787</td>\n      <td>29.00</td>\n      <td>8b07f9156e568a37d362463c84dbd1118b4eeb753bae50...</td>\n    </tr>\n    <tr>\n      <th>5295296</th>\n      <td>588.750000</td>\n      <td>9420</td>\n      <td>16</td>\n      <td>54.649682</td>\n      <td>2019-07-01 00:00:00+00:00</td>\n      <td>143.00</td>\n      <td>8.937500</td>\n      <td>11.847134</td>\n      <td>31.00</td>\n      <td>a112879f10892d5c698ce150af17aa28615b6d005ca749...</td>\n    </tr>\n    <tr>\n      <th>46508066</th>\n      <td>1647.000000</td>\n      <td>4941</td>\n      <td>3</td>\n      <td>73.770492</td>\n      <td>2019-07-01 00:00:00+00:00</td>\n      <td>101.25</td>\n      <td>33.750000</td>\n      <td>27.584699</td>\n      <td>37.86</td>\n      <td>68fe14b9fc2d53de5ac349d47f80f43fea895e201a31e3...</td>\n    </tr>\n    <tr>\n      <th>50881579</th>\n      <td>554.285714</td>\n      <td>11640</td>\n      <td>21</td>\n      <td>67.500000</td>\n      <td>2019-07-01 00:00:00+00:00</td>\n      <td>218.25</td>\n      <td>10.392857</td>\n      <td>18.216495</td>\n      <td>58.90</td>\n      <td>6933327f9cc740e893a882282f7d06460207d6d4e084b3...</td>\n    </tr>\n  </tbody>\n</table>\n<p>119808 rows × 10 columns</p>\n</div>"
     },
     "execution_count": 21,
     "metadata": {},
     "output_type": "execute_result"
    }
   ],
   "source": [
    "ds = store.get_saved_dataset('my_training_ds')\n",
    "ds.to_df()"
   ]
  },
  {
   "cell_type": "code",
   "execution_count": 24,
   "outputs": [
    {
     "data": {
      "text/plain": "          avg_trip_seconds  total_trip_seconds  trip_count  earned_per_hour  \\\n41641152       2010.000000               16080           8        45.559701   \n41641378       1240.000000                3720           3        57.822581   \n41641758       2014.285714               14100           7        57.191489   \n41642063       2014.285714               14100           7        57.191489   \n41642370       1954.285714               13680           7        51.973684   \n41642621       2664.000000               13320           5        59.324324   \n41643076        595.384615                7740          13        55.000000   \n41643381        595.384615                7740          13        55.000000   \n41643530       1500.000000                6000           4        77.700000   \n41643856       2148.000000               10740           5        52.793296   \n41644309       1097.142857               15360          14        54.023438   \n41644514       1725.000000               13800           8        46.565217   \n41644917        972.857143               13620          14        51.938326   \n41644995       2160.000000                2160           1        63.333333   \n41645300       2160.000000                2160           1        63.333333   \n41645618       2220.000000                4440           2        75.608108   \n41645999       1600.000000                9600           6        58.312500   \n41646298        396.000000                1980           5        68.181818   \n41646569        690.000000                2760           4       105.000000   \n41647011        590.000000                7080          12        54.661017   \n41647335       1001.538462               13020          13        55.023041   \n41647588        606.000000                6060          10        67.128713   \n41647893        606.000000                6060          10        67.128713   \n41648639        540.000000               11340          21        52.698413   \n41648654        580.000000               19140          33        62.962382   \n41648979        630.000000                1260           2        72.142857   \n41649284        630.000000                1260           2        72.142857   \n\n                   event_timestamp  total_earned   avg_fare  avg_speed  \\\n41641152 2019-06-01 00:00:00+00:00        203.50  25.437500  15.559701   \n41641378 2019-06-02 00:00:00+00:00         59.75  19.916667  19.451613   \n41641758 2019-06-03 00:00:00+00:00        224.00  32.000000  21.370213   \n41642063 2019-06-04 00:00:00+00:00        224.00  32.000000  21.370213   \n41642370 2019-06-05 00:00:00+00:00        197.50  28.214286  18.947368   \n41642621 2019-06-06 00:00:00+00:00        219.50  43.900000  23.243243   \n41643076 2019-06-07 00:00:00+00:00        118.25   9.096154  12.511628   \n41643381 2019-06-08 00:00:00+00:00        118.25   9.096154  12.511628   \n41643530 2019-06-09 00:00:00+00:00        129.50  32.375000  30.240000   \n41643856 2019-06-10 00:00:00+00:00        157.50  31.500000  19.474860   \n41644309 2019-06-11 00:00:00+00:00        230.50  16.464286  16.851563   \n41644514 2019-06-12 00:00:00+00:00        178.50  22.312500  15.443478   \n41644917 2019-06-13 00:00:00+00:00        196.50  14.035714  14.696035   \n41644995 2019-06-14 00:00:00+00:00         38.00  38.000000  24.666667   \n41645300 2019-06-15 00:00:00+00:00         38.00  38.000000  24.666667   \n41645618 2019-06-16 00:00:00+00:00         93.25  46.625000  30.729730   \n41645999 2019-06-17 00:00:00+00:00        155.50  25.916667  21.525000   \n41646298 2019-06-18 00:00:00+00:00         37.50   7.500000  14.181818   \n41646569 2019-06-19 00:00:00+00:00         80.50  20.125000  38.086957   \n41647011 2019-06-20 00:00:00+00:00        107.50   8.958333  11.898305   \n41647335 2019-06-21 00:00:00+00:00        199.00  15.307692  16.341014   \n41647588 2019-06-22 00:00:00+00:00        113.00  11.300000  18.653465   \n41647893 2019-06-23 00:00:00+00:00        113.00  11.300000  18.653465   \n41648639 2019-06-25 00:00:00+00:00        166.00   7.904762   9.555556   \n41648654 2019-06-26 00:00:00+00:00        334.75  10.143939  15.893417   \n41648979 2019-06-27 00:00:00+00:00         25.25  12.625000  21.714286   \n41649284 2019-06-28 00:00:00+00:00         25.25  12.625000  21.714286   \n\n          total_miles_travelled  \\\n41641152                   69.5   \n41641378                   20.1   \n41641758                   83.7   \n41642063                   83.7   \n41642370                   72.0   \n41642621                   86.0   \n41643076                   26.9   \n41643381                   26.9   \n41643530                   50.4   \n41643856                   58.1   \n41644309                   71.9   \n41644514                   59.2   \n41644917                   55.6   \n41644995                   14.8   \n41645300                   14.8   \n41645618                   37.9   \n41645999                   57.4   \n41646298                    7.8   \n41646569                   29.2   \n41647011                   23.4   \n41647335                   59.1   \n41647588                   31.4   \n41647893                   31.4   \n41648639                   30.1   \n41648654                   84.5   \n41648979                    7.6   \n41649284                    7.6   \n\n                                                    taxi_id  \n41641152  d13c5aaa066f94b4927779ed24cd313b0c686f03407095...  \n41641378  d13c5aaa066f94b4927779ed24cd313b0c686f03407095...  \n41641758  d13c5aaa066f94b4927779ed24cd313b0c686f03407095...  \n41642063  d13c5aaa066f94b4927779ed24cd313b0c686f03407095...  \n41642370  d13c5aaa066f94b4927779ed24cd313b0c686f03407095...  \n41642621  d13c5aaa066f94b4927779ed24cd313b0c686f03407095...  \n41643076  d13c5aaa066f94b4927779ed24cd313b0c686f03407095...  \n41643381  d13c5aaa066f94b4927779ed24cd313b0c686f03407095...  \n41643530  d13c5aaa066f94b4927779ed24cd313b0c686f03407095...  \n41643856  d13c5aaa066f94b4927779ed24cd313b0c686f03407095...  \n41644309  d13c5aaa066f94b4927779ed24cd313b0c686f03407095...  \n41644514  d13c5aaa066f94b4927779ed24cd313b0c686f03407095...  \n41644917  d13c5aaa066f94b4927779ed24cd313b0c686f03407095...  \n41644995  d13c5aaa066f94b4927779ed24cd313b0c686f03407095...  \n41645300  d13c5aaa066f94b4927779ed24cd313b0c686f03407095...  \n41645618  d13c5aaa066f94b4927779ed24cd313b0c686f03407095...  \n41645999  d13c5aaa066f94b4927779ed24cd313b0c686f03407095...  \n41646298  d13c5aaa066f94b4927779ed24cd313b0c686f03407095...  \n41646569  d13c5aaa066f94b4927779ed24cd313b0c686f03407095...  \n41647011  d13c5aaa066f94b4927779ed24cd313b0c686f03407095...  \n41647335  d13c5aaa066f94b4927779ed24cd313b0c686f03407095...  \n41647588  d13c5aaa066f94b4927779ed24cd313b0c686f03407095...  \n41647893  d13c5aaa066f94b4927779ed24cd313b0c686f03407095...  \n41648639  d13c5aaa066f94b4927779ed24cd313b0c686f03407095...  \n41648654  d13c5aaa066f94b4927779ed24cd313b0c686f03407095...  \n41648979  d13c5aaa066f94b4927779ed24cd313b0c686f03407095...  \n41649284  d13c5aaa066f94b4927779ed24cd313b0c686f03407095...  ",
      "text/html": "<div>\n<style scoped>\n    .dataframe tbody tr th:only-of-type {\n        vertical-align: middle;\n    }\n\n    .dataframe tbody tr th {\n        vertical-align: top;\n    }\n\n    .dataframe thead th {\n        text-align: right;\n    }\n</style>\n<table border=\"1\" class=\"dataframe\">\n  <thead>\n    <tr style=\"text-align: right;\">\n      <th></th>\n      <th>avg_trip_seconds</th>\n      <th>total_trip_seconds</th>\n      <th>trip_count</th>\n      <th>earned_per_hour</th>\n      <th>event_timestamp</th>\n      <th>total_earned</th>\n      <th>avg_fare</th>\n      <th>avg_speed</th>\n      <th>total_miles_travelled</th>\n      <th>taxi_id</th>\n    </tr>\n  </thead>\n  <tbody>\n    <tr>\n      <th>41641152</th>\n      <td>2010.000000</td>\n      <td>16080</td>\n      <td>8</td>\n      <td>45.559701</td>\n      <td>2019-06-01 00:00:00+00:00</td>\n      <td>203.50</td>\n      <td>25.437500</td>\n      <td>15.559701</td>\n      <td>69.5</td>\n      <td>d13c5aaa066f94b4927779ed24cd313b0c686f03407095...</td>\n    </tr>\n    <tr>\n      <th>41641378</th>\n      <td>1240.000000</td>\n      <td>3720</td>\n      <td>3</td>\n      <td>57.822581</td>\n      <td>2019-06-02 00:00:00+00:00</td>\n      <td>59.75</td>\n      <td>19.916667</td>\n      <td>19.451613</td>\n      <td>20.1</td>\n      <td>d13c5aaa066f94b4927779ed24cd313b0c686f03407095...</td>\n    </tr>\n    <tr>\n      <th>41641758</th>\n      <td>2014.285714</td>\n      <td>14100</td>\n      <td>7</td>\n      <td>57.191489</td>\n      <td>2019-06-03 00:00:00+00:00</td>\n      <td>224.00</td>\n      <td>32.000000</td>\n      <td>21.370213</td>\n      <td>83.7</td>\n      <td>d13c5aaa066f94b4927779ed24cd313b0c686f03407095...</td>\n    </tr>\n    <tr>\n      <th>41642063</th>\n      <td>2014.285714</td>\n      <td>14100</td>\n      <td>7</td>\n      <td>57.191489</td>\n      <td>2019-06-04 00:00:00+00:00</td>\n      <td>224.00</td>\n      <td>32.000000</td>\n      <td>21.370213</td>\n      <td>83.7</td>\n      <td>d13c5aaa066f94b4927779ed24cd313b0c686f03407095...</td>\n    </tr>\n    <tr>\n      <th>41642370</th>\n      <td>1954.285714</td>\n      <td>13680</td>\n      <td>7</td>\n      <td>51.973684</td>\n      <td>2019-06-05 00:00:00+00:00</td>\n      <td>197.50</td>\n      <td>28.214286</td>\n      <td>18.947368</td>\n      <td>72.0</td>\n      <td>d13c5aaa066f94b4927779ed24cd313b0c686f03407095...</td>\n    </tr>\n    <tr>\n      <th>41642621</th>\n      <td>2664.000000</td>\n      <td>13320</td>\n      <td>5</td>\n      <td>59.324324</td>\n      <td>2019-06-06 00:00:00+00:00</td>\n      <td>219.50</td>\n      <td>43.900000</td>\n      <td>23.243243</td>\n      <td>86.0</td>\n      <td>d13c5aaa066f94b4927779ed24cd313b0c686f03407095...</td>\n    </tr>\n    <tr>\n      <th>41643076</th>\n      <td>595.384615</td>\n      <td>7740</td>\n      <td>13</td>\n      <td>55.000000</td>\n      <td>2019-06-07 00:00:00+00:00</td>\n      <td>118.25</td>\n      <td>9.096154</td>\n      <td>12.511628</td>\n      <td>26.9</td>\n      <td>d13c5aaa066f94b4927779ed24cd313b0c686f03407095...</td>\n    </tr>\n    <tr>\n      <th>41643381</th>\n      <td>595.384615</td>\n      <td>7740</td>\n      <td>13</td>\n      <td>55.000000</td>\n      <td>2019-06-08 00:00:00+00:00</td>\n      <td>118.25</td>\n      <td>9.096154</td>\n      <td>12.511628</td>\n      <td>26.9</td>\n      <td>d13c5aaa066f94b4927779ed24cd313b0c686f03407095...</td>\n    </tr>\n    <tr>\n      <th>41643530</th>\n      <td>1500.000000</td>\n      <td>6000</td>\n      <td>4</td>\n      <td>77.700000</td>\n      <td>2019-06-09 00:00:00+00:00</td>\n      <td>129.50</td>\n      <td>32.375000</td>\n      <td>30.240000</td>\n      <td>50.4</td>\n      <td>d13c5aaa066f94b4927779ed24cd313b0c686f03407095...</td>\n    </tr>\n    <tr>\n      <th>41643856</th>\n      <td>2148.000000</td>\n      <td>10740</td>\n      <td>5</td>\n      <td>52.793296</td>\n      <td>2019-06-10 00:00:00+00:00</td>\n      <td>157.50</td>\n      <td>31.500000</td>\n      <td>19.474860</td>\n      <td>58.1</td>\n      <td>d13c5aaa066f94b4927779ed24cd313b0c686f03407095...</td>\n    </tr>\n    <tr>\n      <th>41644309</th>\n      <td>1097.142857</td>\n      <td>15360</td>\n      <td>14</td>\n      <td>54.023438</td>\n      <td>2019-06-11 00:00:00+00:00</td>\n      <td>230.50</td>\n      <td>16.464286</td>\n      <td>16.851563</td>\n      <td>71.9</td>\n      <td>d13c5aaa066f94b4927779ed24cd313b0c686f03407095...</td>\n    </tr>\n    <tr>\n      <th>41644514</th>\n      <td>1725.000000</td>\n      <td>13800</td>\n      <td>8</td>\n      <td>46.565217</td>\n      <td>2019-06-12 00:00:00+00:00</td>\n      <td>178.50</td>\n      <td>22.312500</td>\n      <td>15.443478</td>\n      <td>59.2</td>\n      <td>d13c5aaa066f94b4927779ed24cd313b0c686f03407095...</td>\n    </tr>\n    <tr>\n      <th>41644917</th>\n      <td>972.857143</td>\n      <td>13620</td>\n      <td>14</td>\n      <td>51.938326</td>\n      <td>2019-06-13 00:00:00+00:00</td>\n      <td>196.50</td>\n      <td>14.035714</td>\n      <td>14.696035</td>\n      <td>55.6</td>\n      <td>d13c5aaa066f94b4927779ed24cd313b0c686f03407095...</td>\n    </tr>\n    <tr>\n      <th>41644995</th>\n      <td>2160.000000</td>\n      <td>2160</td>\n      <td>1</td>\n      <td>63.333333</td>\n      <td>2019-06-14 00:00:00+00:00</td>\n      <td>38.00</td>\n      <td>38.000000</td>\n      <td>24.666667</td>\n      <td>14.8</td>\n      <td>d13c5aaa066f94b4927779ed24cd313b0c686f03407095...</td>\n    </tr>\n    <tr>\n      <th>41645300</th>\n      <td>2160.000000</td>\n      <td>2160</td>\n      <td>1</td>\n      <td>63.333333</td>\n      <td>2019-06-15 00:00:00+00:00</td>\n      <td>38.00</td>\n      <td>38.000000</td>\n      <td>24.666667</td>\n      <td>14.8</td>\n      <td>d13c5aaa066f94b4927779ed24cd313b0c686f03407095...</td>\n    </tr>\n    <tr>\n      <th>41645618</th>\n      <td>2220.000000</td>\n      <td>4440</td>\n      <td>2</td>\n      <td>75.608108</td>\n      <td>2019-06-16 00:00:00+00:00</td>\n      <td>93.25</td>\n      <td>46.625000</td>\n      <td>30.729730</td>\n      <td>37.9</td>\n      <td>d13c5aaa066f94b4927779ed24cd313b0c686f03407095...</td>\n    </tr>\n    <tr>\n      <th>41645999</th>\n      <td>1600.000000</td>\n      <td>9600</td>\n      <td>6</td>\n      <td>58.312500</td>\n      <td>2019-06-17 00:00:00+00:00</td>\n      <td>155.50</td>\n      <td>25.916667</td>\n      <td>21.525000</td>\n      <td>57.4</td>\n      <td>d13c5aaa066f94b4927779ed24cd313b0c686f03407095...</td>\n    </tr>\n    <tr>\n      <th>41646298</th>\n      <td>396.000000</td>\n      <td>1980</td>\n      <td>5</td>\n      <td>68.181818</td>\n      <td>2019-06-18 00:00:00+00:00</td>\n      <td>37.50</td>\n      <td>7.500000</td>\n      <td>14.181818</td>\n      <td>7.8</td>\n      <td>d13c5aaa066f94b4927779ed24cd313b0c686f03407095...</td>\n    </tr>\n    <tr>\n      <th>41646569</th>\n      <td>690.000000</td>\n      <td>2760</td>\n      <td>4</td>\n      <td>105.000000</td>\n      <td>2019-06-19 00:00:00+00:00</td>\n      <td>80.50</td>\n      <td>20.125000</td>\n      <td>38.086957</td>\n      <td>29.2</td>\n      <td>d13c5aaa066f94b4927779ed24cd313b0c686f03407095...</td>\n    </tr>\n    <tr>\n      <th>41647011</th>\n      <td>590.000000</td>\n      <td>7080</td>\n      <td>12</td>\n      <td>54.661017</td>\n      <td>2019-06-20 00:00:00+00:00</td>\n      <td>107.50</td>\n      <td>8.958333</td>\n      <td>11.898305</td>\n      <td>23.4</td>\n      <td>d13c5aaa066f94b4927779ed24cd313b0c686f03407095...</td>\n    </tr>\n    <tr>\n      <th>41647335</th>\n      <td>1001.538462</td>\n      <td>13020</td>\n      <td>13</td>\n      <td>55.023041</td>\n      <td>2019-06-21 00:00:00+00:00</td>\n      <td>199.00</td>\n      <td>15.307692</td>\n      <td>16.341014</td>\n      <td>59.1</td>\n      <td>d13c5aaa066f94b4927779ed24cd313b0c686f03407095...</td>\n    </tr>\n    <tr>\n      <th>41647588</th>\n      <td>606.000000</td>\n      <td>6060</td>\n      <td>10</td>\n      <td>67.128713</td>\n      <td>2019-06-22 00:00:00+00:00</td>\n      <td>113.00</td>\n      <td>11.300000</td>\n      <td>18.653465</td>\n      <td>31.4</td>\n      <td>d13c5aaa066f94b4927779ed24cd313b0c686f03407095...</td>\n    </tr>\n    <tr>\n      <th>41647893</th>\n      <td>606.000000</td>\n      <td>6060</td>\n      <td>10</td>\n      <td>67.128713</td>\n      <td>2019-06-23 00:00:00+00:00</td>\n      <td>113.00</td>\n      <td>11.300000</td>\n      <td>18.653465</td>\n      <td>31.4</td>\n      <td>d13c5aaa066f94b4927779ed24cd313b0c686f03407095...</td>\n    </tr>\n    <tr>\n      <th>41648639</th>\n      <td>540.000000</td>\n      <td>11340</td>\n      <td>21</td>\n      <td>52.698413</td>\n      <td>2019-06-25 00:00:00+00:00</td>\n      <td>166.00</td>\n      <td>7.904762</td>\n      <td>9.555556</td>\n      <td>30.1</td>\n      <td>d13c5aaa066f94b4927779ed24cd313b0c686f03407095...</td>\n    </tr>\n    <tr>\n      <th>41648654</th>\n      <td>580.000000</td>\n      <td>19140</td>\n      <td>33</td>\n      <td>62.962382</td>\n      <td>2019-06-26 00:00:00+00:00</td>\n      <td>334.75</td>\n      <td>10.143939</td>\n      <td>15.893417</td>\n      <td>84.5</td>\n      <td>d13c5aaa066f94b4927779ed24cd313b0c686f03407095...</td>\n    </tr>\n    <tr>\n      <th>41648979</th>\n      <td>630.000000</td>\n      <td>1260</td>\n      <td>2</td>\n      <td>72.142857</td>\n      <td>2019-06-27 00:00:00+00:00</td>\n      <td>25.25</td>\n      <td>12.625000</td>\n      <td>21.714286</td>\n      <td>7.6</td>\n      <td>d13c5aaa066f94b4927779ed24cd313b0c686f03407095...</td>\n    </tr>\n    <tr>\n      <th>41649284</th>\n      <td>630.000000</td>\n      <td>1260</td>\n      <td>2</td>\n      <td>72.142857</td>\n      <td>2019-06-28 00:00:00+00:00</td>\n      <td>25.25</td>\n      <td>12.625000</td>\n      <td>21.714286</td>\n      <td>7.6</td>\n      <td>d13c5aaa066f94b4927779ed24cd313b0c686f03407095...</td>\n    </tr>\n  </tbody>\n</table>\n</div>"
     },
     "execution_count": 24,
     "metadata": {},
     "output_type": "execute_result"
    }
   ],
   "source": [
    "ds.to_df()[ds.to_df().taxi_id == 'd13c5aaa066f94b4927779ed24cd313b0c686f03407095cf5daa4c227d411eb5049a5b1ce8ff07157f9641e0e863be971c9d24bc3ef3f89857d7788fef397242']"
   ],
   "metadata": {
    "collapsed": false,
    "pycharm": {
     "name": "#%%\n"
    }
   }
  },
  {
   "cell_type": "markdown",
   "id": "73feb39d",
   "metadata": {
    "pycharm": {
     "name": "#%% md\n"
    }
   },
   "source": [
    "Feast uses [Great Expectations](https://docs.greatexpectations.io/docs/) as a validation engine and [ExpectationSuite](https://legacy.docs.greatexpectations.io/en/latest/autoapi/great_expectations/core/expectation_suite/index.html#great_expectations.core.expectation_suite.ExpectationSuite) as a dataset's profile. Hence, we need to develop a function that will generate ExpectationSuite. This function will receive instance of [PandasDataset](https://legacy.docs.greatexpectations.io/en/latest/autoapi/great_expectations/dataset/index.html?highlight=pandasdataset#great_expectations.dataset.PandasDataset) (wrapper around pandas.DataFrame) so we can utilize both Pandas DataFrame API and some helper functions from PandasDataset during profiling."
   ]
  },
  {
   "cell_type": "code",
   "execution_count": 27,
   "id": "b3a8714f",
   "metadata": {
    "pycharm": {
     "name": "#%%\n"
    }
   },
   "outputs": [],
   "source": [
    "DELTA = 0.1  # controlling allowed window in fraction of the value on scale [0, 1]\n",
    "\n",
    "@ge_profiler\n",
    "def stats_profiler(ds: PandasDataset) -> ExpectationSuite:\n",
    "    # simple checks on data consistency\n",
    "    ds.expect_column_values_to_be_between(\n",
    "        \"avg_speed\",\n",
    "        min_value=0,\n",
    "        max_value=60,\n",
    "        mostly=0.99  # allow some outliers\n",
    "    )\n",
    "    \n",
    "    ds.expect_column_values_to_be_between(\n",
    "        \"total_miles_travelled\",\n",
    "        min_value=0,\n",
    "        max_value=500,\n",
    "        mostly=0.99  # allow some outliers\n",
    "    )\n",
    "    \n",
    "    # expectation of means based on observed values\n",
    "    observed_mean = ds.trip_count.mean()\n",
    "    ds.expect_column_mean_to_be_between(\"trip_count\",\n",
    "                                        min_value=observed_mean * (1 - DELTA),\n",
    "                                        max_value=observed_mean * (1 + DELTA))\n",
    "    \n",
    "    observed_mean = ds.earned_per_hour.mean()\n",
    "    ds.expect_column_mean_to_be_between(\"earned_per_hour\",\n",
    "                                        min_value=observed_mean * (1 - DELTA),\n",
    "                                        max_value=observed_mean * (1 + DELTA))\n",
    "    \n",
    "    \n",
    "    # expectation of quantiles\n",
    "    qs = [0.5, 0.75, 0.9, 0.95]\n",
    "    observed_quantiles = ds.avg_fare.quantile(qs)\n",
    "    \n",
    "    ds.expect_column_quantile_values_to_be_between(\n",
    "        \"avg_fare\",\n",
    "        quantile_ranges={\n",
    "            \"quantiles\": qs,\n",
    "            \"value_ranges\": [[None, max_value] for max_value in observed_quantiles]\n",
    "        })                                     \n",
    "    \n",
    "    return ds.get_expectation_suite()"
   ]
  },
  {
   "cell_type": "markdown",
   "id": "d3f2e171",
   "metadata": {
    "pycharm": {
     "name": "#%% md\n"
    }
   },
   "source": [
    "Testing our profiler function:"
   ]
  },
  {
   "cell_type": "code",
   "execution_count": 28,
   "id": "504e5699",
   "metadata": {
    "pycharm": {
     "name": "#%%\n"
    }
   },
   "outputs": [
    {
     "data": {
      "text/plain": "<GEProfile with expectations: [\n  {\n    \"meta\": {},\n    \"expectation_type\": \"expect_column_values_to_be_between\",\n    \"kwargs\": {\n      \"column\": \"avg_speed\",\n      \"min_value\": 0,\n      \"max_value\": 60,\n      \"mostly\": 0.99\n    }\n  },\n  {\n    \"meta\": {},\n    \"expectation_type\": \"expect_column_values_to_be_between\",\n    \"kwargs\": {\n      \"column\": \"total_miles_travelled\",\n      \"min_value\": 0,\n      \"max_value\": 500,\n      \"mostly\": 0.99\n    }\n  },\n  {\n    \"meta\": {},\n    \"expectation_type\": \"expect_column_mean_to_be_between\",\n    \"kwargs\": {\n      \"column\": \"trip_count\",\n      \"min_value\": 10.387244591346153,\n      \"max_value\": 12.695521167200855\n    }\n  },\n  {\n    \"meta\": {},\n    \"expectation_type\": \"expect_column_mean_to_be_between\",\n    \"kwargs\": {\n      \"column\": \"earned_per_hour\",\n      \"min_value\": 52.32062497564023,\n      \"max_value\": 63.9474305257825\n    }\n  },\n  {\n    \"meta\": {},\n    \"expectation_type\": \"expect_column_quantile_values_to_be_between\",\n    \"kwargs\": {\n      \"column\": \"avg_fare\",\n      \"quantile_ranges\": {\n        \"quantiles\": [\n          0.5,\n          0.75,\n          0.9,\n          0.95\n        ],\n        \"value_ranges\": [\n          [\n            null,\n            16.4\n          ],\n          [\n            null,\n            26.229166666666668\n          ],\n          [\n            null,\n            36.4375\n          ],\n          [\n            null,\n            42.0\n          ]\n        ]\n      }\n    }\n  }\n]>"
     },
     "execution_count": 28,
     "metadata": {},
     "output_type": "execute_result"
    }
   ],
   "source": [
    "ds.get_profile(profiler=stats_profiler)"
   ]
  },
  {
   "cell_type": "markdown",
   "id": "ebb184b9",
   "metadata": {
    "pycharm": {
     "name": "#%% md\n"
    }
   },
   "source": [
    "**Verify that all expectations that we coded in our profiler are present here. Otherwise (if you can't find some expectations) it means that it failed to pass on the reference dataset (do it silently is default behavior of Great Expectations).**"
   ]
  },
  {
   "cell_type": "markdown",
   "id": "32709fff",
   "metadata": {
    "pycharm": {
     "name": "#%% md\n"
    }
   },
   "source": [
    "Now we can create validation reference from dataset and profiler function:"
   ]
  },
  {
   "cell_type": "code",
   "execution_count": 29,
   "id": "3cc27606",
   "metadata": {
    "pycharm": {
     "name": "#%%\n"
    }
   },
   "outputs": [],
   "source": [
    "validation_reference = ds.as_reference(profiler=stats_profiler)"
   ]
  },
  {
   "cell_type": "markdown",
   "id": "983a9300",
   "metadata": {
    "pycharm": {
     "name": "#%% md\n"
    }
   },
   "source": [
    "and test it against our existing retrieval job"
   ]
  },
  {
   "cell_type": "code",
   "execution_count": 30,
   "id": "ba72e02a",
   "metadata": {
    "pycharm": {
     "name": "#%%\n"
    }
   },
   "outputs": [
    {
     "name": "stderr",
     "output_type": "stream",
     "text": [
      "/Users/kike/opt/miniconda3/envs/feast/lib/python3.8/site-packages/feast/infra/offline_stores/offline_store.py:93: RuntimeWarning: Dataset validation is an experimental feature. This API is unstable and it could and most probably will be changed in the future. We do not guarantee that future changes will maintain backward compatibility.\n",
      "  warnings.warn(\n"
     ]
    }
   ],
   "source": [
    "_ = job.to_df(validation_reference=validation_reference)"
   ]
  },
  {
   "cell_type": "markdown",
   "id": "e0604b9f",
   "metadata": {
    "pycharm": {
     "name": "#%% md\n"
    }
   },
   "source": [
    "Validation successfully passed as no exception were raised."
   ]
  },
  {
   "cell_type": "markdown",
   "id": "0b6d4338",
   "metadata": {
    "pycharm": {
     "name": "#%% md\n"
    }
   },
   "source": [
    "### 5. Validating new historical retrieval "
   ]
  },
  {
   "cell_type": "markdown",
   "id": "c3b16c93",
   "metadata": {
    "pycharm": {
     "name": "#%% md\n"
    }
   },
   "source": [
    "Creating new timestamps for Dec 2020:"
   ]
  },
  {
   "cell_type": "code",
   "execution_count": 31,
   "id": "25450aab",
   "metadata": {
    "pycharm": {
     "name": "#%%\n"
    }
   },
   "outputs": [],
   "source": [
    "from feast.dqm.errors import ValidationFailed"
   ]
  },
  {
   "cell_type": "code",
   "execution_count": 32,
   "id": "d7f6e892",
   "metadata": {
    "pycharm": {
     "name": "#%%\n"
    }
   },
   "outputs": [],
   "source": [
    "timestamps = pd.DataFrame()\n",
    "timestamps[\"event_timestamp\"] = pd.date_range(\"2020-12-01\", \"2020-12-07\", freq='D')"
   ]
  },
  {
   "cell_type": "code",
   "execution_count": 33,
   "id": "3a5d3b7b",
   "metadata": {
    "pycharm": {
     "name": "#%%\n"
    }
   },
   "outputs": [
    {
     "data": {
      "text/plain": "                                                 taxi_id event_timestamp\n0      91d5288487e87c5917b813ba6f75ab1c3a9749af906a2d...      2020-12-01\n1      91d5288487e87c5917b813ba6f75ab1c3a9749af906a2d...      2020-12-02\n2      91d5288487e87c5917b813ba6f75ab1c3a9749af906a2d...      2020-12-03\n3      91d5288487e87c5917b813ba6f75ab1c3a9749af906a2d...      2020-12-04\n4      91d5288487e87c5917b813ba6f75ab1c3a9749af906a2d...      2020-12-05\n...                                                  ...             ...\n35443  7ebf27414a0c7b128e7925e1da56d51a8b81484f7630cf...      2020-12-03\n35444  7ebf27414a0c7b128e7925e1da56d51a8b81484f7630cf...      2020-12-04\n35445  7ebf27414a0c7b128e7925e1da56d51a8b81484f7630cf...      2020-12-05\n35446  7ebf27414a0c7b128e7925e1da56d51a8b81484f7630cf...      2020-12-06\n35447  7ebf27414a0c7b128e7925e1da56d51a8b81484f7630cf...      2020-12-07\n\n[35448 rows x 2 columns]",
      "text/html": "<div>\n<style scoped>\n    .dataframe tbody tr th:only-of-type {\n        vertical-align: middle;\n    }\n\n    .dataframe tbody tr th {\n        vertical-align: top;\n    }\n\n    .dataframe thead th {\n        text-align: right;\n    }\n</style>\n<table border=\"1\" class=\"dataframe\">\n  <thead>\n    <tr style=\"text-align: right;\">\n      <th></th>\n      <th>taxi_id</th>\n      <th>event_timestamp</th>\n    </tr>\n  </thead>\n  <tbody>\n    <tr>\n      <th>0</th>\n      <td>91d5288487e87c5917b813ba6f75ab1c3a9749af906a2d...</td>\n      <td>2020-12-01</td>\n    </tr>\n    <tr>\n      <th>1</th>\n      <td>91d5288487e87c5917b813ba6f75ab1c3a9749af906a2d...</td>\n      <td>2020-12-02</td>\n    </tr>\n    <tr>\n      <th>2</th>\n      <td>91d5288487e87c5917b813ba6f75ab1c3a9749af906a2d...</td>\n      <td>2020-12-03</td>\n    </tr>\n    <tr>\n      <th>3</th>\n      <td>91d5288487e87c5917b813ba6f75ab1c3a9749af906a2d...</td>\n      <td>2020-12-04</td>\n    </tr>\n    <tr>\n      <th>4</th>\n      <td>91d5288487e87c5917b813ba6f75ab1c3a9749af906a2d...</td>\n      <td>2020-12-05</td>\n    </tr>\n    <tr>\n      <th>...</th>\n      <td>...</td>\n      <td>...</td>\n    </tr>\n    <tr>\n      <th>35443</th>\n      <td>7ebf27414a0c7b128e7925e1da56d51a8b81484f7630cf...</td>\n      <td>2020-12-03</td>\n    </tr>\n    <tr>\n      <th>35444</th>\n      <td>7ebf27414a0c7b128e7925e1da56d51a8b81484f7630cf...</td>\n      <td>2020-12-04</td>\n    </tr>\n    <tr>\n      <th>35445</th>\n      <td>7ebf27414a0c7b128e7925e1da56d51a8b81484f7630cf...</td>\n      <td>2020-12-05</td>\n    </tr>\n    <tr>\n      <th>35446</th>\n      <td>7ebf27414a0c7b128e7925e1da56d51a8b81484f7630cf...</td>\n      <td>2020-12-06</td>\n    </tr>\n    <tr>\n      <th>35447</th>\n      <td>7ebf27414a0c7b128e7925e1da56d51a8b81484f7630cf...</td>\n      <td>2020-12-07</td>\n    </tr>\n  </tbody>\n</table>\n<p>35448 rows × 2 columns</p>\n</div>"
     },
     "execution_count": 33,
     "metadata": {},
     "output_type": "execute_result"
    }
   ],
   "source": [
    "entity_df = pd.merge(taxi_ids, timestamps, how='cross')\n",
    "entity_df"
   ]
  },
  {
   "cell_type": "code",
   "execution_count": 34,
   "id": "5be40a91",
   "metadata": {
    "pycharm": {
     "name": "#%%\n"
    }
   },
   "outputs": [],
   "source": [
    "job = store.get_historical_features(\n",
    "    entity_df=entity_df,\n",
    "    features=[\n",
    "        \"trip_stats:total_miles_travelled\",\n",
    "        \"trip_stats:total_trip_seconds\",\n",
    "        \"trip_stats:total_earned\",\n",
    "        \"trip_stats:trip_count\",\n",
    "        \"on_demand_stats:avg_fare\",\n",
    "        \"on_demand_stats:avg_trip_seconds\",\n",
    "        \"on_demand_stats:avg_speed\",\n",
    "        \"on_demand_stats:earned_per_hour\",\n",
    "    ]\n",
    ")"
   ]
  },
  {
   "cell_type": "markdown",
   "id": "1b12295b",
   "metadata": {
    "pycharm": {
     "name": "#%% md\n"
    }
   },
   "source": [
    "Execute retrieval job with validation reference:"
   ]
  },
  {
   "cell_type": "code",
   "execution_count": 35,
   "id": "3279f2ac",
   "metadata": {
    "pycharm": {
     "name": "#%%\n"
    }
   },
   "outputs": [
    {
     "name": "stderr",
     "output_type": "stream",
     "text": [
      "/Users/kike/opt/miniconda3/envs/feast/lib/python3.8/site-packages/feast/infra/offline_stores/offline_store.py:93: RuntimeWarning: Dataset validation is an experimental feature. This API is unstable and it could and most probably will be changed in the future. We do not guarantee that future changes will maintain backward compatibility.\n",
      "  warnings.warn(\n"
     ]
    },
    {
     "name": "stdout",
     "output_type": "stream",
     "text": [
      "[\n",
      "  {\n",
      "    \"success\": false,\n",
      "    \"meta\": {},\n",
      "    \"expectation_config\": {\n",
      "      \"meta\": {},\n",
      "      \"expectation_type\": \"expect_column_mean_to_be_between\",\n",
      "      \"kwargs\": {\n",
      "        \"column\": \"trip_count\",\n",
      "        \"min_value\": 10.387244591346153,\n",
      "        \"max_value\": 12.695521167200855,\n",
      "        \"result_format\": \"COMPLETE\"\n",
      "      }\n",
      "    },\n",
      "    \"result\": {\n",
      "      \"observed_value\": 6.692920555429092,\n",
      "      \"element_count\": 4393,\n",
      "      \"missing_count\": null,\n",
      "      \"missing_percent\": null\n",
      "    },\n",
      "    \"exception_info\": {\n",
      "      \"raised_exception\": false,\n",
      "      \"exception_message\": null,\n",
      "      \"exception_traceback\": null\n",
      "    }\n",
      "  },\n",
      "  {\n",
      "    \"success\": false,\n",
      "    \"meta\": {},\n",
      "    \"expectation_config\": {\n",
      "      \"meta\": {},\n",
      "      \"expectation_type\": \"expect_column_mean_to_be_between\",\n",
      "      \"kwargs\": {\n",
      "        \"column\": \"earned_per_hour\",\n",
      "        \"min_value\": 52.32062497564023,\n",
      "        \"max_value\": 63.9474305257825,\n",
      "        \"result_format\": \"COMPLETE\"\n",
      "      }\n",
      "    },\n",
      "    \"result\": {\n",
      "      \"observed_value\": 68.99268345164135,\n",
      "      \"element_count\": 4393,\n",
      "      \"missing_count\": null,\n",
      "      \"missing_percent\": null\n",
      "    },\n",
      "    \"exception_info\": {\n",
      "      \"raised_exception\": false,\n",
      "      \"exception_message\": null,\n",
      "      \"exception_traceback\": null\n",
      "    }\n",
      "  },\n",
      "  {\n",
      "    \"success\": false,\n",
      "    \"meta\": {},\n",
      "    \"expectation_config\": {\n",
      "      \"meta\": {},\n",
      "      \"expectation_type\": \"expect_column_quantile_values_to_be_between\",\n",
      "      \"kwargs\": {\n",
      "        \"column\": \"avg_fare\",\n",
      "        \"quantile_ranges\": {\n",
      "          \"quantiles\": [\n",
      "            0.5,\n",
      "            0.75,\n",
      "            0.9,\n",
      "            0.95\n",
      "          ],\n",
      "          \"value_ranges\": [\n",
      "            [\n",
      "              null,\n",
      "              16.4\n",
      "            ],\n",
      "            [\n",
      "              null,\n",
      "              26.229166666666668\n",
      "            ],\n",
      "            [\n",
      "              null,\n",
      "              36.4375\n",
      "            ],\n",
      "            [\n",
      "              null,\n",
      "              42.0\n",
      "            ]\n",
      "          ]\n",
      "        },\n",
      "        \"result_format\": \"COMPLETE\"\n",
      "      }\n",
      "    },\n",
      "    \"result\": {\n",
      "      \"observed_value\": {\n",
      "        \"quantiles\": [\n",
      "          0.5,\n",
      "          0.75,\n",
      "          0.9,\n",
      "          0.95\n",
      "        ],\n",
      "        \"values\": [\n",
      "          19.5,\n",
      "          28.1,\n",
      "          38.0,\n",
      "          44.125\n",
      "        ]\n",
      "      },\n",
      "      \"element_count\": 4393,\n",
      "      \"missing_count\": null,\n",
      "      \"missing_percent\": null,\n",
      "      \"details\": {\n",
      "        \"success_details\": [\n",
      "          false,\n",
      "          false,\n",
      "          false,\n",
      "          false\n",
      "        ]\n",
      "      }\n",
      "    },\n",
      "    \"exception_info\": {\n",
      "      \"raised_exception\": false,\n",
      "      \"exception_message\": null,\n",
      "      \"exception_traceback\": null\n",
      "    }\n",
      "  }\n",
      "]\n"
     ]
    }
   ],
   "source": [
    "try:\n",
    "    df = job.to_df(validation_reference=validation_reference)\n",
    "except ValidationFailed as exc:\n",
    "    print(exc.validation_report)"
   ]
  },
  {
   "cell_type": "markdown",
   "id": "516f1935",
   "metadata": {
    "pycharm": {
     "name": "#%% md\n"
    }
   },
   "source": [
    "Validation failed since several expectations didn't pass:\n",
    "* Trip count (mean) decreased more than 10% (which is expected when comparing Dec 2020 vs June 2019)\n",
    "* Average Fare increased - all quantiles are higher than expected\n",
    "* Earn per hour (mean) increased more than 10% (most probably due to increased fare)"
   ]
  },
  {
   "cell_type": "code",
   "execution_count": null,
   "id": "cb9d59c9",
   "metadata": {
    "pycharm": {
     "name": "#%%\n"
    }
   },
   "outputs": [],
   "source": []
  }
 ],
 "metadata": {
  "kernelspec": {
   "name": "feast",
   "language": "python",
   "display_name": "feast"
  },
  "language_info": {
   "codemirror_mode": {
    "name": "ipython",
    "version": 3
   },
   "file_extension": ".py",
   "mimetype": "text/x-python",
   "name": "python",
   "nbconvert_exporter": "python",
   "pygments_lexer": "ipython3",
   "version": "3.7.12"
  }
 },
 "nbformat": 4,
 "nbformat_minor": 5
}