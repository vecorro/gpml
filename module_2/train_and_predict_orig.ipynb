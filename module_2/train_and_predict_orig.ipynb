{
 "cells": [
  {
   "cell_type": "markdown",
   "id": "cb324f74-8c08-43e8-9db1-71e5bcbb50e1",
   "metadata": {
    "pycharm": {
     "name": "#%% md\n"
    }
   },
   "source": [
    "### Import General Python libs, defined classes, and modules¶"
   ]
  },
  {
   "cell_type": "code",
   "execution_count": 1,
   "id": "41d65f9d-2109-4c22-a705-ab3488ac5358",
   "metadata": {
    "pycharm": {
     "name": "#%%\n"
    }
   },
   "outputs": [],
   "source": [
    "from pprint import pprint\n",
    "import mlflow\n",
    "from mlflow.tracking import MlflowClient\n",
    "from train_model import DriverRankingTrainModel\n",
    "from predict_model import DriverRankingPredictModel"
   ]
  },
  {
   "cell_type": "markdown",
   "id": "5c850031-25ce-4130-ba70-8052484c7c2b",
   "metadata": {
    "pycharm": {
     "name": "#%% md\n"
    }
   },
   "source": [
    "### Train the model\n",
    "\n",
    " * Use the `DriverRankingTrainingModel` class, which fetches training data from the Feast data source\n",
    " * Use `mlflow.autolog` to automatically log the parameters and computed metrics during training\n",
    " * Use `mflow` Fluent APIs to log the Feast training set"
   ]
  },
  {
   "cell_type": "markdown",
   "id": "022489be-d36b-43ce-bc6a-cb4b76d1130e",
   "metadata": {
    "pycharm": {
     "name": "#%% md\n"
    }
   },
   "source": [
    "### Define ElasticNet tuning parameters and run some experiments"
   ]
  },
  {
   "cell_type": "code",
   "execution_count": 2,
   "id": "34790d80-92e0-40e2-a033-2f33dfe176c6",
   "metadata": {
    "pycharm": {
     "name": "#%%\n"
    }
   },
   "outputs": [],
   "source": [
    "params_list = [{\"alpha\": 0.5, \"l1_ratio\": 0.15},\n",
    "               {\"alpha\": 0.75, \"l1_ratio\": 0.25},\n",
    "               {\"alpha\": 1.0, \"l1_ratio\": 0.5}]\n",
    "\n",
    "# Change this to your location for the Feast feature repo\n",
    "#REPO_PATH = \"/Users/jsd/git-repos/feast_workshops/module_1/feature_repo\"\n",
    "REPO_PATH = \"/Users/kike/Library/CloudStorage/OneDrive-VMware,Inc/OCTO/2022-H1/Taurus/Feast/feast_workshops-master/module_1/feature_repo\"\n",
    "# define your feature service name\n",
    "FEATURE_SERVICE_NAME = \"driver_ranking_fv_svc\""
   ]
  },
  {
   "cell_type": "markdown",
   "id": "b75bb9f6-2896-4328-b834-17dfc2eaaa62",
   "metadata": {
    "pycharm": {
     "name": "#%% md\n"
    }
   },
   "source": [
    "### Iterate and experiment MLflow runs tunning parameters"
   ]
  },
  {
   "cell_type": "code",
   "execution_count": 3,
   "id": "43018728-1fed-429b-b996-c876cf3bf6d0",
   "metadata": {
    "pycharm": {
     "name": "#%%\n"
    }
   },
   "outputs": [
    {
     "name": "stderr",
     "output_type": "stream",
     "text": [
      "2022/06/14 18:08:15 WARNING mlflow.utils.autologging_utils: MLflow autologging encountered a warning: \"/Users/kike/opt/miniconda3/envs/feast_workshop/lib/python3.10/site-packages/mlflow/models/signature.py:129: UserWarning: Hint: Inferred schema contains integer column(s). Integer columns in Python cannot represent missing values. If your input data contains missing values at inference time, it will be encoded as floats and will cause a schema enforcement error. The best way to avoid this problem is to infer the model schema based on a realistic data sample (training dataset) that includes missing values. Alternatively, you can declare integer columns as doubles (float64) whenever these columns may have missing values. See `Handling Integers With Missing Values <https://www.mlflow.org/docs/latest/models.html#handling-integers-with-missing-values>`_ for more details.\"\n",
      "2022/06/14 18:08:17 WARNING mlflow.utils.autologging_utils: MLflow autologging encountered a warning: \"/Users/kike/opt/miniconda3/envs/feast_workshop/lib/python3.10/site-packages/_distutils_hack/__init__.py:30: UserWarning: Setuptools is replacing distutils.\"\n",
      "2022/06/14 18:08:17 WARNING mlflow.utils.autologging_utils: MLflow autologging encountered a warning: \"/Users/kike/opt/miniconda3/envs/feast_workshop/lib/python3.10/site-packages/setuptools/_distutils/dir_util.py:120: DeprecationWarning: The distutils package is deprecated and slated for removal in Python 3.12. Use setuptools or check PEP 632 for potential alternatives\"\n"
     ]
    },
    {
     "name": "stdout",
     "output_type": "stream",
     "text": [
      "\"ElasticNet params: {'alpha': 0.5, 'l1_ratio': 0.15}\"\n",
      "Model run id: {'d33f128b4b9a449a846755cb6b50285f'}\n"
     ]
    },
    {
     "name": "stderr",
     "output_type": "stream",
     "text": [
      "2022/06/14 18:08:17 WARNING mlflow.utils.autologging_utils: MLflow autologging encountered a warning: \"/Users/kike/opt/miniconda3/envs/feast_workshop/lib/python3.10/site-packages/mlflow/models/signature.py:129: UserWarning: Hint: Inferred schema contains integer column(s). Integer columns in Python cannot represent missing values. If your input data contains missing values at inference time, it will be encoded as floats and will cause a schema enforcement error. The best way to avoid this problem is to infer the model schema based on a realistic data sample (training dataset) that includes missing values. Alternatively, you can declare integer columns as doubles (float64) whenever these columns may have missing values. See `Handling Integers With Missing Values <https://www.mlflow.org/docs/latest/models.html#handling-integers-with-missing-values>`_ for more details.\"\n"
     ]
    },
    {
     "name": "stdout",
     "output_type": "stream",
     "text": [
      "\"ElasticNet params: {'alpha': 0.75, 'l1_ratio': 0.25}\"\n",
      "Model run id: {'b99ec692556b4cc5a52a89906b568437'}\n"
     ]
    },
    {
     "name": "stderr",
     "output_type": "stream",
     "text": [
      "2022/06/14 18:08:20 WARNING mlflow.utils.autologging_utils: MLflow autologging encountered a warning: \"/Users/kike/opt/miniconda3/envs/feast_workshop/lib/python3.10/site-packages/mlflow/models/signature.py:129: UserWarning: Hint: Inferred schema contains integer column(s). Integer columns in Python cannot represent missing values. If your input data contains missing values at inference time, it will be encoded as floats and will cause a schema enforcement error. The best way to avoid this problem is to infer the model schema based on a realistic data sample (training dataset) that includes missing values. Alternatively, you can declare integer columns as doubles (float64) whenever these columns may have missing values. See `Handling Integers With Missing Values <https://www.mlflow.org/docs/latest/models.html#handling-integers-with-missing-values>`_ for more details.\"\n"
     ]
    },
    {
     "name": "stdout",
     "output_type": "stream",
     "text": [
      "\"ElasticNet params: {'alpha': 1.0, 'l1_ratio': 0.5}\"\n",
      "Model run id: {'6a76cbad95424c3b9cb09e66f4dcf9e1'}\n"
     ]
    }
   ],
   "source": [
    "# iterate over tuning parameters\n",
    "for params in params_list:\n",
    "    model_cls = DriverRankingTrainModel(REPO_PATH, FEATURE_SERVICE_NAME, params)\n",
    "    run_id = model_cls.train_model()\n",
    "    pprint(f\"ElasticNet params: {params}\")\n",
    "    print(f\"Model run id: {run_id}\")"
   ]
  },
  {
   "cell_type": "markdown",
   "id": "6eac8e13-789e-4083-8e1e-8eb8ecedfb58",
   "metadata": {
    "pycharm": {
     "name": "#%% md\n"
    }
   },
   "source": [
    "### Launch the MLflow ui, with Model Registry at the local SQLite database\n",
    " * Navigate and examine runs for the model\n",
    " * Register the best model with lowest RMSE with the Model Registry"
   ]
  },
  {
   "cell_type": "code",
   "execution_count": 4,
   "id": "2b0ae189-cc55-431b-9889-9f007f1327a3",
   "metadata": {
    "pycharm": {
     "name": "#%%\n"
    }
   },
   "outputs": [],
   "source": [
    "#!mlflow ui  --backend-store-uri sqlite:///mlruns.db"
   ]
  },
  {
   "cell_type": "markdown",
   "id": "8b8c1d9b-8b76-47e7-9f97-481da9383101",
   "metadata": {
    "pycharm": {
     "name": "#%% md\n"
    }
   },
   "source": [
    "### CI/CD Intergration: Fetch the registered model from the Model Registry\n",
    " * Use the model URI (either by stage or version)\n",
    " * Make the predicion"
   ]
  },
  {
   "cell_type": "code",
   "execution_count": 7,
   "id": "505800f6-4dd1-40c9-b9e8-c955b21b05bb",
   "metadata": {
    "pycharm": {
     "name": "#%%\n"
    }
   },
   "outputs": [
    {
     "name": "stdout",
     "output_type": "stream",
     "text": [
      " Best predicted driver for completed trips: 1001\n"
     ]
    }
   ],
   "source": [
    "mlflow.set_tracking_uri(\"sqlite:///mlruns.db\")\n",
    "#REPO_PATH = \"/Users/jsd/git-repos/feast_workshops/module_1/feature_repo\"\n",
    "REPO_PATH = \"/Users/kike/Library/CloudStorage/OneDrive-VMware,Inc/OCTO/2022-H1/Taurus/Feast/feast_workshops-master/module_1/feature_repo\"\n",
    "#model_uri = \"models:/sklearn_feast_integration/staging\"\n",
    "model_uri = \"./mlruns/0/6a76cbad95424c3b9cb09e66f4dcf9e1/artifacts/model\"\n",
    "model = DriverRankingPredictModel(REPO_PATH, model_uri, FEATURE_SERVICE_NAME)\n",
    "drivers = [1001, 1002, 1003]\n",
    "best_driver = model(drivers)\n",
    "print(f\" Best predicted driver for completed trips: {best_driver}\")"
   ]
  },
  {
   "cell_type": "markdown",
   "id": "1724d4a7-f352-4448-8dec-f1686ea9124d",
   "metadata": {
    "pycharm": {
     "name": "#%% md\n"
    }
   },
   "source": [
    "### CI/CD Integration: Transition the model to production "
   ]
  },
  {
   "cell_type": "code",
   "execution_count": 8,
   "id": "e88e435d-4af0-49d5-956f-af2e2830d45f",
   "metadata": {
    "pycharm": {
     "name": "#%%\n"
    }
   },
   "outputs": [
    {
     "data": {
      "text/plain": [
       "<ModelVersion: creation_timestamp=1655248244875, current_stage='Production', description='', last_updated_timestamp=1655248287213, name='sklearn_feast_integration', run_id='6a76cbad95424c3b9cb09e66f4dcf9e1', run_link='', source='./mlruns/0/6a76cbad95424c3b9cb09e66f4dcf9e1/artifacts/model', status='READY', status_message=None, tags={}, user_id=None, version=1>"
      ]
     },
     "execution_count": 8,
     "metadata": {},
     "output_type": "execute_result"
    }
   ],
   "source": [
    "client = MlflowClient()\n",
    "client.transition_model_version_stage(\n",
    "    name=\"sklearn_feast_integration\",\n",
    "    version=1,\n",
    "    stage=\"Production\"\n",
    ")"
   ]
  },
  {
   "cell_type": "code",
   "execution_count": null,
   "id": "08bfe037-4967-461a-be70-c85b95616207",
   "metadata": {
    "pycharm": {
     "name": "#%%\n"
    }
   },
   "outputs": [],
   "source": []
  }
 ],
 "metadata": {
  "kernelspec": {
   "display_name": "feast_ws",
   "language": "python",
   "name": "feast_workshop"
  },
  "language_info": {
   "codemirror_mode": {
    "name": "ipython",
    "version": 3
   },
   "file_extension": ".py",
   "mimetype": "text/x-python",
   "name": "python",
   "nbconvert_exporter": "python",
   "pygments_lexer": "ipython3",
   "version": "3.10.4"
  }
 },
 "nbformat": 4,
 "nbformat_minor": 5
}