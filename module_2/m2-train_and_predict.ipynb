{
 "cells": [
  {
   "cell_type": "markdown",
   "id": "cb324f74-8c08-43e8-9db1-71e5bcbb50e1",
   "metadata": {
    "pycharm": {
     "name": "#%% md\n"
    }
   },
   "source": [
    "## Import General Python libs, defined classes, and modules¶"
   ]
  },
  {
   "cell_type": "code",
   "execution_count": null,
   "id": "41d65f9d-2109-4c22-a705-ab3488ac5358",
   "metadata": {
    "pycharm": {
     "name": "#%%\n"
    }
   },
   "outputs": [],
   "source": [
    "# 3rd party imports\n",
    "import category_encoders as ce\n",
    "import feast\n",
    "import mlflow\n",
    "from mlflow.tracking import MlflowClient\n",
    "import pandas as pd\n",
    "from sklearn.neural_network import MLPClassifier"
   ]
  },
  {
   "cell_type": "markdown",
   "source": [
    "## Setup the feature store"
   ],
   "metadata": {
    "collapsed": false,
    "pycharm": {
     "name": "#%% md\n"
    }
   }
  },
  {
   "cell_type": "code",
   "execution_count": null,
   "outputs": [],
   "source": [
    "# Initialize feature store parameters\n",
    "REPO_PATH = \"/Users/kike/Library/CloudStorage/OneDrive-VMware,Inc/OCTO/2022-H1/Taurus/Feast/feast_workshops-master/module_1/feature_repo\"\n",
    "DATA_SOURCE = './data/driver_orders.csv'\n",
    "orders = pd.read_csv(DATA_SOURCE, sep=\"\\t\")\n",
    "print(f\"Driver orders table has {orders.shape[0]} rows and {orders.shape[1]} columns\")\n",
    "orders[\"event_timestamp\"] = pd.to_datetime(orders[\"event_timestamp\"])\n",
    "display(orders)"
   ],
   "metadata": {
    "collapsed": false,
    "pycharm": {
     "name": "#%%\n"
    }
   }
  },
  {
   "cell_type": "code",
   "execution_count": null,
   "outputs": [],
   "source": [
    "# Connect to the feature store service and display available services\n",
    "fs = feast.FeatureStore(repo_path=REPO_PATH) # create feature store object\n",
    "for feature_svc in fs.list_feature_services():\n",
    "    print(f\"Feature service name: {feature_svc.name}\")\n",
    "    for projection in feature_svc.feature_view_projections:\n",
    "        print(f\"\\tFeature view: {projection.name}\")\n",
    "        for feat in projection.features:\n",
    "            print(f\"\\t\\tFeature: {feat.name}, type: {feat.dtype}\")"
   ],
   "metadata": {
    "collapsed": false,
    "pycharm": {
     "name": "#%%\n"
    }
   }
  },
  {
   "cell_type": "code",
   "execution_count": null,
   "outputs": [],
   "source": [
    "# Initiate a feature service object\n",
    "FEATURE_SERVICE_NAME = \"driver_ranking_fv_svc\"\n",
    "feature_service = fs.get_feature_service(FEATURE_SERVICE_NAME) # get the feature service\n",
    "# Retrieve training data making a point-in-time join between the orders table\n",
    "# and the feature service.\n",
    "training_df = fs.get_historical_features(\n",
    "    entity_df=orders,\n",
    "    features=feature_service\n",
    ").to_df()\n",
    "display(training_df)"
   ],
   "metadata": {
    "collapsed": false,
    "pycharm": {
     "name": "#%%\n"
    }
   }
  },
  {
   "cell_type": "code",
   "execution_count": null,
   "outputs": [],
   "source": [
    "target = \"trip_completed\" # we want to predict is a trip would be completed\n",
    "train_y = training_df.loc[:, target].astype(float) # save the target column.\n",
    "\n",
    "# avg_daily_trips column standardization\n",
    "train_X = training_df.copy()\n",
    "col_mean = train_X['avg_daily_trips'].mean()\n",
    "col_std = train_X['avg_daily_trips'].std()\n",
    "train_X['avg_daily_trips_std'] = (train_X['avg_daily_trips'] - col_mean) / col_std\n",
    "\n",
    "# Drop columns not needed\n",
    "train_X = train_X[train_X.columns.drop(target).drop(\"event_timestamp\").drop(\"avg_daily_trips\")]\n",
    "\n",
    "# Categorical variable transformation\n",
    "cat_encoder = ce.OneHotEncoder(cols=['driver_id']) # create the dummy variable encoder\n",
    "train_X = cat_encoder.fit_transform(train_X) # train and apply encoder to get a numeric training set\n",
    "\n",
    "# Make dtypes float to avoid MLFlow warnings\n",
    "for col in train_X.columns:\n",
    "    train_X[col] = train_X[col].astype(float)\n",
    "\n",
    "train_X = train_X.reindex(sorted(train_X.columns), axis=1) # sort column names\n",
    "display(train_X)"
   ],
   "metadata": {
    "collapsed": false,
    "pycharm": {
     "name": "#%%\n"
    }
   }
  },
  {
   "cell_type": "code",
   "execution_count": null,
   "id": "34790d80-92e0-40e2-a033-2f33dfe176c6",
   "metadata": {
    "pycharm": {
     "name": "#%%\n"
    }
   },
   "outputs": [],
   "source": [
    "# Enable auto logging for mlflow and set the tracking uri with the local model registry\n",
    "# SQLite db\n",
    "mlflow.set_tracking_uri(\"sqlite:///mlruns.db\")\n",
    "mlflow.sklearn.autolog()\n",
    "\n",
    "# Define parameter options for best model search\n",
    "activations_list = ['logistic', 'tanh', 'relu']\n",
    "\n",
    "for activation in activations_list:\n",
    "    model = MLPClassifier(activation=activation,\n",
    "                          max_iter=500)\n",
    "\n",
    "    # Log some Feast data:Feast data source, features, feature services\n",
    "    with mlflow.start_run() as run:\n",
    "        model.fit(train_X[sorted(train_X)], train_y) # train model\n",
    "        # log model fit experiment in MLflow\n",
    "        mlflow.log_dict({\"features\": [\"driver_hourly_stats:conv_rate\",\n",
    "                                      \"driver_hourly_stats:acc_rate\",\n",
    "                                      \"driver_hourly_stats:avg_daily_trips\"],\n",
    "                     \"feast_feature_service\": FEATURE_SERVICE_NAME,\n",
    "                     \"feast_feature_data\": \"driver_hourly_stats\"}, \"feast_data.json\")\n",
    "        print(f\"MLPClassifier params: {activation}\")\n",
    "        print(f\"Model run id: {run.info.run_id}\")"
   ]
  },
  {
   "cell_type": "markdown",
   "id": "8b8c1d9b-8b76-47e7-9f97-481da9383101",
   "metadata": {
    "pycharm": {
     "name": "#%% md\n"
    }
   },
   "source": [
    "### CI/CD Intergration: Fetch the registered model from the Model Registry\n",
    " * Use the model URI (either by stage or version)\n",
    " * Make the predicion"
   ]
  },
  {
   "cell_type": "code",
   "execution_count": null,
   "outputs": [],
   "source": [
    "driver_ids = [1001, 1002, 1003] # Define entity rows to get from the online store\n",
    "# Query the online store\n",
    "df = driver_features = fs.get_online_features(\n",
    "    entity_rows=[{\"driver_id\": driver_id} for driver_id in driver_ids],\n",
    "    features=feature_service\n",
    ").to_df()\n",
    "display(df)"
   ],
   "metadata": {
    "collapsed": false,
    "pycharm": {
     "name": "#%%\n"
    }
   }
  },
  {
   "cell_type": "code",
   "execution_count": null,
   "outputs": [],
   "source": [
    "# Apply transformations (notice why it matters to save them from training time)\n",
    "df = cat_encoder.transform(df) # encode categorical variables\n",
    "df['avg_daily_trips_std'] = (df['avg_daily_trips'] - col_mean) / col_std # standardize values\n",
    "df.drop(columns=['avg_daily_trips'], inplace=True) # remove unwanted column\n",
    "df = df.reindex(sorted(df.columns), axis=1) # sort columns by name\n",
    "df"
   ],
   "metadata": {
    "collapsed": false,
    "pycharm": {
     "name": "#%%\n"
    }
   }
  },
  {
   "cell_type": "code",
   "execution_count": null,
   "id": "505800f6-4dd1-40c9-b9e8-c955b21b05bb",
   "metadata": {
    "pycharm": {
     "name": "#%%\n"
    }
   },
   "outputs": [],
   "source": [
    "model_uri = \"./mlruns/0/fd4c8846f63b4b29af58d5fa88360d99/artifacts/model\"\n",
    "saved_model = mlflow.sklearn.load_model(model_uri) # Recover model from MLFlow registry"
   ]
  },
  {
   "cell_type": "code",
   "execution_count": null,
   "outputs": [],
   "source": [
    "preds = saved_model.predict(df) # Run predictions from the dataframe\n",
    "for i,driver in enumerate(driver_ids):\n",
    "    print(f\"Prediction: Trip completed by driver {driver}?  {True if preds[i] else False}\")"
   ],
   "metadata": {
    "collapsed": false,
    "pycharm": {
     "name": "#%%\n"
    }
   }
  },
  {
   "cell_type": "markdown",
   "id": "1724d4a7-f352-4448-8dec-f1686ea9124d",
   "metadata": {
    "pycharm": {
     "name": "#%% md\n"
    }
   },
   "source": [
    "### CI/CD Integration: Transition the model to production "
   ]
  },
  {
   "cell_type": "code",
   "execution_count": null,
   "id": "e88e435d-4af0-49d5-956f-af2e2830d45f",
   "metadata": {
    "pycharm": {
     "name": "#%%\n"
    }
   },
   "outputs": [],
   "source": [
    "client = MlflowClient()\n",
    "client.transition_model_version_stage(\n",
    "    name=\"MLP_relu\",\n",
    "    version=1,\n",
    "    stage=\"Production\"\n",
    ")"
   ]
  }
 ],
 "metadata": {
  "kernelspec": {
   "display_name": "feast_ws",
   "language": "python",
   "name": "feast_workshop"
  },
  "language_info": {
   "codemirror_mode": {
    "name": "ipython",
    "version": 3
   },
   "file_extension": ".py",
   "mimetype": "text/x-python",
   "name": "python",
   "nbconvert_exporter": "python",
   "pygments_lexer": "ipython3",
   "version": "3.10.4"
  }
 },
 "nbformat": 4,
 "nbformat_minor": 5
}