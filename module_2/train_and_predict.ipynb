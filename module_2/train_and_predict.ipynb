{
 "cells": [
  {
   "cell_type": "markdown",
   "id": "cb324f74-8c08-43e8-9db1-71e5bcbb50e1",
   "metadata": {
    "pycharm": {
     "name": "#%% md\n"
    }
   },
   "source": [
    "### Import General Python libs, defined classes, and modules¶"
   ]
  },
  {
   "cell_type": "code",
   "execution_count": 1,
   "id": "41d65f9d-2109-4c22-a705-ab3488ac5358",
   "metadata": {
    "pycharm": {
     "name": "#%%\n"
    }
   },
   "outputs": [],
   "source": [
    "# 3rd party imports\n",
    "import category_encoders as ce\n",
    "import feast\n",
    "import mlflow\n",
    "from mlflow.tracking import MlflowClient\n",
    "import pandas as pd\n",
    "from sklearn.neural_network import MLPClassifier"
   ]
  },
  {
   "cell_type": "markdown",
   "source": [
    "### Setup the feature store"
   ],
   "metadata": {
    "collapsed": false,
    "pycharm": {
     "name": "#%% md\n"
    }
   }
  },
  {
   "cell_type": "code",
   "execution_count": 2,
   "outputs": [
    {
     "name": "stdout",
     "output_type": "stream",
     "text": [
      "Driver orders table has 10 rows and 3 columns\n"
     ]
    },
    {
     "data": {
      "text/plain": "            event_timestamp  driver_id  trip_completed\n0 2021-04-16 20:29:28+00:00       1001               1\n1 2021-04-17 04:29:28+00:00       1002               0\n2 2021-04-17 12:29:28+00:00       1003               0\n3 2021-04-17 20:29:28+00:00       1001               1\n4 2021-04-18 04:29:28+00:00       1002               0\n5 2021-04-18 12:29:28+00:00       1003               0\n6 2021-04-18 20:29:28+00:00       1001               1\n7 2021-04-19 04:29:28+00:00       1002               0\n8 2021-04-19 12:29:28+00:00       1003               0\n9 2021-04-19 20:29:28+00:00       1004               1",
      "text/html": "<div>\n<style scoped>\n    .dataframe tbody tr th:only-of-type {\n        vertical-align: middle;\n    }\n\n    .dataframe tbody tr th {\n        vertical-align: top;\n    }\n\n    .dataframe thead th {\n        text-align: right;\n    }\n</style>\n<table border=\"1\" class=\"dataframe\">\n  <thead>\n    <tr style=\"text-align: right;\">\n      <th></th>\n      <th>event_timestamp</th>\n      <th>driver_id</th>\n      <th>trip_completed</th>\n    </tr>\n  </thead>\n  <tbody>\n    <tr>\n      <th>0</th>\n      <td>2021-04-16 20:29:28+00:00</td>\n      <td>1001</td>\n      <td>1</td>\n    </tr>\n    <tr>\n      <th>1</th>\n      <td>2021-04-17 04:29:28+00:00</td>\n      <td>1002</td>\n      <td>0</td>\n    </tr>\n    <tr>\n      <th>2</th>\n      <td>2021-04-17 12:29:28+00:00</td>\n      <td>1003</td>\n      <td>0</td>\n    </tr>\n    <tr>\n      <th>3</th>\n      <td>2021-04-17 20:29:28+00:00</td>\n      <td>1001</td>\n      <td>1</td>\n    </tr>\n    <tr>\n      <th>4</th>\n      <td>2021-04-18 04:29:28+00:00</td>\n      <td>1002</td>\n      <td>0</td>\n    </tr>\n    <tr>\n      <th>5</th>\n      <td>2021-04-18 12:29:28+00:00</td>\n      <td>1003</td>\n      <td>0</td>\n    </tr>\n    <tr>\n      <th>6</th>\n      <td>2021-04-18 20:29:28+00:00</td>\n      <td>1001</td>\n      <td>1</td>\n    </tr>\n    <tr>\n      <th>7</th>\n      <td>2021-04-19 04:29:28+00:00</td>\n      <td>1002</td>\n      <td>0</td>\n    </tr>\n    <tr>\n      <th>8</th>\n      <td>2021-04-19 12:29:28+00:00</td>\n      <td>1003</td>\n      <td>0</td>\n    </tr>\n    <tr>\n      <th>9</th>\n      <td>2021-04-19 20:29:28+00:00</td>\n      <td>1004</td>\n      <td>1</td>\n    </tr>\n  </tbody>\n</table>\n</div>"
     },
     "execution_count": 2,
     "metadata": {},
     "output_type": "execute_result"
    }
   ],
   "source": [
    "# Initialize feature store parameters\n",
    "REPO_PATH = \"/Users/kike/Library/CloudStorage/OneDrive-VMware,Inc/OCTO/2022-H1/Taurus/Feast/feast_workshops-master/module_1/feature_repo\"\n",
    "DATA_SOURCE = './data/driver_orders.csv'\n",
    "orders = pd.read_csv(DATA_SOURCE, sep=\"\\t\")\n",
    "print(f\"Driver orders table has {orders.shape[0]} rows and {orders.shape[1]} columns\")\n",
    "orders[\"event_timestamp\"] = pd.to_datetime(orders[\"event_timestamp\"])\n",
    "orders.head(10)"
   ],
   "metadata": {
    "collapsed": false,
    "pycharm": {
     "name": "#%%\n"
    }
   }
  },
  {
   "cell_type": "code",
   "execution_count": 3,
   "outputs": [
    {
     "name": "stdout",
     "output_type": "stream",
     "text": [
      "Feature view: driver_hourly_stats\n",
      "\tFeature: conv_rate, type: Float32\n",
      "\tFeature: acc_rate, type: Float32\n",
      "\tFeature: avg_daily_trips, type: Int64\n"
     ]
    }
   ],
   "source": [
    "# Connect to the feature store service\n",
    "REPO_PATH = \"/Users/kike/Library/CloudStorage/OneDrive-VMware,Inc/OCTO/2022-H1/Taurus/Feast/feast_workshops-master/module_1/feature_repo\"\n",
    "FEATURE_SERVICE_NAME = \"driver_ranking_fv_svc\"\n",
    "fs = feast.FeatureStore(repo_path=REPO_PATH) # create feature store object\n",
    "feature_service = fs.get_feature_service(FEATURE_SERVICE_NAME) # get the feature service\n",
    "# Display the feature views available and their features:\n",
    "for feat_view in feature_service.feature_view_projections:\n",
    "    print(f\"Feature view: {feat_view.name}\")\n",
    "    for feat in feat_view.features:\n",
    "        print(f\"\\tFeature: {feat.name}, type: {feat.dtype}\")"
   ],
   "metadata": {
    "collapsed": false,
    "pycharm": {
     "name": "#%%\n"
    }
   }
  },
  {
   "cell_type": "code",
   "execution_count": 4,
   "outputs": [
    {
     "data": {
      "text/plain": "               event_timestamp  driver_id  trip_completed  conv_rate  \\\n360  2021-04-16 20:29:28+00:00       1001               1   0.175219   \n721  2021-04-17 04:29:28+00:00       1002               0   0.312347   \n1082 2021-04-17 12:29:28+00:00       1003               0   0.736727   \n1445 2021-04-17 20:29:28+00:00       1001               1   0.175219   \n1806 2021-04-18 04:29:28+00:00       1002               0   0.312347   \n2167 2021-04-18 12:29:28+00:00       1003               0   0.736727   \n2530 2021-04-18 20:29:28+00:00       1001               1   0.175219   \n2891 2021-04-19 04:29:28+00:00       1002               0   0.312347   \n3252 2021-04-19 12:29:28+00:00       1003               0   0.736727   \n3615 2021-04-19 20:29:28+00:00       1004               1   0.094609   \n\n      acc_rate  avg_daily_trips  \n360   0.761434              385  \n721   0.481786              810  \n1082  0.936667              939  \n1445  0.761434              385  \n1806  0.481786              810  \n2167  0.936667              939  \n2530  0.761434              385  \n2891  0.481786              810  \n3252  0.936667              939  \n3615  0.151163              166  ",
      "text/html": "<div>\n<style scoped>\n    .dataframe tbody tr th:only-of-type {\n        vertical-align: middle;\n    }\n\n    .dataframe tbody tr th {\n        vertical-align: top;\n    }\n\n    .dataframe thead th {\n        text-align: right;\n    }\n</style>\n<table border=\"1\" class=\"dataframe\">\n  <thead>\n    <tr style=\"text-align: right;\">\n      <th></th>\n      <th>event_timestamp</th>\n      <th>driver_id</th>\n      <th>trip_completed</th>\n      <th>conv_rate</th>\n      <th>acc_rate</th>\n      <th>avg_daily_trips</th>\n    </tr>\n  </thead>\n  <tbody>\n    <tr>\n      <th>360</th>\n      <td>2021-04-16 20:29:28+00:00</td>\n      <td>1001</td>\n      <td>1</td>\n      <td>0.175219</td>\n      <td>0.761434</td>\n      <td>385</td>\n    </tr>\n    <tr>\n      <th>721</th>\n      <td>2021-04-17 04:29:28+00:00</td>\n      <td>1002</td>\n      <td>0</td>\n      <td>0.312347</td>\n      <td>0.481786</td>\n      <td>810</td>\n    </tr>\n    <tr>\n      <th>1082</th>\n      <td>2021-04-17 12:29:28+00:00</td>\n      <td>1003</td>\n      <td>0</td>\n      <td>0.736727</td>\n      <td>0.936667</td>\n      <td>939</td>\n    </tr>\n    <tr>\n      <th>1445</th>\n      <td>2021-04-17 20:29:28+00:00</td>\n      <td>1001</td>\n      <td>1</td>\n      <td>0.175219</td>\n      <td>0.761434</td>\n      <td>385</td>\n    </tr>\n    <tr>\n      <th>1806</th>\n      <td>2021-04-18 04:29:28+00:00</td>\n      <td>1002</td>\n      <td>0</td>\n      <td>0.312347</td>\n      <td>0.481786</td>\n      <td>810</td>\n    </tr>\n    <tr>\n      <th>2167</th>\n      <td>2021-04-18 12:29:28+00:00</td>\n      <td>1003</td>\n      <td>0</td>\n      <td>0.736727</td>\n      <td>0.936667</td>\n      <td>939</td>\n    </tr>\n    <tr>\n      <th>2530</th>\n      <td>2021-04-18 20:29:28+00:00</td>\n      <td>1001</td>\n      <td>1</td>\n      <td>0.175219</td>\n      <td>0.761434</td>\n      <td>385</td>\n    </tr>\n    <tr>\n      <th>2891</th>\n      <td>2021-04-19 04:29:28+00:00</td>\n      <td>1002</td>\n      <td>0</td>\n      <td>0.312347</td>\n      <td>0.481786</td>\n      <td>810</td>\n    </tr>\n    <tr>\n      <th>3252</th>\n      <td>2021-04-19 12:29:28+00:00</td>\n      <td>1003</td>\n      <td>0</td>\n      <td>0.736727</td>\n      <td>0.936667</td>\n      <td>939</td>\n    </tr>\n    <tr>\n      <th>3615</th>\n      <td>2021-04-19 20:29:28+00:00</td>\n      <td>1004</td>\n      <td>1</td>\n      <td>0.094609</td>\n      <td>0.151163</td>\n      <td>166</td>\n    </tr>\n  </tbody>\n</table>\n</div>"
     },
     "execution_count": 4,
     "metadata": {},
     "output_type": "execute_result"
    }
   ],
   "source": [
    "# Retrieve training data from local parquet FileSource\n",
    "training_df = fs.get_historical_features(\n",
    "    entity_df=orders,\n",
    "    features=feature_service\n",
    ").to_df()\n",
    "training_df"
   ],
   "metadata": {
    "collapsed": false,
    "pycharm": {
     "name": "#%%\n"
    }
   }
  },
  {
   "cell_type": "code",
   "execution_count": 5,
   "outputs": [
    {
     "data": {
      "text/plain": "      acc_rate  avg_daily_trips  conv_rate  driver_id_1  driver_id_2  \\\n360   0.761434              385   0.175219            1            0   \n721   0.481786              810   0.312347            0            1   \n1082  0.936667              939   0.736727            0            0   \n1445  0.761434              385   0.175219            1            0   \n1806  0.481786              810   0.312347            0            1   \n2167  0.936667              939   0.736727            0            0   \n2530  0.761434              385   0.175219            1            0   \n2891  0.481786              810   0.312347            0            1   \n3252  0.936667              939   0.736727            0            0   \n3615  0.151163              166   0.094609            0            0   \n\n      driver_id_3  driver_id_4  \n360             0            0  \n721             0            0  \n1082            1            0  \n1445            0            0  \n1806            0            0  \n2167            1            0  \n2530            0            0  \n2891            0            0  \n3252            1            0  \n3615            0            1  ",
      "text/html": "<div>\n<style scoped>\n    .dataframe tbody tr th:only-of-type {\n        vertical-align: middle;\n    }\n\n    .dataframe tbody tr th {\n        vertical-align: top;\n    }\n\n    .dataframe thead th {\n        text-align: right;\n    }\n</style>\n<table border=\"1\" class=\"dataframe\">\n  <thead>\n    <tr style=\"text-align: right;\">\n      <th></th>\n      <th>acc_rate</th>\n      <th>avg_daily_trips</th>\n      <th>conv_rate</th>\n      <th>driver_id_1</th>\n      <th>driver_id_2</th>\n      <th>driver_id_3</th>\n      <th>driver_id_4</th>\n    </tr>\n  </thead>\n  <tbody>\n    <tr>\n      <th>360</th>\n      <td>0.761434</td>\n      <td>385</td>\n      <td>0.175219</td>\n      <td>1</td>\n      <td>0</td>\n      <td>0</td>\n      <td>0</td>\n    </tr>\n    <tr>\n      <th>721</th>\n      <td>0.481786</td>\n      <td>810</td>\n      <td>0.312347</td>\n      <td>0</td>\n      <td>1</td>\n      <td>0</td>\n      <td>0</td>\n    </tr>\n    <tr>\n      <th>1082</th>\n      <td>0.936667</td>\n      <td>939</td>\n      <td>0.736727</td>\n      <td>0</td>\n      <td>0</td>\n      <td>1</td>\n      <td>0</td>\n    </tr>\n    <tr>\n      <th>1445</th>\n      <td>0.761434</td>\n      <td>385</td>\n      <td>0.175219</td>\n      <td>1</td>\n      <td>0</td>\n      <td>0</td>\n      <td>0</td>\n    </tr>\n    <tr>\n      <th>1806</th>\n      <td>0.481786</td>\n      <td>810</td>\n      <td>0.312347</td>\n      <td>0</td>\n      <td>1</td>\n      <td>0</td>\n      <td>0</td>\n    </tr>\n    <tr>\n      <th>2167</th>\n      <td>0.936667</td>\n      <td>939</td>\n      <td>0.736727</td>\n      <td>0</td>\n      <td>0</td>\n      <td>1</td>\n      <td>0</td>\n    </tr>\n    <tr>\n      <th>2530</th>\n      <td>0.761434</td>\n      <td>385</td>\n      <td>0.175219</td>\n      <td>1</td>\n      <td>0</td>\n      <td>0</td>\n      <td>0</td>\n    </tr>\n    <tr>\n      <th>2891</th>\n      <td>0.481786</td>\n      <td>810</td>\n      <td>0.312347</td>\n      <td>0</td>\n      <td>1</td>\n      <td>0</td>\n      <td>0</td>\n    </tr>\n    <tr>\n      <th>3252</th>\n      <td>0.936667</td>\n      <td>939</td>\n      <td>0.736727</td>\n      <td>0</td>\n      <td>0</td>\n      <td>1</td>\n      <td>0</td>\n    </tr>\n    <tr>\n      <th>3615</th>\n      <td>0.151163</td>\n      <td>166</td>\n      <td>0.094609</td>\n      <td>0</td>\n      <td>0</td>\n      <td>0</td>\n      <td>1</td>\n    </tr>\n  </tbody>\n</table>\n</div>"
     },
     "execution_count": 5,
     "metadata": {},
     "output_type": "execute_result"
    }
   ],
   "source": [
    "\"\"# Transform the driver_id column into a dummy variable\n",
    "target = \"trip_completed\"\n",
    "train_y = training_df.loc[:, target]\n",
    "train_X = training_df[training_df.columns.drop(target).drop(\"event_timestamp\")]\n",
    "cat_encoder = ce.OneHotEncoder(cols=['driver_id']) # create the encoder\n",
    "train_X = cat_encoder.fit_transform(train_X) # train and apply encoder\n",
    "train_X = train_X.reindex(sorted(train_X.columns), axis=1) # sort column names\n",
    "train_X"
   ],
   "metadata": {
    "collapsed": false,
    "pycharm": {
     "name": "#%%\n"
    }
   }
  },
  {
   "cell_type": "markdown",
   "id": "5c850031-25ce-4130-ba70-8052484c7c2b",
   "metadata": {
    "pycharm": {
     "name": "#%% md\n"
    }
   },
   "source": [
    "\"### Train the model\n",
    " * Use the `DriverRankingTrainingModel` class, which fetches training data from the Feast data source\n",
    " * Use `mlflow.autolog` to automatically log the parameters and computed metrics during training\n",
    " * Use `mflow` Fluent APIs to log the Feast training set"
   ]
  },
  {
   "cell_type": "markdown",
   "id": "022489be-d36b-43ce-bc6a-cb4b76d1130e",
   "metadata": {
    "pycharm": {
     "name": "#%% md\n"
    }
   },
   "source": [
    "### Define MLPClassifier tuning parameters and run some experiments"
   ]
  },
  {
   "cell_type": "code",
   "execution_count": 6,
   "id": "34790d80-92e0-40e2-a033-2f33dfe176c6",
   "metadata": {
    "pycharm": {
     "name": "#%%\n"
    }
   },
   "outputs": [
    {
     "name": "stderr",
     "output_type": "stream",
     "text": [
      "/Users/kike/opt/miniconda3/envs/feast_workshop/lib/python3.10/site-packages/sklearn/neural_network/_multilayer_perceptron.py:702: ConvergenceWarning: Stochastic Optimizer: Maximum iterations (200) reached and the optimization hasn't converged yet.\n",
      "  warnings.warn(\n",
      "2022/06/20 15:25:40 WARNING mlflow.utils.autologging_utils: MLflow autologging encountered a warning: \"/Users/kike/opt/miniconda3/envs/feast_workshop/lib/python3.10/site-packages/mlflow/models/signature.py:129: UserWarning: Hint: Inferred schema contains integer column(s). Integer columns in Python cannot represent missing values. If your input data contains missing values at inference time, it will be encoded as floats and will cause a schema enforcement error. The best way to avoid this problem is to infer the model schema based on a realistic data sample (training dataset) that includes missing values. Alternatively, you can declare integer columns as doubles (float64) whenever these columns may have missing values. See `Handling Integers With Missing Values <https://www.mlflow.org/docs/latest/models.html#handling-integers-with-missing-values>`_ for more details.\"\n",
      "2022/06/20 15:25:42 WARNING mlflow.utils.autologging_utils: MLflow autologging encountered a warning: \"/Users/kike/opt/miniconda3/envs/feast_workshop/lib/python3.10/site-packages/_distutils_hack/__init__.py:30: UserWarning: Setuptools is replacing distutils.\"\n",
      "2022/06/20 15:25:42 WARNING mlflow.utils.autologging_utils: MLflow autologging encountered a warning: \"/Users/kike/opt/miniconda3/envs/feast_workshop/lib/python3.10/site-packages/setuptools/_distutils/dir_util.py:120: DeprecationWarning: The distutils package is deprecated and slated for removal in Python 3.12. Use setuptools or check PEP 632 for potential alternatives\"\n",
      "/Users/kike/opt/miniconda3/envs/feast_workshop/lib/python3.10/site-packages/sklearn/neural_network/_multilayer_perceptron.py:702: ConvergenceWarning: Stochastic Optimizer: Maximum iterations (200) reached and the optimization hasn't converged yet.\n",
      "  warnings.warn(\n"
     ]
    },
    {
     "name": "stdout",
     "output_type": "stream",
     "text": [
      "SGDClassifier params: logistic\n",
      "Model run id: 107e130525bc40078eea006a1e03cff1\n"
     ]
    },
    {
     "name": "stderr",
     "output_type": "stream",
     "text": [
      "2022/06/20 15:25:43 WARNING mlflow.utils.autologging_utils: MLflow autologging encountered a warning: \"/Users/kike/opt/miniconda3/envs/feast_workshop/lib/python3.10/site-packages/mlflow/models/signature.py:129: UserWarning: Hint: Inferred schema contains integer column(s). Integer columns in Python cannot represent missing values. If your input data contains missing values at inference time, it will be encoded as floats and will cause a schema enforcement error. The best way to avoid this problem is to infer the model schema based on a realistic data sample (training dataset) that includes missing values. Alternatively, you can declare integer columns as doubles (float64) whenever these columns may have missing values. See `Handling Integers With Missing Values <https://www.mlflow.org/docs/latest/models.html#handling-integers-with-missing-values>`_ for more details.\"\n"
     ]
    },
    {
     "name": "stdout",
     "output_type": "stream",
     "text": [
      "SGDClassifier params: tanh\n",
      "Model run id: 2e78ee78e0734eb1a3fc61f6eb49ee20\n"
     ]
    },
    {
     "name": "stderr",
     "output_type": "stream",
     "text": [
      "/Users/kike/opt/miniconda3/envs/feast_workshop/lib/python3.10/site-packages/sklearn/metrics/_classification.py:1327: UndefinedMetricWarning: Precision is ill-defined and being set to 0.0 in labels with no predicted samples. Use `zero_division` parameter to control this behavior.\n",
      "  _warn_prf(average, modifier, msg_start, len(result))\n",
      "2022/06/20 15:25:45 WARNING mlflow.utils.autologging_utils: MLflow autologging encountered a warning: \"/Users/kike/opt/miniconda3/envs/feast_workshop/lib/python3.10/site-packages/mlflow/models/signature.py:129: UserWarning: Hint: Inferred schema contains integer column(s). Integer columns in Python cannot represent missing values. If your input data contains missing values at inference time, it will be encoded as floats and will cause a schema enforcement error. The best way to avoid this problem is to infer the model schema based on a realistic data sample (training dataset) that includes missing values. Alternatively, you can declare integer columns as doubles (float64) whenever these columns may have missing values. See `Handling Integers With Missing Values <https://www.mlflow.org/docs/latest/models.html#handling-integers-with-missing-values>`_ for more details.\"\n"
     ]
    },
    {
     "name": "stdout",
     "output_type": "stream",
     "text": [
      "SGDClassifier params: relu\n",
      "Model run id: 83c0b890c4d041d9af1c84e74673c8c0\n"
     ]
    }
   ],
   "source": [
    "# Enable auto logging for mlflow and set the tracking uri with the local model registry\n",
    "# SQLite db\n",
    "mlflow.set_tracking_uri(\"sqlite:///mlruns.db\")\n",
    "mlflow.sklearn.autolog()\n",
    "\n",
    "# Define parameters for best model search\n",
    "params_list = ['logistic', 'tanh', 'relu']\n",
    "\n",
    "for params in params_list:\n",
    "    model = MLPClassifier(activation=params)\n",
    "\n",
    "    # Log some Feast data:Feast data source, features, feature services\n",
    "    with mlflow.start_run() as run:\n",
    "        model.fit(train_X[sorted(train_X)], train_y) # train model\n",
    "        # log model fit experiment in MLflow\n",
    "        mlflow.log_dict({\"features\": [\"driver_hourly_stats:conv_rate\",\n",
    "                                      \"driver_hourly_stats:acc_rate\",\n",
    "                                      \"driver_hourly_stats:avg_daily_trips\"],\n",
    "                     \"feast_feature_service\": FEATURE_SERVICE_NAME,\n",
    "                     \"feast_feature_data\": \"driver_hourly_stats\"}, \"feast_data.json\")\n",
    "    print(f\"MLPClassifier params: {params}\")\n",
    "    print(f\"Model run id: {run.info.run_id}\")"
   ]
  },
  {
   "cell_type": "markdown",
   "id": "b75bb9f6-2896-4328-b834-17dfc2eaaa62",
   "metadata": {
    "pycharm": {
     "name": "#%% md\n"
    }
   },
   "source": [
    "### Iterate and experiment MLflow runs tunning parameters"
   ]
  },
  {
   "cell_type": "markdown",
   "id": "6eac8e13-789e-4083-8e1e-8eb8ecedfb58",
   "metadata": {
    "pycharm": {
     "name": "#%% md\n"
    }
   },
   "source": [
    "### Launch the MLflow ui, with Model Registry at the local SQLite database\n",
    " * Navigate and examine runs for the model\n",
    " * Register the best model with lowest RMSE with the Model Registry"
   ]
  },
  {
   "cell_type": "code",
   "execution_count": 7,
   "id": "2b0ae189-cc55-431b-9889-9f007f1327a3",
   "metadata": {
    "pycharm": {
     "name": "#%%\n"
    }
   },
   "outputs": [],
   "source": [
    "#!mlflow ui  --backend-store-uri sqlite:///mlruns.db"
   ]
  },
  {
   "cell_type": "markdown",
   "id": "8b8c1d9b-8b76-47e7-9f97-481da9383101",
   "metadata": {
    "pycharm": {
     "name": "#%% md\n"
    }
   },
   "source": [
    "### CI/CD Intergration: Fetch the registered model from the Model Registry\n",
    " * Use the model URI (either by stage or version)\n",
    " * Make the predicion"
   ]
  },
  {
   "cell_type": "code",
   "execution_count": 8,
   "outputs": [
    {
     "data": {
      "text/plain": "   acc_rate  avg_daily_trips  conv_rate  driver_id_1  driver_id_2  \\\n0  0.927691              114   0.222534            1            0   \n1  0.357142              573   0.913528            0            1   \n2  0.558202              451   0.581626            0            0   \n\n   driver_id_3  driver_id_4  \n0            0            0  \n1            0            0  \n2            1            0  ",
      "text/html": "<div>\n<style scoped>\n    .dataframe tbody tr th:only-of-type {\n        vertical-align: middle;\n    }\n\n    .dataframe tbody tr th {\n        vertical-align: top;\n    }\n\n    .dataframe thead th {\n        text-align: right;\n    }\n</style>\n<table border=\"1\" class=\"dataframe\">\n  <thead>\n    <tr style=\"text-align: right;\">\n      <th></th>\n      <th>acc_rate</th>\n      <th>avg_daily_trips</th>\n      <th>conv_rate</th>\n      <th>driver_id_1</th>\n      <th>driver_id_2</th>\n      <th>driver_id_3</th>\n      <th>driver_id_4</th>\n    </tr>\n  </thead>\n  <tbody>\n    <tr>\n      <th>0</th>\n      <td>0.927691</td>\n      <td>114</td>\n      <td>0.222534</td>\n      <td>1</td>\n      <td>0</td>\n      <td>0</td>\n      <td>0</td>\n    </tr>\n    <tr>\n      <th>1</th>\n      <td>0.357142</td>\n      <td>573</td>\n      <td>0.913528</td>\n      <td>0</td>\n      <td>1</td>\n      <td>0</td>\n      <td>0</td>\n    </tr>\n    <tr>\n      <th>2</th>\n      <td>0.558202</td>\n      <td>451</td>\n      <td>0.581626</td>\n      <td>0</td>\n      <td>0</td>\n      <td>1</td>\n      <td>0</td>\n    </tr>\n  </tbody>\n</table>\n</div>"
     },
     "execution_count": 8,
     "metadata": {},
     "output_type": "execute_result"
    }
   ],
   "source": [
    "driver_ids = [1001, 1002, 1003]\n",
    "driver_features = fs.get_online_features(\n",
    "    entity_rows=[{\"driver_id\": driver_id} for driver_id in driver_ids],\n",
    "    features=feature_service\n",
    ")\n",
    "df = pd.DataFrame.from_dict(driver_features.to_dict())\n",
    "df = cat_encoder.transform(df)\n",
    "df = df.reindex(sorted(df.columns), axis=1)\n",
    "df"
   ],
   "metadata": {
    "collapsed": false,
    "pycharm": {
     "name": "#%%\n"
    }
   }
  },
  {
   "cell_type": "code",
   "execution_count": 9,
   "id": "505800f6-4dd1-40c9-b9e8-c955b21b05bb",
   "metadata": {
    "pycharm": {
     "name": "#%%\n"
    }
   },
   "outputs": [],
   "source": [
    "#mlflow.set_tracking_uri(\"sqlite:///mlruns.db\")\n",
    "#model_uri = \"models:/sklearn_feast_integration/staging\"\n",
    "model_uri = \"./mlruns/0/e96717fbfdc84c0895078346568ed2e2/artifacts/model\"\n",
    "saved_model = mlflow.sklearn.load_model(model_uri)"
   ]
  },
  {
   "cell_type": "code",
   "execution_count": 10,
   "outputs": [
    {
     "name": "stdout",
     "output_type": "stream",
     "text": [
      "Prediction: Trip completed?  True\n",
      "Prediction: Trip completed?  False\n",
      "Prediction: Trip completed?  False\n"
     ]
    }
   ],
   "source": [
    "for pred in saved_model.predict(df):\n",
    "    print(f\"Prediction: Trip completed?  {True if pred else False}\")"
   ],
   "metadata": {
    "collapsed": false,
    "pycharm": {
     "name": "#%%\n"
    }
   }
  },
  {
   "cell_type": "markdown",
   "id": "1724d4a7-f352-4448-8dec-f1686ea9124d",
   "metadata": {
    "pycharm": {
     "name": "#%% md\n"
    }
   },
   "source": [
    "### CI/CD Integration: Transition the model to production "
   ]
  },
  {
   "cell_type": "code",
   "execution_count": 11,
   "id": "e88e435d-4af0-49d5-956f-af2e2830d45f",
   "metadata": {
    "pycharm": {
     "name": "#%%\n"
    }
   },
   "outputs": [
    {
     "data": {
      "text/plain": "<ModelVersion: creation_timestamp=1655745422910, current_stage='Production', description='', last_updated_timestamp=1655756747605, name='MLP_relu', run_id='e96717fbfdc84c0895078346568ed2e2', run_link='', source='./mlruns/0/e96717fbfdc84c0895078346568ed2e2/artifacts/model', status='READY', status_message=None, tags={}, user_id=None, version=1>"
     },
     "execution_count": 11,
     "metadata": {},
     "output_type": "execute_result"
    }
   ],
   "source": [
    "client = MlflowClient()\n",
    "client.transition_model_version_stage(\n",
    "    name=\"MLP_relu\",\n",
    "    version=1,\n",
    "    stage=\"Production\"\n",
    ")"
   ]
  }
 ],
 "metadata": {
  "kernelspec": {
   "display_name": "feast_ws",
   "language": "python",
   "name": "feast_workshop"
  },
  "language_info": {
   "codemirror_mode": {
    "name": "ipython",
    "version": 3
   },
   "file_extension": ".py",
   "mimetype": "text/x-python",
   "name": "python",
   "nbconvert_exporter": "python",
   "pygments_lexer": "ipython3",
   "version": "3.10.4"
  }
 },
 "nbformat": 4,
 "nbformat_minor": 5
}