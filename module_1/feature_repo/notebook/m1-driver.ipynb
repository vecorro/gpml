{
 "cells": [
  {
   "cell_type": "markdown",
   "source": [
    "## Import Python libs and modules"
   ],
   "metadata": {
    "collapsed": false,
    "pycharm": {
     "name": "#%% md\n"
    }
   }
  },
  {
   "cell_type": "code",
   "execution_count": null,
   "id": "b0e8be22-20e1-4772-9e79-7707ba52ae92",
   "metadata": {
    "pycharm": {
     "name": "#%%\n"
    }
   },
   "outputs": [],
   "source": [
    "# 3rd party imports\n",
    "from datetime import datetime, timedelta\n",
    "from pprint import pprint\n",
    "import pandas as pd\n",
    "from feast import (FeatureStore,\n",
    "                    FileSource,\n",
    "                    FeatureService,\n",
    "                    FeatureView,\n",
    "                    Field,\n",
    "                    Entity)\n",
    "from feast.types import  Float32, Int32"
   ]
  },
  {
   "cell_type": "markdown",
   "id": "a9d740cb-a03f-4ab6-8a27-a81abcf81643",
   "metadata": {
    "pycharm": {
     "name": "#%% md\n"
    }
   },
   "source": [
    "## Define the Feast repo location and create its registry."
   ]
  },
  {
   "cell_type": "code",
   "execution_count": null,
   "outputs": [],
   "source": [
    "# Change the following variable to the right path for your environment\n",
    "FEAST_REPO = \"/Users/kike/Library/CloudStorage/OneDrive-VMware,Inc/OCTO/2022-H1/Taurus/Feast/feast_workshops-master/module_1/feature_repo\"\n",
    "fs = FeatureStore(repo_path=FEAST_REPO)\n",
    "pprint(fs.config.dict())"
   ],
   "metadata": {
    "collapsed": false,
    "pycharm": {
     "name": "#%%\n"
    }
   }
  },
  {
   "cell_type": "markdown",
   "id": "71ad5468-344a-4d0e-b1a1-18ccc118d906",
   "metadata": {
    "pycharm": {
     "name": "#%% md\n"
    }
   },
   "source": [
    "## Register the Data Source, the Entity, the features in the FeatureView, and the FeatureService with the Feast Registry"
   ]
  },
  {
   "cell_type": "code",
   "execution_count": null,
   "outputs": [],
   "source": [
    "# This is the data source which could be provided by Postgress or Taurus DWH\n",
    "driver_stats = pd.read_parquet(path=f\"{FEAST_REPO}/data/driver_stats.parquet\")\n",
    "display(driver_stats.sort_values(by = 'datetime', ascending=False))"
   ],
   "metadata": {
    "collapsed": false,
    "pycharm": {
     "name": "#%%\n"
    }
   }
  },
  {
   "cell_type": "code",
   "execution_count": null,
   "outputs": [],
   "source": [
    "'''\n",
    "Create a FileSource from a file containing feature data. Only Parquet format supported. We use two parameters:\n",
    "- created_timestamp_column – Timestamp column when row was created, used for deduplicating rows.\n",
    "- timestamp_field – Event timestamp foe;d used for point in time joins of feature values.\n",
    "'''\n",
    "driver_hourly_stats = FileSource(path=f\"{FEAST_REPO}/data/driver_stats.parquet\",\n",
    "                                 timestamp_field=\"datetime\",\n",
    "                                 created_timestamp_column=\"created\")\n",
    "driver = Entity(name=\"driver_id\",\n",
    "                value_type=Int32,\n",
    "                description=\"driver id\",)\n",
    "\n",
    "driver_hourly_stats_view = FeatureView(\n",
    "    name=\"driver_hourly_stats\",\n",
    "    entities=[\"driver_id\"],\n",
    "    ttl=timedelta(seconds=86400 * 365), # 1 year\n",
    "    schema=[\n",
    "        Field(name=\"conv_rate\", dtype=Float32),\n",
    "        Field(name=\"acc_rate\", dtype=Float32),\n",
    "        Field(name=\"avg_daily_trips\", dtype=Int32),\n",
    "    ],\n",
    "    online=True,\n",
    "    source=driver_hourly_stats,\n",
    "    tags={},\n",
    ")\n",
    "\n",
    "driver_feature_svc = FeatureService(name=\"driver_ranking_fv_svc\",\n",
    "                           features=[driver_hourly_stats_view],\n",
    "                           tags={\"description\": \"Features used to train a MLP model\"})\n",
    "\n",
    "fs.apply([driver, driver_feature_svc, driver_hourly_stats_view]) # create (initialize) the feature store"
   ],
   "metadata": {
    "collapsed": false,
    "pycharm": {
     "name": "#%%\n"
    }
   }
  },
  {
   "cell_type": "markdown",
   "id": "59dfd3cb-6f14-4896-a58f-f38d8a3e56c5",
   "metadata": {
    "pycharm": {
     "name": "#%% md\n"
    }
   },
   "source": [
    "## Get the training historical data"
   ]
  },
  {
   "cell_type": "code",
   "execution_count": null,
   "outputs": [],
   "source": [
    "# We define a toy dataset that has no numeric features\n",
    "entity_df = pd.DataFrame.from_dict(\n",
    "    {\n",
    "        \"driver_id\": [1001, 1002, 1003, 1004],\n",
    "        \"event_timestamp\": [\n",
    "            datetime(2021, 4, 12, 10, 59, 42),\n",
    "            datetime(2021, 4, 12, 8, 12, 10),\n",
    "            datetime(2021, 4, 12, 16, 40, 26),\n",
    "            datetime(2021, 4, 12, 15, 1, 12),\n",
    "        ],\n",
    "    }\n",
    ")\n",
    "entity_df"
   ],
   "metadata": {
    "collapsed": false,
    "pycharm": {
     "name": "#%%\n"
    }
   }
  },
  {
   "cell_type": "markdown",
   "source": [
    "## Point-in-time join\n",
    "- Feast is able to join features from one or more feature views onto an entity data frame in a point-in-time correct way. This means Feast is able to reproduce the state of features at a specific point in the past.\n",
    "- More info at [Feast point-in-time joins](http://docs.feast.dev/getting-started/concepts/point-in-time-joins)"
   ],
   "metadata": {
    "collapsed": false,
    "pycharm": {
     "name": "#%% md\n"
    }
   }
  },
  {
   "cell_type": "code",
   "execution_count": null,
   "outputs": [],
   "source": [
    "'''\n",
    "This step merges historical features in he data store and the rows from\n",
    "the identity table. The resulting table is typically used for ML model\n",
    "training purposes.\n",
    "'''\n",
    "training_df = fs.get_historical_features(\n",
    "        entity_df=entity_df,\n",
    "        features=fs.get_feature_service(\"driver_ranking_fv_svc\")\n",
    "    ).to_df()\n",
    "display(training_df)"
   ],
   "metadata": {
    "collapsed": false,
    "pycharm": {
     "name": "#%%\n"
    }
   }
  },
  {
   "cell_type": "markdown",
   "id": "eff3135e-0cd6-4572-a522-438a79937dda",
   "metadata": {
    "pycharm": {
     "name": "#%% md\n"
    }
   },
   "source": [
    "## Step 2. Now materialize, load data from offline into online store"
   ]
  },
  {
   "cell_type": "code",
   "execution_count": null,
   "id": "3ef34ceb-62f8-4ac6-b7cf-9d812509d3dd",
   "metadata": {
    "pycharm": {
     "name": "#%%\n"
    }
   },
   "outputs": [],
   "source": [
    "'''\n",
    "This step is complementary to the previous, it is normally executed to extract the latest features\n",
    "from the offline store into the online store for inference purposes. In this case, we materialize features\n",
    "for a single calendar day.\n",
    "'''\n",
    "fs.materialize(start_date=datetime(year=2021,month=7,day=28),\n",
    "               end_date=datetime(year=2021,month=7,day=29))"
   ]
  },
  {
   "cell_type": "markdown",
   "id": "55d6b762-92c8-4e17-adec-5e5fbbe547e1",
   "metadata": {
    "pycharm": {
     "name": "#%% md\n"
    }
   },
   "source": [
    "## Step 3: Get the feature vector for inference from the online store"
   ]
  },
  {
   "cell_type": "code",
   "execution_count": null,
   "outputs": [],
   "source": [
    "# Get a feature vector (inference) from the online store.\n",
    "inf_fs = FeatureStore(repo_path=FEAST_REPO)\n",
    "inf_feature_service = inf_fs.get_feature_service(\"driver_ranking_fv_svc\")\n",
    "\n",
    "for driver in [1001, 1002, 1003]:\n",
    "    feature_vector = inf_fs.get_online_features(\n",
    "        entity_rows=[{\"driver_id\": driver}],\n",
    "        features=inf_feature_service\n",
    "    ).to_df()\n",
    "    print(\"--\" * 5)\n",
    "    pprint(feature_vector)"
   ],
   "metadata": {
    "collapsed": false,
    "pycharm": {
     "name": "#%%\n"
    }
   }
  },
  {
   "cell_type": "code",
   "execution_count": null,
   "outputs": [],
   "source": [],
   "metadata": {
    "collapsed": false,
    "pycharm": {
     "name": "#%%\n"
    }
   }
  }
 ],
 "metadata": {
  "kernelspec": {
   "display_name": "feast_ws",
   "language": "python",
   "name": "feast_workshop"
  },
  "language_info": {
   "codemirror_mode": {
    "name": "ipython",
    "version": 3
   },
   "file_extension": ".py",
   "mimetype": "text/x-python",
   "name": "python",
   "nbconvert_exporter": "python",
   "pygments_lexer": "ipython3",
   "version": "3.10.4"
  }
 },
 "nbformat": 4,
 "nbformat_minor": 5
}