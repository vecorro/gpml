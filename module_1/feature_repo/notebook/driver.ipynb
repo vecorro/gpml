{
 "cells": [
  {
   "cell_type": "markdown",
   "id": "0556dbef-449c-45cc-a776-56b880cfceff",
   "metadata": {
    "pycharm": {
     "name": "#%% md\n"
    }
   },
   "source": [
    "### Import General Python libs and modules"
   ]
  },
  {
   "cell_type": "code",
   "execution_count": 1,
   "id": "b0e8be22-20e1-4772-9e79-7707ba52ae92",
   "metadata": {
    "pycharm": {
     "name": "#%%\n"
    }
   },
   "outputs": [],
   "source": [
    "# Sys imports\n",
    "import sys\n",
    "sys.path.insert(0, \"../\")\n",
    "\n",
    "# 3rd party imports\n",
    "from datetime import datetime, timedelta\n",
    "from pprint import pprint\n",
    "import pandas as pd\n",
    "from feast import (FeatureStore,\n",
    "                    FileSource,\n",
    "                    FeatureService,\n",
    "                    FeatureView,\n",
    "                    Field,\n",
    "                    Entity)\n",
    "from feast.types import  Float32, Int32"
   ]
  },
  {
   "cell_type": "markdown",
   "id": "a9d740cb-a03f-4ab6-8a27-a81abcf81643",
   "metadata": {
    "pycharm": {
     "name": "#%% md\n"
    }
   },
   "source": []
  },
  {
   "cell_type": "code",
   "execution_count": 2,
   "id": "6ae052b9-7198-4b73-be68-16319e077c2f",
   "metadata": {
    "pycharm": {
     "name": "#%%\n"
    }
   },
   "outputs": [],
   "source": [
    "FEAST_REPO = \"/Users/kike/Library/CloudStorage/OneDrive-VMware,Inc/OCTO/2022-H1/Taurus/Feast/feast_workshops-master/module_1/feature_repo\"\n",
    "fs = FeatureStore(repo_path=FEAST_REPO)"
   ]
  },
  {
   "cell_type": "code",
   "execution_count": 3,
   "outputs": [
    {
     "name": "stdout",
     "output_type": "stream",
     "text": [
      "{'_offline_config': 'file',\n",
      " '_offline_store': None,\n",
      " '_online_config': {'path': 'data/online_store.db', 'type': 'sqlite'},\n",
      " '_online_store': None,\n",
      " 'feature_server': None,\n",
      " 'flags': None,\n",
      " 'go_feature_retrieval': False,\n",
      " 'offline_store': {'type': 'file'},\n",
      " 'online_store': {'path': 'data/online_store.db', 'type': 'sqlite'},\n",
      " 'project': 'feature_repo',\n",
      " 'provider': 'local',\n",
      " 'registry': 'data/registry.db',\n",
      " 'repo_path': PosixPath('/Users/kike/Library/CloudStorage/OneDrive-VMware,Inc/OCTO/2022-H1/Taurus/Feast/feast_workshops-master/module_1/feature_repo')}\n"
     ]
    }
   ],
   "source": [
    "pprint(fs.config.dict())"
   ],
   "metadata": {
    "collapsed": false,
    "pycharm": {
     "name": "#%%\n"
    }
   }
  },
  {
   "cell_type": "markdown",
   "id": "71ad5468-344a-4d0e-b1a1-18ccc118d906",
   "metadata": {
    "pycharm": {
     "name": "#%% md\n"
    }
   },
   "source": [
    "### Step 1. Register the data source, entity, features in the FeatureView, and the FeatureService with the Feast Registry"
   ]
  },
  {
   "cell_type": "code",
   "execution_count": 4,
   "outputs": [
    {
     "data": {
      "text/plain": "                      datetime  driver_id  conv_rate  acc_rate  \\\n0    2021-07-13 11:00:00+00:00       1005   0.373837  0.154890   \n1    2021-07-13 12:00:00+00:00       1005   0.571627  0.643958   \n2    2021-07-13 13:00:00+00:00       1005   0.399909  0.993888   \n3    2021-07-13 14:00:00+00:00       1005   0.967468  0.788458   \n4    2021-07-13 15:00:00+00:00       1005   0.024679  0.956064   \n...                        ...        ...        ...       ...   \n1802 2021-07-28 09:00:00+00:00       1001   0.089418  0.311234   \n1803 2021-07-28 10:00:00+00:00       1001   0.222534  0.927691   \n1804 2021-04-12 07:00:00+00:00       1001   0.175219  0.761434   \n902  2021-07-20 23:00:00+00:00       1003   0.025968  0.109748   \n902  2021-07-20 23:00:00+00:00       1003   0.025968  0.109748   \n\n      avg_daily_trips                 created  \n0                 498 2021-07-28 11:08:04.802  \n1                 656 2021-07-28 11:08:04.802  \n2                 722 2021-07-28 11:08:04.802  \n3                 424 2021-07-28 11:08:04.802  \n4                 569 2021-07-28 11:08:04.802  \n...               ...                     ...  \n1802              485 2021-07-28 11:08:04.802  \n1803              114 2021-07-28 11:08:04.802  \n1804              385 2021-07-28 11:08:04.802  \n902                55 2021-07-28 11:08:04.802  \n902                55 2021-07-28 11:08:04.802  \n\n[1807 rows x 6 columns]",
      "text/html": "<div>\n<style scoped>\n    .dataframe tbody tr th:only-of-type {\n        vertical-align: middle;\n    }\n\n    .dataframe tbody tr th {\n        vertical-align: top;\n    }\n\n    .dataframe thead th {\n        text-align: right;\n    }\n</style>\n<table border=\"1\" class=\"dataframe\">\n  <thead>\n    <tr style=\"text-align: right;\">\n      <th></th>\n      <th>datetime</th>\n      <th>driver_id</th>\n      <th>conv_rate</th>\n      <th>acc_rate</th>\n      <th>avg_daily_trips</th>\n      <th>created</th>\n    </tr>\n  </thead>\n  <tbody>\n    <tr>\n      <th>0</th>\n      <td>2021-07-13 11:00:00+00:00</td>\n      <td>1005</td>\n      <td>0.373837</td>\n      <td>0.154890</td>\n      <td>498</td>\n      <td>2021-07-28 11:08:04.802</td>\n    </tr>\n    <tr>\n      <th>1</th>\n      <td>2021-07-13 12:00:00+00:00</td>\n      <td>1005</td>\n      <td>0.571627</td>\n      <td>0.643958</td>\n      <td>656</td>\n      <td>2021-07-28 11:08:04.802</td>\n    </tr>\n    <tr>\n      <th>2</th>\n      <td>2021-07-13 13:00:00+00:00</td>\n      <td>1005</td>\n      <td>0.399909</td>\n      <td>0.993888</td>\n      <td>722</td>\n      <td>2021-07-28 11:08:04.802</td>\n    </tr>\n    <tr>\n      <th>3</th>\n      <td>2021-07-13 14:00:00+00:00</td>\n      <td>1005</td>\n      <td>0.967468</td>\n      <td>0.788458</td>\n      <td>424</td>\n      <td>2021-07-28 11:08:04.802</td>\n    </tr>\n    <tr>\n      <th>4</th>\n      <td>2021-07-13 15:00:00+00:00</td>\n      <td>1005</td>\n      <td>0.024679</td>\n      <td>0.956064</td>\n      <td>569</td>\n      <td>2021-07-28 11:08:04.802</td>\n    </tr>\n    <tr>\n      <th>...</th>\n      <td>...</td>\n      <td>...</td>\n      <td>...</td>\n      <td>...</td>\n      <td>...</td>\n      <td>...</td>\n    </tr>\n    <tr>\n      <th>1802</th>\n      <td>2021-07-28 09:00:00+00:00</td>\n      <td>1001</td>\n      <td>0.089418</td>\n      <td>0.311234</td>\n      <td>485</td>\n      <td>2021-07-28 11:08:04.802</td>\n    </tr>\n    <tr>\n      <th>1803</th>\n      <td>2021-07-28 10:00:00+00:00</td>\n      <td>1001</td>\n      <td>0.222534</td>\n      <td>0.927691</td>\n      <td>114</td>\n      <td>2021-07-28 11:08:04.802</td>\n    </tr>\n    <tr>\n      <th>1804</th>\n      <td>2021-04-12 07:00:00+00:00</td>\n      <td>1001</td>\n      <td>0.175219</td>\n      <td>0.761434</td>\n      <td>385</td>\n      <td>2021-07-28 11:08:04.802</td>\n    </tr>\n    <tr>\n      <th>902</th>\n      <td>2021-07-20 23:00:00+00:00</td>\n      <td>1003</td>\n      <td>0.025968</td>\n      <td>0.109748</td>\n      <td>55</td>\n      <td>2021-07-28 11:08:04.802</td>\n    </tr>\n    <tr>\n      <th>902</th>\n      <td>2021-07-20 23:00:00+00:00</td>\n      <td>1003</td>\n      <td>0.025968</td>\n      <td>0.109748</td>\n      <td>55</td>\n      <td>2021-07-28 11:08:04.802</td>\n    </tr>\n  </tbody>\n</table>\n<p>1807 rows × 6 columns</p>\n</div>"
     },
     "metadata": {},
     "output_type": "display_data"
    }
   ],
   "source": [
    "# This is the data source which could be provided by Postgress or Taurus DWH\n",
    "driver_stats = pd.read_parquet(path=f\"{FEAST_REPO}/data/driver_stats.parquet\")\n",
    "display(driver_stats)"
   ],
   "metadata": {
    "collapsed": false,
    "pycharm": {
     "name": "#%%\n"
    }
   }
  },
  {
   "cell_type": "code",
   "execution_count": 5,
   "outputs": [],
   "source": [
    "'''\n",
    "Create a FileSource from a file containing feature data. Only Parquet format supported.\n",
    "- created_timestamp_column – Timestamp column when row was created, used for deduplicating rows.\n",
    "- timestamp_field – Event timestamp foe;d used for point in time joins of feature values.\n",
    "'''\n",
    "driver_hourly_stats = FileSource(path=f\"{FEAST_REPO}/data/driver_stats.parquet\",\n",
    "                                 timestamp_field=\"datetime\",\n",
    "                                 created_timestamp_column=\"created\")\n",
    "driver = Entity(name=\"driver_id\",\n",
    "                value_type=Int32,\n",
    "                description=\"driver id\",)\n",
    "\n",
    "driver_hourly_stats_view = FeatureView(\n",
    "    name=\"driver_hourly_stats\",\n",
    "    entities=[\"driver_id\"],\n",
    "    ttl=timedelta(seconds=86400 * 365), # 1 year\n",
    "    schema=[\n",
    "        Field(name=\"conv_rate\", dtype=Float32),\n",
    "        Field(name=\"acc_rate\", dtype=Float32),\n",
    "        Field(name=\"avg_daily_trips\", dtype=Int32),\n",
    "    ],\n",
    "    online=True,\n",
    "    source=driver_hourly_stats,\n",
    "    tags={},\n",
    ")\n",
    "\n",
    "driver_feature_svc = FeatureService(name=\"driver_ranking_fv_svc\",\n",
    "                           features=[driver_hourly_stats_view],\n",
    "                           tags={\"description\": \"Used for training a MLP model\"})\n",
    "\n",
    "fs.apply([driver, driver_feature_svc, driver_hourly_stats_view]) # create (initialize) the feature store"
   ],
   "metadata": {
    "collapsed": false,
    "pycharm": {
     "name": "#%%\n"
    }
   }
  },
  {
   "cell_type": "markdown",
   "id": "59dfd3cb-6f14-4896-a58f-f38d8a3e56c5",
   "metadata": {
    "pycharm": {
     "name": "#%% md\n"
    }
   },
   "source": [
    "#### Get the training historical data"
   ]
  },
  {
   "cell_type": "code",
   "execution_count": 6,
   "outputs": [
    {
     "data": {
      "text/plain": "   driver_id     event_timestamp\n0       1001 2021-04-12 10:59:42\n1       1002 2021-04-12 08:12:10\n2       1003 2021-04-12 16:40:26\n3       1004 2021-04-12 15:01:12",
      "text/html": "<div>\n<style scoped>\n    .dataframe tbody tr th:only-of-type {\n        vertical-align: middle;\n    }\n\n    .dataframe tbody tr th {\n        vertical-align: top;\n    }\n\n    .dataframe thead th {\n        text-align: right;\n    }\n</style>\n<table border=\"1\" class=\"dataframe\">\n  <thead>\n    <tr style=\"text-align: right;\">\n      <th></th>\n      <th>driver_id</th>\n      <th>event_timestamp</th>\n    </tr>\n  </thead>\n  <tbody>\n    <tr>\n      <th>0</th>\n      <td>1001</td>\n      <td>2021-04-12 10:59:42</td>\n    </tr>\n    <tr>\n      <th>1</th>\n      <td>1002</td>\n      <td>2021-04-12 08:12:10</td>\n    </tr>\n    <tr>\n      <th>2</th>\n      <td>1003</td>\n      <td>2021-04-12 16:40:26</td>\n    </tr>\n    <tr>\n      <th>3</th>\n      <td>1004</td>\n      <td>2021-04-12 15:01:12</td>\n    </tr>\n  </tbody>\n</table>\n</div>"
     },
     "execution_count": 6,
     "metadata": {},
     "output_type": "execute_result"
    }
   ],
   "source": [
    "# We define a toy dataset that has no numeric features\n",
    "entity_df = pd.DataFrame.from_dict(\n",
    "    {\n",
    "        \"driver_id\": [1001, 1002, 1003, 1004],\n",
    "        \"event_timestamp\": [\n",
    "            datetime(2021, 4, 12, 10, 59, 42),\n",
    "            datetime(2021, 4, 12, 8, 12, 10),\n",
    "            datetime(2021, 4, 12, 16, 40, 26),\n",
    "            datetime(2021, 4, 12, 15, 1, 12),\n",
    "        ],\n",
    "    }\n",
    ")\n",
    "entity_df"
   ],
   "metadata": {
    "collapsed": false,
    "pycharm": {
     "name": "#%%\n"
    }
   }
  },
  {
   "cell_type": "code",
   "execution_count": 7,
   "outputs": [
    {
     "data": {
      "text/plain": "      driver_id           event_timestamp  conv_rate  acc_rate  \\\n360        1001 2021-04-12 10:59:42+00:00   0.175219  0.761434   \n721        1002 2021-04-12 08:12:10+00:00   0.312347  0.481786   \n1082       1003 2021-04-12 16:40:26+00:00   0.736727  0.936667   \n1445       1004 2021-04-12 15:01:12+00:00   0.094609  0.151163   \n\n      avg_daily_trips  \n360               385  \n721               810  \n1082              939  \n1445              166  ",
      "text/html": "<div>\n<style scoped>\n    .dataframe tbody tr th:only-of-type {\n        vertical-align: middle;\n    }\n\n    .dataframe tbody tr th {\n        vertical-align: top;\n    }\n\n    .dataframe thead th {\n        text-align: right;\n    }\n</style>\n<table border=\"1\" class=\"dataframe\">\n  <thead>\n    <tr style=\"text-align: right;\">\n      <th></th>\n      <th>driver_id</th>\n      <th>event_timestamp</th>\n      <th>conv_rate</th>\n      <th>acc_rate</th>\n      <th>avg_daily_trips</th>\n    </tr>\n  </thead>\n  <tbody>\n    <tr>\n      <th>360</th>\n      <td>1001</td>\n      <td>2021-04-12 10:59:42+00:00</td>\n      <td>0.175219</td>\n      <td>0.761434</td>\n      <td>385</td>\n    </tr>\n    <tr>\n      <th>721</th>\n      <td>1002</td>\n      <td>2021-04-12 08:12:10+00:00</td>\n      <td>0.312347</td>\n      <td>0.481786</td>\n      <td>810</td>\n    </tr>\n    <tr>\n      <th>1082</th>\n      <td>1003</td>\n      <td>2021-04-12 16:40:26+00:00</td>\n      <td>0.736727</td>\n      <td>0.936667</td>\n      <td>939</td>\n    </tr>\n    <tr>\n      <th>1445</th>\n      <td>1004</td>\n      <td>2021-04-12 15:01:12+00:00</td>\n      <td>0.094609</td>\n      <td>0.151163</td>\n      <td>166</td>\n    </tr>\n  </tbody>\n</table>\n</div>"
     },
     "metadata": {},
     "output_type": "display_data"
    }
   ],
   "source": [
    "'''\n",
    "This step merges historical features in he data store and the rows from\n",
    "the identity table. The resulting table is tipically used for Ml models\n",
    "training purposes.\n",
    "'''\n",
    "training_df = fs.get_historical_features(\n",
    "        entity_df=entity_df,\n",
    "        features=fs.get_feature_service(\"driver_ranking_fv_svc\")\n",
    "    ).to_df()\n",
    "display(training_df)"
   ],
   "metadata": {
    "collapsed": false,
    "pycharm": {
     "name": "#%%\n"
    }
   }
  },
  {
   "cell_type": "markdown",
   "id": "eff3135e-0cd6-4572-a522-438a79937dda",
   "metadata": {
    "pycharm": {
     "name": "#%% md\n"
    }
   },
   "source": [
    "### Step 2. Now materialize, load data from offline into online store"
   ]
  },
  {
   "cell_type": "code",
   "execution_count": 8,
   "id": "3ef34ceb-62f8-4ac6-b7cf-9d812509d3dd",
   "metadata": {
    "pycharm": {
     "name": "#%%\n"
    }
   },
   "outputs": [
    {
     "name": "stdout",
     "output_type": "stream",
     "text": [
      "Materializing \u001B[1m\u001B[32m1\u001B[0m feature views to \u001B[1m\u001B[32m2022-06-22 14:06:07-05:00\u001B[0m into the \u001B[1m\u001B[32msqlite\u001B[0m online store.\n",
      "\n",
      "\u001B[1m\u001B[32mdriver_hourly_stats\u001B[0m from \u001B[1m\u001B[32m2022-06-22 08:54:11-05:00\u001B[0m to \u001B[1m\u001B[32m2022-06-22 14:06:07-05:00\u001B[0m:\n"
     ]
    },
    {
     "name": "stderr",
     "output_type": "stream",
     "text": [
      "0it [00:00, ?it/s]\n"
     ]
    }
   ],
   "source": [
    "'''\n",
    "This step is complementary to the previous, it is normally executed to extract the latest features\n",
    "from the offline store into the online store for inference purposes.\n",
    "'''\n",
    "fs.materialize_incremental(end_date=datetime.utcnow() - timedelta(minutes=0))"
   ]
  },
  {
   "cell_type": "markdown",
   "id": "55d6b762-92c8-4e17-adec-5e5fbbe547e1",
   "metadata": {
    "pycharm": {
     "name": "#%% md\n"
    }
   },
   "source": [
    "### Step 3: Get the feature vector for inference from the online store"
   ]
  },
  {
   "cell_type": "code",
   "execution_count": 9,
   "id": "d69f4dfa-5711-4a8b-b664-42ca551098b7",
   "metadata": {
    "pycharm": {
     "name": "#%%\n"
    }
   },
   "outputs": [
    {
     "name": "stdout",
     "output_type": "stream",
     "text": [
      "----------\n",
      "   driver_id  conv_rate  avg_daily_trips  acc_rate\n",
      "0       1001   0.222534              114  0.927691\n",
      "----------\n",
      "   driver_id  conv_rate  avg_daily_trips  acc_rate\n",
      "0       1002   0.913528              573  0.357142\n",
      "----------\n",
      "   driver_id  conv_rate  avg_daily_trips  acc_rate\n",
      "0       1003   0.581626              451  0.558202\n"
     ]
    }
   ],
   "source": [
    "# get the feature vector for inferencing from the online store\n",
    "inf_fs = FeatureStore(repo_path=FEAST_REPO)\n",
    "inf_feature_service = inf_fs.get_feature_service(\"driver_ranking_fv_svc\")\n",
    "\n",
    "for driver in [1001, 1002, 1003]:\n",
    "    feature_vector = inf_fs.get_online_features(\n",
    "        entity_rows=[{\"driver_id\": driver}],\n",
    "        features=inf_feature_service\n",
    "    ).to_df()\n",
    "    print(\"--\" * 5)\n",
    "    pprint(feature_vector)"
   ]
  }
 ],
 "metadata": {
  "kernelspec": {
   "display_name": "feast_ws",
   "language": "python",
   "name": "feast_workshop"
  },
  "language_info": {
   "codemirror_mode": {
    "name": "ipython",
    "version": 3
   },
   "file_extension": ".py",
   "mimetype": "text/x-python",
   "name": "python",
   "nbconvert_exporter": "python",
   "pygments_lexer": "ipython3",
   "version": "3.10.4"
  }
 },
 "nbformat": 4,
 "nbformat_minor": 5
}