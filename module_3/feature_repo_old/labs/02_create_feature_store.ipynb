{
 "cells": [
  {
   "cell_type": "markdown",
   "id": "de0aaa8b-67e1-48a1-a1c9-e0a394fadc7e",
   "metadata": {},
   "source": [
    "## Create a Feast Feature Store from Parquet Files as DataSource\n",
    "![](images/feast_fs.png)"
   ]
  },
  {
   "cell_type": "code",
   "execution_count": 2,
   "id": "972962c4-5563-4cf3-89c9-7941e49a724a",
   "metadata": {},
   "outputs": [],
   "source": [
    "import sys\n",
    "sys.path.insert(0, \"../\")"
   ]
  },
  {
   "cell_type": "markdown",
   "id": "70efeb71-503c-4377-aa4c-5459f4f1ef9b",
   "metadata": {
    "tags": []
   },
   "source": [
    "#### Import General Python libs and modules"
   ]
  },
  {
   "cell_type": "code",
   "execution_count": 3,
   "id": "c705bab1-21ad-4685-8c91-b48c2e0f8fdc",
   "metadata": {},
   "outputs": [],
   "source": [
    "from datetime import datetime\n",
    "from pathlib import Path\n",
    "import pandas as pd\n",
    "from pprint import pprint"
   ]
  },
  {
   "cell_type": "markdown",
   "id": "f3461436-b29a-4e48-9da0-c24ea2fa3db7",
   "metadata": {},
   "source": [
    "#### Import Feast related modules and definitions from feast_repo directories"
   ]
  },
  {
   "cell_type": "code",
   "execution_count": 4,
   "id": "d50acf53-369f-4aef-8241-ad168dce251b",
   "metadata": {},
   "outputs": [
    {
     "name": "stderr",
     "output_type": "stream",
     "text": [
      "/Users/kike/opt/miniconda3/envs/feast_workshop/lib/python3.10/site-packages/feast/data_source.py:229: DeprecationWarning: The argument 'event_timestamp_column' is being deprecated. Please use 'timestamp_field' instead. instead. Feast 0.23 and onwards will not support the argument 'event_timestamp_column' for datasources.\n",
      "  warnings.warn(\n",
      "/Users/kike/opt/miniconda3/envs/feast_workshop/lib/python3.10/site-packages/feast/feature_view.py:256: DeprecationWarning: batch_source and stream_source have been deprecated in favor of `source`.The deprecated fields will be removed in Feast 0.23.\n",
      "  warnings.warn(\n",
      "/Users/kike/opt/miniconda3/envs/feast_workshop/lib/python3.10/site-packages/feast/feature_view.py:194: DeprecationWarning: The `features` parameter is being deprecated in favor of the `schema` parameter. Please switch from using `features` to `schema`. This will also requiring switching feature definitions from using `Feature` to `Field`. Feast 0.23 and onwards will not support the `features` parameter.\n",
      "  warnings.warn(\n"
     ]
    }
   ],
   "source": [
    "from feast import FeatureStore\n",
    "from entities.entity import zipcode, dob_ssn\n",
    "from features.feature_views import zipcode_features, credit_history\n",
    "from feature_service.feature_svc import zipcode_features_svc\n",
    "from utils.data_fetcher import DataFetcher"
   ]
  },
  {
   "cell_type": "code",
   "execution_count": 7,
   "id": "bbbe46b2-5e25-494b-9169-afc9d1456d45",
   "metadata": {},
   "outputs": [],
   "source": [
    "# [IMPORTANT] Change this  path to yours git repo\n",
    "FEAST_REPO = \"/Users/kike/Library/CloudStorage/OneDrive-VMware,Inc/OCTO/2022-H1/Taurus/Feast/feast_workshops-master/module_3/feature_repo\"\n",
    "repo_path = Path(FEAST_REPO)\n",
    "fs = FeatureStore(repo_path=repo_path)"
   ]
  },
  {
   "cell_type": "markdown",
   "id": "37b79a16-33a0-4402-9d3c-d78756c4f322",
   "metadata": {},
   "source": [
    "#### Step 1. Register the data source, entity, features and feature view, and feature service in feast_repo with the Feast Registry"
   ]
  },
  {
   "cell_type": "code",
   "execution_count": 41,
   "id": "2fabfde8-eac2-47c0-aab8-3749c33a1803",
   "metadata": {},
   "outputs": [],
   "source": [
    "#print(f\"Zip code entity:{zipcode}\\n\")\n",
    "#print(f\"Date-of-birth and SSN entity:{dob_ssn}\\n\")\n",
    "#print(f\"ZIP code features:{zipcode_features}\\n\")\n",
    "#print(f\"Credit history features:{credit_history}\\n\")\n",
    "#print(f\"ZIP code SVC features:{zipcode_features_svc}\\n\")"
   ]
  },
  {
   "cell_type": "code",
   "execution_count": 8,
   "id": "f929ea8b-c2d3-4ecd-8585-2506c5f3f3dd",
   "metadata": {},
   "outputs": [],
   "source": [
    "fs.apply([zipcode, dob_ssn, zipcode_features, credit_history, zipcode_features_svc])"
   ]
  },
  {
   "cell_type": "markdown",
   "id": "beaf2c54-632d-4b7f-bc46-28a7ae8a9d49",
   "metadata": {},
   "source": [
    "#### Step 2. Now materialize, load data into online store"
   ]
  },
  {
   "cell_type": "code",
   "execution_count": 54,
   "id": "a9f79b20-34b5-49b7-b51c-782f32e606a3",
   "metadata": {},
   "outputs": [
    {
     "name": "stdout",
     "output_type": "stream",
     "text": [
      "Materializing \u001b[1m\u001b[32m2\u001b[0m feature views from \u001b[1m\u001b[32m2020-03-01 00:00:00-06:00\u001b[0m to \u001b[1m\u001b[32m2020-06-01 00:00:00-05:00\u001b[0m into the \u001b[1m\u001b[32msqlite\u001b[0m online store.\n",
      "\n",
      "\u001b[1m\u001b[32mzipcode_features\u001b[0m:\n"
     ]
    },
    {
     "name": "stderr",
     "output_type": "stream",
     "text": [
      "0it [00:00, ?it/s]"
     ]
    },
    {
     "name": "stdout",
     "output_type": "stream",
     "text": [
      "\u001b[1m\u001b[32mcredit_history\u001b[0m:\n"
     ]
    },
    {
     "name": "stderr",
     "output_type": "stream",
     "text": [
      "\n",
      "100%|███████████████████████████████████████████████████████| 28633/28633 [00:07<00:00, 3647.86it/s]\n"
     ]
    }
   ],
   "source": [
    "start_date = datetime(2020, 3, 1, 0, 0, 0)\n",
    "end_date = datetime(2020, 6, 1,  0, 0, 0)\n",
    "#fs.materialize_incremental(end_date=end_date)\n",
    "fs.materialize(start_date, end_date)"
   ]
  },
  {
   "cell_type": "code",
   "execution_count": 40,
   "id": "9dad583a-6dce-4007-be17-5bbc065d2ed2",
   "metadata": {},
   "outputs": [],
   "source": [
    "#for fview in fs.list_feature_views():\n",
    "#    print(\">>>> FEATURE:\", fview,\"\\n\")"
   ]
  },
  {
   "cell_type": "markdown",
   "id": "0c0bed5e-ed8c-4139-a87b-bb0d4be7b936",
   "metadata": {},
   "source": [
    "### Step 3. Fetch training data augmented with loans data"
   ]
  },
  {
   "cell_type": "code",
   "execution_count": 34,
   "id": "48758d9d-25fe-4d50-a1a3-ab010498802a",
   "metadata": {},
   "outputs": [
    {
     "data": {
      "text/html": [
       "<div>\n",
       "<style scoped>\n",
       "    .dataframe tbody tr th:only-of-type {\n",
       "        vertical-align: middle;\n",
       "    }\n",
       "\n",
       "    .dataframe tbody tr th {\n",
       "        vertical-align: top;\n",
       "    }\n",
       "\n",
       "    .dataframe thead th {\n",
       "        text-align: right;\n",
       "    }\n",
       "</style>\n",
       "<table border=\"1\" class=\"dataframe\">\n",
       "  <thead>\n",
       "    <tr style=\"text-align: right;\">\n",
       "      <th></th>\n",
       "      <th>loan_id</th>\n",
       "      <th>dob_ssn</th>\n",
       "      <th>zipcode</th>\n",
       "      <th>person_age</th>\n",
       "      <th>person_income</th>\n",
       "      <th>person_home_ownership</th>\n",
       "      <th>person_emp_length</th>\n",
       "      <th>loan_intent</th>\n",
       "      <th>loan_amnt</th>\n",
       "      <th>loan_int_rate</th>\n",
       "      <th>loan_status</th>\n",
       "      <th>event_timestamp</th>\n",
       "      <th>created_timestamp__</th>\n",
       "      <th>city</th>\n",
       "      <th>state</th>\n",
       "      <th>location_type</th>\n",
       "      <th>tax_returns_filed</th>\n",
       "      <th>population</th>\n",
       "      <th>total_wages</th>\n",
       "      <th>credit_card_due</th>\n",
       "      <th>mortgage_due</th>\n",
       "      <th>student_loan_due</th>\n",
       "      <th>vehicle_loan_due</th>\n",
       "      <th>hard_pulls</th>\n",
       "      <th>missed_payments_2y</th>\n",
       "      <th>missed_payments_1y</th>\n",
       "      <th>missed_payments_6m</th>\n",
       "      <th>bankruptcies</th>\n",
       "    </tr>\n",
       "  </thead>\n",
       "  <tbody>\n",
       "    <tr>\n",
       "      <th>1358886</th>\n",
       "      <td>38450</td>\n",
       "      <td>19721022_2735</td>\n",
       "      <td>70460</td>\n",
       "      <td>55</td>\n",
       "      <td>24543</td>\n",
       "      <td>RENT</td>\n",
       "      <td>3.0</td>\n",
       "      <td>VENTURE</td>\n",
       "      <td>4000</td>\n",
       "      <td>13.92</td>\n",
       "      <td>0</td>\n",
       "      <td>2020-08-28 05:46:51.871000+00:00</td>\n",
       "      <td>2017-01-01 12:00:00+00:00</td>\n",
       "      <td>SLIDELL</td>\n",
       "      <td>LA</td>\n",
       "      <td>PRIMARY</td>\n",
       "      <td>8986</td>\n",
       "      <td>16334</td>\n",
       "      <td>315061217</td>\n",
       "      <td>1777</td>\n",
       "      <td>690650</td>\n",
       "      <td>46372</td>\n",
       "      <td>10439</td>\n",
       "      <td>5</td>\n",
       "      <td>1</td>\n",
       "      <td>2</td>\n",
       "      <td>1</td>\n",
       "      <td>0</td>\n",
       "    </tr>\n",
       "    <tr>\n",
       "      <th>1358815</th>\n",
       "      <td>38449</td>\n",
       "      <td>19550130_7970</td>\n",
       "      <td>74337</td>\n",
       "      <td>58</td>\n",
       "      <td>20000</td>\n",
       "      <td>RENT</td>\n",
       "      <td>0.0</td>\n",
       "      <td>EDUCATION</td>\n",
       "      <td>4000</td>\n",
       "      <td>9.99</td>\n",
       "      <td>0</td>\n",
       "      <td>2020-08-28 06:05:13.103000+00:00</td>\n",
       "      <td>2017-01-01 12:00:00+00:00</td>\n",
       "      <td>CHOUTEAU</td>\n",
       "      <td>OK</td>\n",
       "      <td>PRIMARY</td>\n",
       "      <td>1969</td>\n",
       "      <td>3716</td>\n",
       "      <td>59412230</td>\n",
       "      <td>1791</td>\n",
       "      <td>462670</td>\n",
       "      <td>19421</td>\n",
       "      <td>3583</td>\n",
       "      <td>8</td>\n",
       "      <td>7</td>\n",
       "      <td>1</td>\n",
       "      <td>0</td>\n",
       "      <td>2</td>\n",
       "    </tr>\n",
       "    <tr>\n",
       "      <th>1353348</th>\n",
       "      <td>38554</td>\n",
       "      <td>19970610_1743</td>\n",
       "      <td>58504</td>\n",
       "      <td>64</td>\n",
       "      <td>24000</td>\n",
       "      <td>RENT</td>\n",
       "      <td>1.0</td>\n",
       "      <td>MEDICAL</td>\n",
       "      <td>3000</td>\n",
       "      <td>6.99</td>\n",
       "      <td>0</td>\n",
       "      <td>2020-08-26 21:58:03.673000+00:00</td>\n",
       "      <td>2017-01-01 12:00:00+00:00</td>\n",
       "      <td>BISMARCK</td>\n",
       "      <td>ND</td>\n",
       "      <td>PRIMARY</td>\n",
       "      <td>11564</td>\n",
       "      <td>19832</td>\n",
       "      <td>469621263</td>\n",
       "      <td>5917</td>\n",
       "      <td>1780959</td>\n",
       "      <td>11835</td>\n",
       "      <td>27910</td>\n",
       "      <td>8</td>\n",
       "      <td>3</td>\n",
       "      <td>2</td>\n",
       "      <td>1</td>\n",
       "      <td>0</td>\n",
       "    </tr>\n",
       "    <tr>\n",
       "      <th>1354200</th>\n",
       "      <td>38552</td>\n",
       "      <td>19650412_2624</td>\n",
       "      <td>93160</td>\n",
       "      <td>55</td>\n",
       "      <td>34000</td>\n",
       "      <td>RENT</td>\n",
       "      <td>0.0</td>\n",
       "      <td>DEBTCONSOLIDATION</td>\n",
       "      <td>12000</td>\n",
       "      <td>6.92</td>\n",
       "      <td>1</td>\n",
       "      <td>2020-08-26 22:34:46.138000+00:00</td>\n",
       "      <td>2017-01-01 12:00:00+00:00</td>\n",
       "      <td>SANTA BARBARA</td>\n",
       "      <td>CA</td>\n",
       "      <td>PRIMARY</td>\n",
       "      <td>602</td>\n",
       "      <td>909</td>\n",
       "      <td>24537583</td>\n",
       "      <td>8091</td>\n",
       "      <td>364271</td>\n",
       "      <td>30248</td>\n",
       "      <td>22640</td>\n",
       "      <td>2</td>\n",
       "      <td>7</td>\n",
       "      <td>3</td>\n",
       "      <td>0</td>\n",
       "      <td>0</td>\n",
       "    </tr>\n",
       "    <tr>\n",
       "      <th>1354271</th>\n",
       "      <td>38541</td>\n",
       "      <td>19681130_4866</td>\n",
       "      <td>92615</td>\n",
       "      <td>51</td>\n",
       "      <td>74628</td>\n",
       "      <td>MORTGAGE</td>\n",
       "      <td>3.0</td>\n",
       "      <td>PERSONAL</td>\n",
       "      <td>3000</td>\n",
       "      <td>13.49</td>\n",
       "      <td>0</td>\n",
       "      <td>2020-08-27 01:56:39.697000+00:00</td>\n",
       "      <td>2017-01-01 12:00:00+00:00</td>\n",
       "      <td>HUNTINGTON BEACH</td>\n",
       "      <td>CA</td>\n",
       "      <td>PRIMARY</td>\n",
       "      <td>513</td>\n",
       "      <td>746</td>\n",
       "      <td>19749601</td>\n",
       "      <td>3679</td>\n",
       "      <td>1659968</td>\n",
       "      <td>37582</td>\n",
       "      <td>20284</td>\n",
       "      <td>0</td>\n",
       "      <td>1</td>\n",
       "      <td>0</td>\n",
       "      <td>0</td>\n",
       "      <td>0</td>\n",
       "    </tr>\n",
       "  </tbody>\n",
       "</table>\n",
       "</div>"
      ],
      "text/plain": [
       "         loan_id        dob_ssn  zipcode  person_age  person_income  \\\n",
       "1358886    38450  19721022_2735    70460          55          24543   \n",
       "1358815    38449  19550130_7970    74337          58          20000   \n",
       "1353348    38554  19970610_1743    58504          64          24000   \n",
       "1354200    38552  19650412_2624    93160          55          34000   \n",
       "1354271    38541  19681130_4866    92615          51          74628   \n",
       "\n",
       "        person_home_ownership  person_emp_length        loan_intent  \\\n",
       "1358886                  RENT                3.0            VENTURE   \n",
       "1358815                  RENT                0.0          EDUCATION   \n",
       "1353348                  RENT                1.0            MEDICAL   \n",
       "1354200                  RENT                0.0  DEBTCONSOLIDATION   \n",
       "1354271              MORTGAGE                3.0           PERSONAL   \n",
       "\n",
       "         loan_amnt  loan_int_rate  loan_status  \\\n",
       "1358886       4000          13.92            0   \n",
       "1358815       4000           9.99            0   \n",
       "1353348       3000           6.99            0   \n",
       "1354200      12000           6.92            1   \n",
       "1354271       3000          13.49            0   \n",
       "\n",
       "                         event_timestamp       created_timestamp__  \\\n",
       "1358886 2020-08-28 05:46:51.871000+00:00 2017-01-01 12:00:00+00:00   \n",
       "1358815 2020-08-28 06:05:13.103000+00:00 2017-01-01 12:00:00+00:00   \n",
       "1353348 2020-08-26 21:58:03.673000+00:00 2017-01-01 12:00:00+00:00   \n",
       "1354200 2020-08-26 22:34:46.138000+00:00 2017-01-01 12:00:00+00:00   \n",
       "1354271 2020-08-27 01:56:39.697000+00:00 2017-01-01 12:00:00+00:00   \n",
       "\n",
       "                     city state location_type  tax_returns_filed  population  \\\n",
       "1358886           SLIDELL    LA       PRIMARY               8986       16334   \n",
       "1358815          CHOUTEAU    OK       PRIMARY               1969        3716   \n",
       "1353348          BISMARCK    ND       PRIMARY              11564       19832   \n",
       "1354200     SANTA BARBARA    CA       PRIMARY                602         909   \n",
       "1354271  HUNTINGTON BEACH    CA       PRIMARY                513         746   \n",
       "\n",
       "         total_wages  credit_card_due  mortgage_due  student_loan_due  \\\n",
       "1358886    315061217             1777        690650             46372   \n",
       "1358815     59412230             1791        462670             19421   \n",
       "1353348    469621263             5917       1780959             11835   \n",
       "1354200     24537583             8091        364271             30248   \n",
       "1354271     19749601             3679       1659968             37582   \n",
       "\n",
       "         vehicle_loan_due  hard_pulls  missed_payments_2y  missed_payments_1y  \\\n",
       "1358886             10439           5                   1                   2   \n",
       "1358815              3583           8                   7                   1   \n",
       "1353348             27910           8                   3                   2   \n",
       "1354200             22640           2                   7                   3   \n",
       "1354271             20284           0                   1                   0   \n",
       "\n",
       "         missed_payments_6m  bankruptcies  \n",
       "1358886                   1             0  \n",
       "1358815                   0             2  \n",
       "1353348                   1             0  \n",
       "1354200                   0             0  \n",
       "1354271                   0             0  "
      ]
     },
     "execution_count": 34,
     "metadata": {},
     "output_type": "execute_result"
    }
   ],
   "source": [
    "fetcher = DataFetcher(fs, repo_path)\n",
    "training_df = fetcher.get_training_data()\n",
    "pd.set_option('display.max_columns', 50)\n",
    "training_df.head(5)"
   ]
  },
  {
   "cell_type": "code",
   "execution_count": 35,
   "id": "1405cfbb-c366-4bdd-baab-5598290eabfa",
   "metadata": {},
   "outputs": [
    {
     "data": {
      "text/plain": [
       "(28638, 28)"
      ]
     },
     "execution_count": 35,
     "metadata": {},
     "output_type": "execute_result"
    }
   ],
   "source": [
    "training_df.shape"
   ]
  },
  {
   "cell_type": "markdown",
   "id": "2d7c3f75-5f44-4ebb-894b-339f1844e905",
   "metadata": {
    "tags": []
   },
   "source": [
    "#### Step 4. Get an inference vector for zipcode and dob_ssn"
   ]
  },
  {
   "cell_type": "code",
   "execution_count": 55,
   "id": "ffc4b3fa-f6b9-42ae-9d96-e2b8365b8834",
   "metadata": {},
   "outputs": [
    {
     "name": "stdout",
     "output_type": "stream",
     "text": [
      "Fetching feature vector for zipcode and dob_ssn:70460, 19721022_2735\n",
      "{'bankruptcies': [0],\n",
      " 'city': ['SLIDELL'],\n",
      " 'credit_card_due': [1777],\n",
      " 'dob_ssn': ['19721022_2735'],\n",
      " 'hard_pulls': [5],\n",
      " 'location_type': ['PRIMARY'],\n",
      " 'missed_payments_1y': [2],\n",
      " 'missed_payments_2y': [1],\n",
      " 'missed_payments_6m': [1],\n",
      " 'mortgage_due': [690650],\n",
      " 'population': [16334],\n",
      " 'state': ['LA'],\n",
      " 'student_loan_due': [46372],\n",
      " 'tax_returns_filed': [8986],\n",
      " 'total_wages': [315061217],\n",
      " 'vehicle_loan_due': [10439],\n",
      " 'zipcode': [70460]}\n",
      "------------------------------\n",
      "Fetching feature vector for zipcode and dob_ssn:74337, 19550130_7970\n",
      "{'bankruptcies': [2],\n",
      " 'city': ['CHOUTEAU'],\n",
      " 'credit_card_due': [1791],\n",
      " 'dob_ssn': ['19550130_7970'],\n",
      " 'hard_pulls': [8],\n",
      " 'location_type': ['PRIMARY'],\n",
      " 'missed_payments_1y': [1],\n",
      " 'missed_payments_2y': [7],\n",
      " 'missed_payments_6m': [0],\n",
      " 'mortgage_due': [462670],\n",
      " 'population': [3716],\n",
      " 'state': ['OK'],\n",
      " 'student_loan_due': [19421],\n",
      " 'tax_returns_filed': [1969],\n",
      " 'total_wages': [59412230],\n",
      " 'vehicle_loan_due': [3583],\n",
      " 'zipcode': [74337]}\n",
      "------------------------------\n"
     ]
    }
   ],
   "source": [
    "zipcodes_dob_ssns = [(70460, \"19721022_2735\"), (74337, \"19550130_7970\")]\n",
    "for zipcode, dob_ssn in zipcodes_dob_ssns:\n",
    "    print(f\"Fetching feature vector for zipcode and dob_ssn:{zipcode}, {dob_ssn}\")\n",
    "    data = fetcher.get_online_data(zipcode, dob_ssn)\n",
    "    pprint(data)\n",
    "    print(\"------\" * 5)"
   ]
  },
  {
   "cell_type": "code",
   "execution_count": 45,
   "id": "a866b307-29bc-4542-ba21-a949f844e9f8",
   "metadata": {},
   "outputs": [],
   "source": [
    "online_vec = fs.get_online_features(\n",
    "            entity_rows=[{\"zipcode\": 30721, \"dob_ssn\": '19790429_9552'}],\n",
    "            features=DataFetcher.feast_features).to_df()"
   ]
  },
  {
   "cell_type": "code",
   "execution_count": 42,
   "id": "98d38f45-3a87-4162-811a-cd99f002443c",
   "metadata": {},
   "outputs": [
    {
     "data": {
      "text/plain": [
       "[<FeatureView(name = zipcode_features, entities = ['zipcode'], stream_source = None, batch_source = {\n",
       "   \"type\": \"BATCH_FILE\",\n",
       "   \"timestampField\": \"event_timestamp\",\n",
       "   \"createdTimestampColumn\": \"created_timestamp\",\n",
       "   \"fileOptions\": {\n",
       "     \"uri\": \"/Users/kike/Library/CloudStorage/OneDrive-VMware,Inc/OCTO/2022-H1/Taurus/Feast/feast_workshops-master/module_3/feature_repo/data/zipcode_table.parquet\"\n",
       "   },\n",
       "   \"name\": \"/Users/kike/Library/CloudStorage/OneDrive-VMware,Inc/OCTO/2022-H1/Taurus/Feast/feast_workshops-master/module_3/feature_repo/data/zipcode_table.parquet\"\n",
       " }, source = {\n",
       "   \"type\": \"BATCH_FILE\",\n",
       "   \"timestampField\": \"event_timestamp\",\n",
       "   \"createdTimestampColumn\": \"created_timestamp\",\n",
       "   \"fileOptions\": {\n",
       "     \"uri\": \"/Users/kike/Library/CloudStorage/OneDrive-VMware,Inc/OCTO/2022-H1/Taurus/Feast/feast_workshops-master/module_3/feature_repo/data/zipcode_table.parquet\"\n",
       "   },\n",
       "   \"name\": \"/Users/kike/Library/CloudStorage/OneDrive-VMware,Inc/OCTO/2022-H1/Taurus/Feast/feast_workshops-master/module_3/feature_repo/data/zipcode_table.parquet\"\n",
       " }, ttl = 3650 days, 0:00:00, schema = [city-String, state-String, location_type-String, tax_returns_filed-Int64, population-Int64, total_wages-Int64], features = [city-String, state-String, location_type-String, tax_returns_filed-Int64, population-Int64, total_wages-Int64], description = , tags = {}, owner = , projection = FeatureViewProjection(name='zipcode_features', name_alias=None, features=[city-String, state-String, location_type-String, tax_returns_filed-Int64, population-Int64, total_wages-Int64], join_key_map={}), created_timestamp = 2022-06-15 13:13:13.026876, last_updated_timestamp = 2022-06-15 13:42:10.449327, online = True, materialization_intervals = [(datetime.datetime(2012, 6, 17, 13, 42, 5, 153463, tzinfo=<UTC>), datetime.datetime(2022, 6, 15, 13, 42, 5, 152092, tzinfo=<UTC>))])>,\n",
       " <FeatureView(name = credit_history, entities = ['dob_ssn'], stream_source = None, batch_source = {\n",
       "   \"type\": \"BATCH_FILE\",\n",
       "   \"timestampField\": \"event_timestamp\",\n",
       "   \"createdTimestampColumn\": \"created_timestamp\",\n",
       "   \"fileOptions\": {\n",
       "     \"uri\": \"/Users/kike/Library/CloudStorage/OneDrive-VMware,Inc/OCTO/2022-H1/Taurus/Feast/feast_workshops-master/module_3/feature_repo/data/credit_history.parquet\"\n",
       "   },\n",
       "   \"name\": \"/Users/kike/Library/CloudStorage/OneDrive-VMware,Inc/OCTO/2022-H1/Taurus/Feast/feast_workshops-master/module_3/feature_repo/data/credit_history.parquet\"\n",
       " }, source = {\n",
       "   \"type\": \"BATCH_FILE\",\n",
       "   \"timestampField\": \"event_timestamp\",\n",
       "   \"createdTimestampColumn\": \"created_timestamp\",\n",
       "   \"fileOptions\": {\n",
       "     \"uri\": \"/Users/kike/Library/CloudStorage/OneDrive-VMware,Inc/OCTO/2022-H1/Taurus/Feast/feast_workshops-master/module_3/feature_repo/data/credit_history.parquet\"\n",
       "   },\n",
       "   \"name\": \"/Users/kike/Library/CloudStorage/OneDrive-VMware,Inc/OCTO/2022-H1/Taurus/Feast/feast_workshops-master/module_3/feature_repo/data/credit_history.parquet\"\n",
       " }, ttl = 90 days, 0:00:00, schema = [credit_card_due-Int64, mortgage_due-Int64, student_loan_due-Int64, vehicle_loan_due-Int64, hard_pulls-Int64, missed_payments_2y-Int64, missed_payments_1y-Int64, missed_payments_6m-Int64, bankruptcies-Int64], features = [credit_card_due-Int64, mortgage_due-Int64, student_loan_due-Int64, vehicle_loan_due-Int64, hard_pulls-Int64, missed_payments_2y-Int64, missed_payments_1y-Int64, missed_payments_6m-Int64, bankruptcies-Int64], description = , tags = {}, owner = , projection = FeatureViewProjection(name='credit_history', name_alias=None, features=[credit_card_due-Int64, mortgage_due-Int64, student_loan_due-Int64, vehicle_loan_due-Int64, hard_pulls-Int64, missed_payments_2y-Int64, missed_payments_1y-Int64, missed_payments_6m-Int64, bankruptcies-Int64], join_key_map={}), created_timestamp = 2022-06-15 13:13:13.027046, last_updated_timestamp = 2022-06-15 13:42:33.597209, online = True, materialization_intervals = [(datetime.datetime(2022, 3, 17, 13, 42, 10, 450860, tzinfo=<UTC>), datetime.datetime(2022, 6, 15, 13, 42, 5, 152092, tzinfo=<UTC>))])>]"
      ]
     },
     "execution_count": 42,
     "metadata": {},
     "output_type": "execute_result"
    }
   ],
   "source": [
    "fs.list_feature_views()"
   ]
  },
  {
   "cell_type": "code",
   "execution_count": null,
   "id": "9f69478e-e5d3-4904-91e0-c2604ff454cf",
   "metadata": {},
   "outputs": [],
   "source": []
  }
 ],
 "metadata": {
  "kernelspec": {
   "display_name": "Python 3 (ipykernel)",
   "language": "python",
   "name": "python3"
  },
  "language_info": {
   "codemirror_mode": {
    "name": "ipython",
    "version": 3
   },
   "file_extension": ".py",
   "mimetype": "text/x-python",
   "name": "python",
   "nbconvert_exporter": "python",
   "pygments_lexer": "ipython3",
   "version": "3.10.4"
  }
 },
 "nbformat": 4,
 "nbformat_minor": 5
}
