{
 "cells": [
  {
   "cell_type": "markdown",
   "id": "de0aaa8b-67e1-48a1-a1c9-e0a394fadc7e",
   "metadata": {},
   "source": [
    "## Create a Feast Feature Store from Parquet Files as DataSource\n",
    "![](images/feast_fs.png)"
   ]
  },
  {
   "cell_type": "code",
   "execution_count": 2,
   "id": "972962c4-5563-4cf3-89c9-7941e49a724a",
   "metadata": {},
   "outputs": [
    {
     "name": "stderr",
     "output_type": "stream",
     "text": [
      "/usr/local/anaconda3/lib/python3.8/site-packages/ipykernel/ipkernel.py:287: DeprecationWarning: `should_run_async` will not call `transform_cell` automatically in the future. Please pass the result to `transformed_cell` argument and any exception that happen during thetransform in `preprocessing_exc_tuple` in IPython 7.17 and above.\n",
      "  and should_run_async(code)\n"
     ]
    }
   ],
   "source": [
    "import sys\n",
    "sys.path.insert(0, \"../\")"
   ]
  },
  {
   "cell_type": "markdown",
   "id": "70efeb71-503c-4377-aa4c-5459f4f1ef9b",
   "metadata": {},
   "source": [
    "### Import General Python libs and modules"
   ]
  },
  {
   "cell_type": "code",
   "execution_count": 3,
   "id": "c705bab1-21ad-4685-8c91-b48c2e0f8fdc",
   "metadata": {},
   "outputs": [],
   "source": [
    "from datetime import datetime\n",
    "from pathlib import Path\n",
    "import pandas as pd\n",
    "from pprint import pprint"
   ]
  },
  {
   "cell_type": "markdown",
   "id": "f3461436-b29a-4e48-9da0-c24ea2fa3db7",
   "metadata": {},
   "source": [
    "### Import Feast related modules and definitions from feast_repo directories"
   ]
  },
  {
   "cell_type": "code",
   "execution_count": 4,
   "id": "d50acf53-369f-4aef-8241-ad168dce251b",
   "metadata": {},
   "outputs": [],
   "source": [
    "from feast import FeatureStore\n",
    "from entities.entity import zipcode, dob_ssn\n",
    "from features.feature_views import zipcode_features, credit_history\n",
    "from feature_service.feature_svc import zipcode_features_svc\n",
    "from utils.data_fetcher import DataFetcher"
   ]
  },
  {
   "cell_type": "code",
   "execution_count": 7,
   "id": "455012c3-dd40-4d72-b271-79569cc11052",
   "metadata": {},
   "outputs": [],
   "source": [
    "# [IMPORTANT] Change this  path to yours git repo\n",
    "FEAST_REPO = \"../\""
   ]
  },
  {
   "cell_type": "code",
   "execution_count": 9,
   "id": "dc4345eb-5466-4731-aa2c-6f1cd9ef4397",
   "metadata": {},
   "outputs": [],
   "source": [
    "repo_path = Path(FEAST_REPO)\n",
    "fs = FeatureStore(repo_path=repo_path)"
   ]
  },
  {
   "cell_type": "markdown",
   "id": "37b79a16-33a0-4402-9d3c-d78756c4f322",
   "metadata": {},
   "source": [
    "### Step 1. Register the data source, entity, features and feature view, and feature service in feast_repo with the Feast Registry"
   ]
  },
  {
   "cell_type": "code",
   "execution_count": 10,
   "id": "f929ea8b-c2d3-4ecd-8585-2506c5f3f3dd",
   "metadata": {},
   "outputs": [],
   "source": [
    "fs.apply([zipcode, dob_ssn, zipcode_features, credit_history, zipcode_features_svc])"
   ]
  },
  {
   "cell_type": "markdown",
   "id": "beaf2c54-632d-4b7f-bc46-28a7ae8a9d49",
   "metadata": {},
   "source": [
    "### Step 2. Now materialize, load data into online store"
   ]
  },
  {
   "cell_type": "code",
   "execution_count": 11,
   "id": "a9f79b20-34b5-49b7-b51c-782f32e606a3",
   "metadata": {},
   "outputs": [
    {
     "name": "stderr",
     "output_type": "stream",
     "text": [
      "0it [00:00, ?it/s]"
     ]
    },
    {
     "name": "stdout",
     "output_type": "stream",
     "text": [
      "Materializing \u001b[1m\u001b[32m2\u001b[0m feature views to \u001b[1m\u001b[32m2021-10-06 23:43:01-07:00\u001b[0m into the \u001b[1m\u001b[32msqlite\u001b[0m online store.\n",
      "\n",
      "\u001b[1m\u001b[32mzipcode_features\u001b[0m from \u001b[1m\u001b[32m2021-10-06 16:35:50-07:00\u001b[0m to \u001b[1m\u001b[32m2021-10-06 23:43:01-07:00\u001b[0m:\n",
      "\u001b[1m\u001b[32mcredit_history\u001b[0m from \u001b[1m\u001b[32m2021-10-06 16:35:50-07:00\u001b[0m to \u001b[1m\u001b[32m2021-10-06 16:43:01-07:00\u001b[0m:\n"
     ]
    },
    {
     "name": "stderr",
     "output_type": "stream",
     "text": [
      "\n",
      "0it [00:00, ?it/s]\n"
     ]
    }
   ],
   "source": [
    "fs.materialize_incremental(end_date=datetime.utcnow())"
   ]
  },
  {
   "cell_type": "markdown",
   "id": "0c0bed5e-ed8c-4139-a87b-bb0d4be7b936",
   "metadata": {},
   "source": [
    "### Step 3. Fetch training data augmented with loans data"
   ]
  },
  {
   "cell_type": "code",
   "execution_count": 12,
   "id": "48758d9d-25fe-4d50-a1a3-ab010498802a",
   "metadata": {},
   "outputs": [
    {
     "data": {
      "text/html": [
       "<div>\n",
       "<style scoped>\n",
       "    .dataframe tbody tr th:only-of-type {\n",
       "        vertical-align: middle;\n",
       "    }\n",
       "\n",
       "    .dataframe tbody tr th {\n",
       "        vertical-align: top;\n",
       "    }\n",
       "\n",
       "    .dataframe thead th {\n",
       "        text-align: right;\n",
       "    }\n",
       "</style>\n",
       "<table border=\"1\" class=\"dataframe\">\n",
       "  <thead>\n",
       "    <tr style=\"text-align: right;\">\n",
       "      <th></th>\n",
       "      <th>event_timestamp</th>\n",
       "      <th>loan_id</th>\n",
       "      <th>dob_ssn</th>\n",
       "      <th>zipcode</th>\n",
       "      <th>person_age</th>\n",
       "      <th>person_income</th>\n",
       "      <th>person_home_ownership</th>\n",
       "      <th>person_emp_length</th>\n",
       "      <th>loan_intent</th>\n",
       "      <th>loan_amnt</th>\n",
       "      <th>loan_int_rate</th>\n",
       "      <th>loan_status</th>\n",
       "      <th>created_timestamp</th>\n",
       "      <th>city</th>\n",
       "      <th>state</th>\n",
       "      <th>location_type</th>\n",
       "      <th>tax_returns_filed</th>\n",
       "      <th>population</th>\n",
       "      <th>total_wages</th>\n",
       "      <th>credit_card_due</th>\n",
       "      <th>mortgage_due</th>\n",
       "      <th>student_loan_due</th>\n",
       "      <th>vehicle_loan_due</th>\n",
       "      <th>hard_pulls</th>\n",
       "      <th>missed_payments_2y</th>\n",
       "      <th>missed_payments_1y</th>\n",
       "      <th>missed_payments_6m</th>\n",
       "      <th>bankruptcies</th>\n",
       "    </tr>\n",
       "  </thead>\n",
       "  <tbody>\n",
       "    <tr>\n",
       "      <th>0</th>\n",
       "      <td>2020-08-25 20:34:41.361000+00:00</td>\n",
       "      <td>38637</td>\n",
       "      <td>19960703_3449</td>\n",
       "      <td>69033</td>\n",
       "      <td>66</td>\n",
       "      <td>42000</td>\n",
       "      <td>RENT</td>\n",
       "      <td>2.0</td>\n",
       "      <td>MEDICAL</td>\n",
       "      <td>6475</td>\n",
       "      <td>9.99</td>\n",
       "      <td>0</td>\n",
       "      <td>2020-08-25 20:34:41.361000+00:00</td>\n",
       "      <td>IMPERIAL</td>\n",
       "      <td>NE</td>\n",
       "      <td>PRIMARY</td>\n",
       "      <td>1171</td>\n",
       "      <td>2141</td>\n",
       "      <td>32596076</td>\n",
       "      <td>1928</td>\n",
       "      <td>1197324</td>\n",
       "      <td>24208</td>\n",
       "      <td>4691</td>\n",
       "      <td>1</td>\n",
       "      <td>4</td>\n",
       "      <td>0</td>\n",
       "      <td>1</td>\n",
       "      <td>0</td>\n",
       "    </tr>\n",
       "    <tr>\n",
       "      <th>1</th>\n",
       "      <td>2020-08-25 20:53:02.594000+00:00</td>\n",
       "      <td>38636</td>\n",
       "      <td>19901017_6108</td>\n",
       "      <td>92014</td>\n",
       "      <td>56</td>\n",
       "      <td>150000</td>\n",
       "      <td>MORTGAGE</td>\n",
       "      <td>5.0</td>\n",
       "      <td>PERSONAL</td>\n",
       "      <td>15000</td>\n",
       "      <td>11.48</td>\n",
       "      <td>0</td>\n",
       "      <td>2020-08-25 20:53:02.594000+00:00</td>\n",
       "      <td>DEL MAR</td>\n",
       "      <td>CA</td>\n",
       "      <td>PRIMARY</td>\n",
       "      <td>7681</td>\n",
       "      <td>12635</td>\n",
       "      <td>653566215</td>\n",
       "      <td>1257</td>\n",
       "      <td>152136</td>\n",
       "      <td>42087</td>\n",
       "      <td>26234</td>\n",
       "      <td>1</td>\n",
       "      <td>1</td>\n",
       "      <td>0</td>\n",
       "      <td>0</td>\n",
       "      <td>0</td>\n",
       "    </tr>\n",
       "    <tr>\n",
       "      <th>2</th>\n",
       "      <td>2020-08-25 21:11:23.826000+00:00</td>\n",
       "      <td>38635</td>\n",
       "      <td>19880422_2592</td>\n",
       "      <td>68826</td>\n",
       "      <td>65</td>\n",
       "      <td>76000</td>\n",
       "      <td>RENT</td>\n",
       "      <td>3.0</td>\n",
       "      <td>HOMEIMPROVEMENT</td>\n",
       "      <td>35000</td>\n",
       "      <td>10.99</td>\n",
       "      <td>1</td>\n",
       "      <td>2020-08-25 21:11:23.826000+00:00</td>\n",
       "      <td>CENTRAL CITY</td>\n",
       "      <td>NE</td>\n",
       "      <td>PRIMARY</td>\n",
       "      <td>1746</td>\n",
       "      <td>3147</td>\n",
       "      <td>47886607</td>\n",
       "      <td>4089</td>\n",
       "      <td>1384134</td>\n",
       "      <td>31368</td>\n",
       "      <td>28279</td>\n",
       "      <td>3</td>\n",
       "      <td>7</td>\n",
       "      <td>0</td>\n",
       "      <td>0</td>\n",
       "      <td>0</td>\n",
       "    </tr>\n",
       "    <tr>\n",
       "      <th>3</th>\n",
       "      <td>2020-08-25 21:29:45.059000+00:00</td>\n",
       "      <td>38634</td>\n",
       "      <td>19681208_6537</td>\n",
       "      <td>24872</td>\n",
       "      <td>54</td>\n",
       "      <td>120000</td>\n",
       "      <td>MORTGAGE</td>\n",
       "      <td>4.0</td>\n",
       "      <td>PERSONAL</td>\n",
       "      <td>17625</td>\n",
       "      <td>7.49</td>\n",
       "      <td>0</td>\n",
       "      <td>2020-08-25 21:29:45.059000+00:00</td>\n",
       "      <td>PANTHER</td>\n",
       "      <td>WV</td>\n",
       "      <td>PRIMARY</td>\n",
       "      <td>252</td>\n",
       "      <td>518</td>\n",
       "      <td>7205163</td>\n",
       "      <td>7580</td>\n",
       "      <td>1489350</td>\n",
       "      <td>36038</td>\n",
       "      <td>6894</td>\n",
       "      <td>0</td>\n",
       "      <td>1</td>\n",
       "      <td>0</td>\n",
       "      <td>0</td>\n",
       "      <td>0</td>\n",
       "    </tr>\n",
       "    <tr>\n",
       "      <th>4</th>\n",
       "      <td>2020-08-25 21:48:06.292000+00:00</td>\n",
       "      <td>38633</td>\n",
       "      <td>19491126_1487</td>\n",
       "      <td>43205</td>\n",
       "      <td>57</td>\n",
       "      <td>53000</td>\n",
       "      <td>MORTGAGE</td>\n",
       "      <td>1.0</td>\n",
       "      <td>PERSONAL</td>\n",
       "      <td>5800</td>\n",
       "      <td>13.16</td>\n",
       "      <td>0</td>\n",
       "      <td>2020-08-25 21:48:06.292000+00:00</td>\n",
       "      <td>COLUMBUS</td>\n",
       "      <td>OH</td>\n",
       "      <td>PRIMARY</td>\n",
       "      <td>4826</td>\n",
       "      <td>7185</td>\n",
       "      <td>112085573</td>\n",
       "      <td>388</td>\n",
       "      <td>438726</td>\n",
       "      <td>41429</td>\n",
       "      <td>12736</td>\n",
       "      <td>6</td>\n",
       "      <td>4</td>\n",
       "      <td>0</td>\n",
       "      <td>1</td>\n",
       "      <td>0</td>\n",
       "    </tr>\n",
       "  </tbody>\n",
       "</table>\n",
       "</div>"
      ],
      "text/plain": [
       "                   event_timestamp  loan_id        dob_ssn  zipcode  \\\n",
       "0 2020-08-25 20:34:41.361000+00:00    38637  19960703_3449    69033   \n",
       "1 2020-08-25 20:53:02.594000+00:00    38636  19901017_6108    92014   \n",
       "2 2020-08-25 21:11:23.826000+00:00    38635  19880422_2592    68826   \n",
       "3 2020-08-25 21:29:45.059000+00:00    38634  19681208_6537    24872   \n",
       "4 2020-08-25 21:48:06.292000+00:00    38633  19491126_1487    43205   \n",
       "\n",
       "   person_age  person_income person_home_ownership  person_emp_length  \\\n",
       "0          66          42000                  RENT                2.0   \n",
       "1          56         150000              MORTGAGE                5.0   \n",
       "2          65          76000                  RENT                3.0   \n",
       "3          54         120000              MORTGAGE                4.0   \n",
       "4          57          53000              MORTGAGE                1.0   \n",
       "\n",
       "       loan_intent  loan_amnt  loan_int_rate  loan_status  \\\n",
       "0          MEDICAL       6475           9.99            0   \n",
       "1         PERSONAL      15000          11.48            0   \n",
       "2  HOMEIMPROVEMENT      35000          10.99            1   \n",
       "3         PERSONAL      17625           7.49            0   \n",
       "4         PERSONAL       5800          13.16            0   \n",
       "\n",
       "                 created_timestamp          city state location_type  \\\n",
       "0 2020-08-25 20:34:41.361000+00:00      IMPERIAL    NE       PRIMARY   \n",
       "1 2020-08-25 20:53:02.594000+00:00       DEL MAR    CA       PRIMARY   \n",
       "2 2020-08-25 21:11:23.826000+00:00  CENTRAL CITY    NE       PRIMARY   \n",
       "3 2020-08-25 21:29:45.059000+00:00       PANTHER    WV       PRIMARY   \n",
       "4 2020-08-25 21:48:06.292000+00:00      COLUMBUS    OH       PRIMARY   \n",
       "\n",
       "   tax_returns_filed  population  total_wages  credit_card_due  mortgage_due  \\\n",
       "0               1171        2141     32596076             1928       1197324   \n",
       "1               7681       12635    653566215             1257        152136   \n",
       "2               1746        3147     47886607             4089       1384134   \n",
       "3                252         518      7205163             7580       1489350   \n",
       "4               4826        7185    112085573              388        438726   \n",
       "\n",
       "   student_loan_due  vehicle_loan_due  hard_pulls  missed_payments_2y  \\\n",
       "0             24208              4691           1                   4   \n",
       "1             42087             26234           1                   1   \n",
       "2             31368             28279           3                   7   \n",
       "3             36038              6894           0                   1   \n",
       "4             41429             12736           6                   4   \n",
       "\n",
       "   missed_payments_1y  missed_payments_6m  bankruptcies  \n",
       "0                   0                   1             0  \n",
       "1                   0                   0             0  \n",
       "2                   0                   0             0  \n",
       "3                   0                   0             0  \n",
       "4                   0                   1             0  "
      ]
     },
     "execution_count": 12,
     "metadata": {},
     "output_type": "execute_result"
    }
   ],
   "source": [
    "fetcher = DataFetcher(fs, repo_path)\n",
    "training_df = fetcher.get_training_data()\n",
    "pd.set_option('display.max_columns', 50)\n",
    "training_df.head(5)"
   ]
  },
  {
   "cell_type": "markdown",
   "id": "2d7c3f75-5f44-4ebb-894b-339f1844e905",
   "metadata": {},
   "source": [
    "### Step 4. Get an inference vector for zipcode and dob_ssn"
   ]
  },
  {
   "cell_type": "code",
   "execution_count": 14,
   "id": "0976b158-00bf-4557-86c8-27327ef55b0d",
   "metadata": {},
   "outputs": [
    {
     "name": "stdout",
     "output_type": "stream",
     "text": [
      "Fetching feature vector for zipcode and dob_ssn:30721, 19790429_9552\n",
      "{'bankruptcies': [0],\n",
      " 'city': ['DALTON'],\n",
      " 'credit_card_due': [4906],\n",
      " 'dob_ssn': ['19790429_9552'],\n",
      " 'hard_pulls': [4],\n",
      " 'location_type': ['PRIMARY'],\n",
      " 'missed_payments_1y': [1],\n",
      " 'missed_payments_2y': [6],\n",
      " 'missed_payments_6m': [1],\n",
      " 'mortgage_due': [1727236],\n",
      " 'population': [38542],\n",
      " 'state': ['GA'],\n",
      " 'student_loan_due': [32687],\n",
      " 'tax_returns_filed': [19583],\n",
      " 'total_wages': [534687864],\n",
      " 'vehicle_loan_due': [2999],\n",
      " 'zipcode': [30721]}\n",
      "------------------------------\n",
      "Fetching feature vector for zipcode and dob_ssn:48893, 19971025_8002\n",
      "{'bankruptcies': [0],\n",
      " 'city': ['WEIDMAN'],\n",
      " 'credit_card_due': [2320],\n",
      " 'dob_ssn': ['19971025_8002'],\n",
      " 'hard_pulls': [1],\n",
      " 'location_type': ['PRIMARY'],\n",
      " 'missed_payments_1y': [0],\n",
      " 'missed_payments_2y': [4],\n",
      " 'missed_payments_6m': [0],\n",
      " 'mortgage_due': [1329636],\n",
      " 'population': [4421],\n",
      " 'state': ['MI'],\n",
      " 'student_loan_due': [8914],\n",
      " 'tax_returns_filed': [2424],\n",
      " 'total_wages': [71067272],\n",
      " 'vehicle_loan_due': [7163],\n",
      " 'zipcode': [48893]}\n",
      "------------------------------\n"
     ]
    }
   ],
   "source": [
    "zipcodes_dob_ssns = [(30721, \"19790429_9552\"), (48893, \"19971025_8002\")]\n",
    "for zipcode, dob_ssn in zipcodes_dob_ssns:\n",
    "    print(f\"Fetching feature vector for zipcode and dob_ssn:{zipcode}, {dob_ssn}\")\n",
    "    data = fetcher.get_online_data(zipcode, dob_ssn)\n",
    "    pprint(data)\n",
    "    print(\"------\" * 5)"
   ]
  }
 ],
 "metadata": {
  "kernelspec": {
   "display_name": "Python 3",
   "language": "python",
   "name": "python3"
  },
  "language_info": {
   "codemirror_mode": {
    "name": "ipython",
    "version": 3
   },
   "file_extension": ".py",
   "mimetype": "text/x-python",
   "name": "python",
   "nbconvert_exporter": "python",
   "pygments_lexer": "ipython3",
   "version": "3.8.8"
  }
 },
 "nbformat": 4,
 "nbformat_minor": 5
}
