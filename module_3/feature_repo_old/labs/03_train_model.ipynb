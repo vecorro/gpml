{
 "cells": [
  {
   "cell_type": "markdown",
   "id": "cd1f86d9-c97a-4309-9756-184c2e8b01f4",
   "metadata": {},
   "source": [
    "## A Credit Scoring Use Case for Loan Approval: Using XGBoost and Feast\n",
    "![](images/feast_xgboost.png)"
   ]
  },
  {
   "cell_type": "code",
   "execution_count": 1,
   "id": "bea3fcf4-9476-4b93-a033-db9837d13d1d",
   "metadata": {},
   "outputs": [],
   "source": [
    "import sys\n",
    "sys.path.insert(0, \"../\")"
   ]
  },
  {
   "cell_type": "markdown",
   "id": "e240f774-41a9-4fbb-8eb5-9ad28f8e23db",
   "metadata": {},
   "source": [
    "### Import General Python libs and modules"
   ]
  },
  {
   "cell_type": "code",
   "execution_count": 2,
   "id": "23fff6f0-ec91-4e31-82a6-db17994ebbb2",
   "metadata": {},
   "outputs": [],
   "source": [
    "import pandas as pd\n",
    "import time\n",
    "import numpy as np\n",
    "from pathlib import Path\n",
    "\n",
    "from sklearn.model_selection import train_test_split\n",
    "from sklearn.metrics import accuracy_score\n",
    "from sklearn.preprocessing import OrdinalEncoder\n",
    "from sklearn.metrics import precision_score\n",
    "\n",
    "import xgboost as xgb"
   ]
  },
  {
   "cell_type": "markdown",
   "id": "590f2ca5-b698-422f-bd80-4db35d4b586e",
   "metadata": {},
   "source": [
    "### Import Feast related modules and definitions from feast_repo directories"
   ]
  },
  {
   "cell_type": "code",
   "execution_count": 3,
   "id": "088bda85-f750-4443-b762-c37d7737a187",
   "metadata": {},
   "outputs": [],
   "source": [
    "from feast import FeatureStore\n",
    "from utils.data_fetcher import DataFetcher\n",
    "from queries.train_model import CreditXGBClassifier"
   ]
  },
  {
   "cell_type": "markdown",
   "id": "e3c10fed-a126-456b-a2b1-da92aa530970",
   "metadata": {},
   "source": [
    "### Create instances of \n",
    " * feature store\n",
    " * data fetcher utility class\n",
    " * XGBoost classifier"
   ]
  },
  {
   "cell_type": "code",
   "execution_count": 4,
   "id": "b9f21401-99ec-4ea4-8829-4831ce432cbd",
   "metadata": {},
   "outputs": [],
   "source": [
    "# [IMPORTANT] Change this  path to yours git repo\n",
    "REPO_PATH = Path(\"/Users/kike/Library/CloudStorage/OneDrive-VMware,Inc/OCTO/2022-H1/Taurus/Feast/feast_workshops-master/module_3/feature_repo\")\n",
    "store = FeatureStore(repo_path=REPO_PATH)\n",
    "fetcher = DataFetcher(store, REPO_PATH)"
   ]
  },
  {
   "cell_type": "code",
   "execution_count": 5,
   "id": "cdd41667-c89b-4743-a41f-dce7d4b8b414",
   "metadata": {},
   "outputs": [
    {
     "name": "stdout",
     "output_type": "stream",
     "text": [
      "Columns int training df: Index(['loan_id', 'dob_ssn', 'zipcode', 'person_age', 'person_income',\n",
      "       'person_home_ownership', 'person_emp_length', 'loan_intent',\n",
      "       'loan_amnt', 'loan_int_rate', 'loan_status', 'event_timestamp',\n",
      "       'created_timestamp__', 'city', 'state', 'location_type',\n",
      "       'tax_returns_filed', 'population', 'total_wages', 'credit_card_due',\n",
      "       'mortgage_due', 'student_loan_due', 'vehicle_loan_due', 'hard_pulls',\n",
      "       'missed_payments_2y', 'missed_payments_1y', 'missed_payments_6m',\n",
      "       'bankruptcies'],\n",
      "      dtype='object')\n",
      "Columns to drop: ['event_timestamp', 'created_timestamp__', 'loan_id', 'loan_status']\n"
     ]
    }
   ],
   "source": [
    "xgboost_cls = CreditXGBClassifier(store, fetcher)"
   ]
  },
  {
   "cell_type": "markdown",
   "id": "1894e2b5-6e42-4791-8936-042d45de9699",
   "metadata": {},
   "source": [
    "### Train the XGBoost classifier on localhost using a single process and a single core\n",
    "![](images/xgboost_single_core.png)"
   ]
  },
  {
   "cell_type": "code",
   "execution_count": 6,
   "id": "ad7d559e-0037-46b9-b252-64407d723b13",
   "metadata": {},
   "outputs": [
    {
     "name": "stdout",
     "output_type": "stream",
     "text": [
      " predictions: [2.7212387e-02 4.6638330e-04 8.2361093e-03 ... 2.5680298e-02 6.0962387e-03\n",
      " 9.9624002e-01]\n",
      "Numpy array precision: 1.0\n",
      " predictions: [2.7212387e-02 4.6638330e-04 8.2361093e-03 ... 2.5680298e-02 6.0962387e-03\n",
      " 9.9624002e-01]\n",
      "Numpy array precision: 1.0\n",
      " predictions: [2.7212387e-02 4.6638330e-04 8.2361093e-03 ... 2.5680298e-02 6.0962387e-03\n",
      " 9.9624002e-01]\n",
      "Numpy array precision: 1.0\n",
      " predictions: [2.7212387e-02 4.6638330e-04 8.2361093e-03 ... 2.5680298e-02 6.0962387e-03\n",
      " 9.9624002e-01]\n",
      "Numpy array precision: 1.0\n",
      " predictions: [2.7212387e-02 4.6638330e-04 8.2361093e-03 ... 2.5680298e-02 6.0962387e-03\n",
      " 9.9624002e-01]\n",
      "Numpy array precision: 1.0\n",
      " predictions: [2.7212387e-02 4.6638330e-04 8.2361093e-03 ... 2.5680298e-02 6.0962387e-03\n",
      " 9.9624002e-01]\n",
      "Numpy array precision: 1.0\n",
      " predictions: [2.7212387e-02 4.6638330e-04 8.2361093e-03 ... 2.5680298e-02 6.0962387e-03\n",
      " 9.9624002e-01]\n",
      "Numpy array precision: 1.0\n",
      " predictions: [2.7212387e-02 4.6638330e-04 8.2361093e-03 ... 2.5680298e-02 6.0962387e-03\n",
      " 9.9624002e-01]\n",
      "Numpy array precision: 1.0\n",
      "2.42 s ± 141 ms per loop (mean ± std. dev. of 7 runs, 1 loop each)\n"
     ]
    }
   ],
   "source": [
    "%timeit xgboost_cls.train()"
   ]
  },
  {
   "cell_type": "markdown",
   "id": "0fd16a17-02e4-4217-a2ad-b0e860ed74b8",
   "metadata": {},
   "source": [
    "### Define loan requests"
   ]
  },
  {
   "cell_type": "code",
   "execution_count": 7,
   "id": "2b47eaa3-ee19-4720-bc7e-d33b132fe350",
   "metadata": {},
   "outputs": [],
   "source": [
    " loan_requests = [\n",
    "    {\n",
    "        \"zipcode\": [76104],\n",
    "        \"person_age\": [22],\n",
    "        \"person_income\": [59000],\n",
    "        \"person_home_ownership\": [\"RENT\"],\n",
    "        \"person_emp_length\": [123.0],\n",
    "        \"loan_intent\": [\"PERSONAL\"],\n",
    "        \"loan_amnt\": [35000],\n",
    "        \"loan_int_rate\": [16.02],\n",
    "        \"dob_ssn\": [\"19530219_5179\"]\n",
    "    },\n",
    "    {\n",
    "        \"zipcode\": [69033],\n",
    "        \"person_age\": [66],\n",
    "        \"person_income\": [42000],\n",
    "        \"person_home_ownership\": [\"RENT\"],\n",
    "        \"person_emp_length\": [2.0],\n",
    "        \"loan_intent\": [\"MEDICAL\"],\n",
    "        \"loan_amnt\": [6475],\n",
    "        \"loan_int_rate\": [9.99],\n",
    "        \"dob_ssn\": [\"19960703_3449\"]\n",
    "    }\n",
    "]"
   ]
  },
  {
   "cell_type": "markdown",
   "id": "c39d27d5-8698-4278-9027-08ea5e810988",
   "metadata": {},
   "source": [
    "### Predict the loan requests"
   ]
  },
  {
   "cell_type": "code",
   "execution_count": 8,
   "id": "591074bc-aa43-4708-a87d-78011fc1d302",
   "metadata": {},
   "outputs": [
    {
     "name": "stdout",
     "output_type": "stream",
     "text": [
      "Loan for 76104 code approved: status_code=1\n",
      "Loan for 69033 code rejected: status_code=0\n"
     ]
    },
    {
     "name": "stderr",
     "output_type": "stream",
     "text": [
      "/Users/kike/opt/miniconda3/envs/feast_workshop/lib/python3.10/site-packages/tornado/ioloop.py:263: DeprecationWarning: There is no current event loop\n",
      "  loop = asyncio.get_event_loop()\n"
     ]
    }
   ],
   "source": [
    "for loan_request in loan_requests:\n",
    "    result = round(xgboost_cls.predict(loan_request))\n",
    "    loan_status = \"approved\" if result == 1 else \"rejected\"\n",
    "    print(f\"Loan for {loan_request['zipcode'][0]} code {loan_status}: status_code={result}\")"
   ]
  },
  {
   "cell_type": "code",
   "execution_count": null,
   "id": "b6a1dbe9-1c50-4c98-81f0-b0103ee8fce3",
   "metadata": {},
   "outputs": [],
   "source": []
  }
 ],
 "metadata": {
  "kernelspec": {
   "display_name": "Python 3 (ipykernel)",
   "language": "python",
   "name": "python3"
  },
  "language_info": {
   "codemirror_mode": {
    "name": "ipython",
    "version": 3
   },
   "file_extension": ".py",
   "mimetype": "text/x-python",
   "name": "python",
   "nbconvert_exporter": "python",
   "pygments_lexer": "ipython3",
   "version": "3.10.4"
  }
 },
 "nbformat": 4,
 "nbformat_minor": 5
}
