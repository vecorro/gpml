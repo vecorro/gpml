{
 "cells": [
  {
   "cell_type": "markdown",
   "id": "2f3cf39b-f14c-4727-be66-736485fbbe59",
   "metadata": {},
   "source": [
    "## A Credit Scoring Use Case for Loan Approval: Using Distributed Training with Ray and XGBoost and Feast\n",
    "![](images/feast_ray_xgboost.png)"
   ]
  },
  {
   "cell_type": "code",
   "execution_count": 1,
   "id": "d6369a05-35f7-4712-9568-d16536b832ec",
   "metadata": {},
   "outputs": [],
   "source": [
    "import sys\n",
    "sys.path.insert(0, \"../\")"
   ]
  },
  {
   "cell_type": "markdown",
   "id": "82b6b301-b734-42dd-9a45-e9162d84c5bb",
   "metadata": {},
   "source": [
    "### Import General Python libs and modules"
   ]
  },
  {
   "cell_type": "code",
   "execution_count": 2,
   "id": "71368eb6-519a-47dc-a471-21ae750b3bc2",
   "metadata": {},
   "outputs": [],
   "source": [
    "import pandas as pd\n",
    "import numpy as np\n",
    "from pathlib import Path\n",
    "\n",
    "from sklearn.model_selection import train_test_split\n",
    "from sklearn.metrics import accuracy_score\n",
    "from sklearn.preprocessing import OrdinalEncoder\n",
    "from sklearn.metrics import precision_score\n",
    "\n",
    "from xgboost_ray import RayXGBClassifier, RayParams\n",
    "import xgboost as xgb"
   ]
  },
  {
   "cell_type": "markdown",
   "id": "53f63be4-26c9-4e3d-9672-be6420454379",
   "metadata": {},
   "source": [
    "### Import Feast related modules and definitions from feast_repo directories and Ray modules"
   ]
  },
  {
   "cell_type": "code",
   "execution_count": 3,
   "id": "57dd1afe-4917-480d-a068-86d83130d5f9",
   "metadata": {},
   "outputs": [],
   "source": [
    "from feast import FeatureStore\n",
    "from utils.data_fetcher import DataFetcher\n",
    "from queries.ray_train_model import CreditRayXGBClassifier"
   ]
  },
  {
   "cell_type": "markdown",
   "id": "f51f10c5-e617-44b3-91ce-105f4f28e4ad",
   "metadata": {},
   "source": [
    "### Create instances of \n",
    " * feature store\n",
    " * data fetcher utility class\n",
    " * RayXGBoost classifier for distributed training"
   ]
  },
  {
   "cell_type": "code",
   "execution_count": 4,
   "id": "69cf2b84-00cd-4a36-840a-c6df66072fde",
   "metadata": {},
   "outputs": [
    {
     "name": "stdout",
     "output_type": "stream",
     "text": [
      "Columns int training df: Index(['loan_id', 'dob_ssn', 'zipcode', 'person_age', 'person_income',\n",
      "       'person_home_ownership', 'person_emp_length', 'loan_intent',\n",
      "       'loan_amnt', 'loan_int_rate', 'loan_status', 'event_timestamp',\n",
      "       'created_timestamp__', 'city', 'state', 'location_type',\n",
      "       'tax_returns_filed', 'population', 'total_wages', 'credit_card_due',\n",
      "       'mortgage_due', 'student_loan_due', 'vehicle_loan_due', 'hard_pulls',\n",
      "       'missed_payments_2y', 'missed_payments_1y', 'missed_payments_6m',\n",
      "       'bankruptcies'],\n",
      "      dtype='object')\n",
      "Columns to drop: ['event_timestamp', 'created_timestamp__', 'loan_id', 'loan_status']\n"
     ]
    },
    {
     "name": "stderr",
     "output_type": "stream",
     "text": [
      "/Users/kike/opt/miniconda3/envs/feast_workshop/lib/python3.10/site-packages/xgboost_ray/sklearn.py:239: DeprecationWarning: distutils Version classes are deprecated. Use packaging.version instead.\n",
      "  if XGBOOST_LOOSE_VERSION < LooseVersion(\"1.4.0\"):\n"
     ]
    }
   ],
   "source": [
    "# [IMPORTANT] Change this  path to yours git repo\n",
    "REPO_PATH = Path(\"/Users/kike/Library/CloudStorage/OneDrive-VMware,Inc/OCTO/2022-H1/Taurus/Feast/feast_workshops-master/module_3/feature_repo\")\n",
    "store = FeatureStore(repo_path=REPO_PATH)\n",
    "fetcher = DataFetcher(store, REPO_PATH)\n",
    "xgboost_cls = CreditRayXGBClassifier(store, fetcher)"
   ]
  },
  {
   "cell_type": "markdown",
   "id": "59f6cc60-fcf8-4202-95e7-1c54cddd0daf",
   "metadata": {},
   "source": [
    "### Train the RayXGBoost classifier for distributed training on localhost using a four cores or processes\n",
    "![](images/xgboost_multi_core.png)"
   ]
  },
  {
   "cell_type": "code",
   "execution_count": 5,
   "id": "c7785fe4-6c4c-4397-b660-08178d0d6adb",
   "metadata": {},
   "outputs": [
    {
     "name": "stderr",
     "output_type": "stream",
     "text": [
      "2022-06-15 13:30:39,197\tINFO main.py:980 -- [RayXGBoost] Created 4 new actors (4 total actors). Waiting until actors are ready for training.\n",
      "2022-06-15 13:30:41,834\tINFO main.py:1025 -- [RayXGBoost] Starting XGBoost training.\n",
      "\u001b[2m\u001b[36m(_RemoteRayXGBoostActor pid=99281)\u001b[0m [13:30:41] task [xgboost.ray]:140204653047056 got new rank 0\n",
      "\u001b[2m\u001b[36m(_RemoteRayXGBoostActor pid=99282)\u001b[0m [13:30:41] task [xgboost.ray]:140225325165840 got new rank 1\n",
      "\u001b[2m\u001b[36m(_RemoteRayXGBoostActor pid=99283)\u001b[0m [13:30:41] task [xgboost.ray]:140467452996880 got new rank 2\n",
      "\u001b[2m\u001b[36m(_RemoteRayXGBoostActor pid=99284)\u001b[0m [13:30:41] task [xgboost.ray]:140409201159440 got new rank 3\n",
      "2022-06-15 13:30:46,393\tINFO main.py:1516 -- [RayXGBoost] Finished XGBoost training on training data with total N=21,478 in 7.35 seconds (4.55 pure XGBoost training time).\n",
      "2022-06-15 13:30:47,121\tINFO main.py:1556 -- [RayXGBoost] Created 4 remote actors.\n",
      "2022-06-15 13:30:49,601\tINFO main.py:1573 -- [RayXGBoost] Starting XGBoost prediction.\n",
      "2022-06-15 13:30:50,129\tINFO main.py:980 -- [RayXGBoost] Created 4 new actors (4 total actors). Waiting until actors are ready for training.\n"
     ]
    },
    {
     "name": "stdout",
     "output_type": "stream",
     "text": [
      " predictions: [0 0 0 ... 0 0 1]\n"
     ]
    },
    {
     "name": "stderr",
     "output_type": "stream",
     "text": [
      "2022-06-15 13:30:52,747\tINFO main.py:1025 -- [RayXGBoost] Starting XGBoost training.\n",
      "\u001b[2m\u001b[36m(_RemoteRayXGBoostActor pid=99322)\u001b[0m [13:30:52] task [xgboost.ray]:140154193276176 got new rank 1\n",
      "\u001b[2m\u001b[36m(_RemoteRayXGBoostActor pid=99321)\u001b[0m [13:30:52] task [xgboost.ray]:140430544989456 got new rank 0\n",
      "\u001b[2m\u001b[36m(_RemoteRayXGBoostActor pid=99324)\u001b[0m [13:30:52] task [xgboost.ray]:140640191900944 got new rank 3\n",
      "\u001b[2m\u001b[36m(_RemoteRayXGBoostActor pid=99323)\u001b[0m [13:30:52] task [xgboost.ray]:140461143354640 got new rank 2\n",
      "2022-06-15 13:30:57,298\tINFO main.py:1516 -- [RayXGBoost] Finished XGBoost training on training data with total N=21,478 in 7.22 seconds (4.54 pure XGBoost training time).\n",
      "2022-06-15 13:30:58,055\tINFO main.py:1556 -- [RayXGBoost] Created 4 remote actors.\n",
      "2022-06-15 13:31:00,337\tINFO main.py:1573 -- [RayXGBoost] Starting XGBoost prediction.\n",
      "2022-06-15 13:31:00,986\tINFO main.py:980 -- [RayXGBoost] Created 4 new actors (4 total actors). Waiting until actors are ready for training.\n"
     ]
    },
    {
     "name": "stdout",
     "output_type": "stream",
     "text": [
      " predictions: [0 0 0 ... 0 0 1]\n"
     ]
    },
    {
     "name": "stderr",
     "output_type": "stream",
     "text": [
      "2022-06-15 13:31:03,483\tINFO main.py:1025 -- [RayXGBoost] Starting XGBoost training.\n",
      "\u001b[2m\u001b[36m(_RemoteRayXGBoostActor pid=99367)\u001b[0m [13:31:03] task [xgboost.ray]:140243843247376 got new rank 1\n",
      "\u001b[2m\u001b[36m(_RemoteRayXGBoostActor pid=99369)\u001b[0m [13:31:03] task [xgboost.ray]:140692402695440 got new rank 3\n",
      "\u001b[2m\u001b[36m(_RemoteRayXGBoostActor pid=99368)\u001b[0m [13:31:03] task [xgboost.ray]:140599654182160 got new rank 2\n",
      "\u001b[2m\u001b[36m(_RemoteRayXGBoostActor pid=99366)\u001b[0m [13:31:03] task [xgboost.ray]:140443020127504 got new rank 0\n",
      "2022-06-15 13:31:08,694\tINFO main.py:1516 -- [RayXGBoost] Finished XGBoost training on training data with total N=21,478 in 7.76 seconds (5.21 pure XGBoost training time).\n",
      "2022-06-15 13:31:09,008\tINFO main.py:1556 -- [RayXGBoost] Created 4 remote actors.\n",
      "\u001b[2m\u001b[36m(_RemoteRayXGBoostActor pid=99369)\u001b[0m 2022-06-15 13:31:09,012\tERROR worker.py:451 -- SystemExit was raised from the worker.\n",
      "\u001b[2m\u001b[36m(_RemoteRayXGBoostActor pid=99369)\u001b[0m Traceback (most recent call last):\n",
      "\u001b[2m\u001b[36m(_RemoteRayXGBoostActor pid=99369)\u001b[0m   File \"python/ray/_raylet.pyx\", line 799, in ray._raylet.task_execution_handler\n",
      "\u001b[2m\u001b[36m(_RemoteRayXGBoostActor pid=99369)\u001b[0m   File \"python/ray/_raylet.pyx\", line 618, in ray._raylet.execute_task\n",
      "\u001b[2m\u001b[36m(_RemoteRayXGBoostActor pid=99369)\u001b[0m   File \"python/ray/_raylet.pyx\", line 658, in ray._raylet.execute_task\n",
      "\u001b[2m\u001b[36m(_RemoteRayXGBoostActor pid=99369)\u001b[0m   File \"python/ray/_raylet.pyx\", line 665, in ray._raylet.execute_task\n",
      "\u001b[2m\u001b[36m(_RemoteRayXGBoostActor pid=99369)\u001b[0m   File \"python/ray/_raylet.pyx\", line 669, in ray._raylet.execute_task\n",
      "\u001b[2m\u001b[36m(_RemoteRayXGBoostActor pid=99369)\u001b[0m   File \"python/ray/_raylet.pyx\", line 616, in ray._raylet.execute_task.function_executor\n",
      "\u001b[2m\u001b[36m(_RemoteRayXGBoostActor pid=99369)\u001b[0m   File \"/Users/kike/opt/miniconda3/envs/feast_workshop/lib/python3.10/site-packages/ray/_private/function_manager.py\", line 675, in actor_method_executor\n",
      "\u001b[2m\u001b[36m(_RemoteRayXGBoostActor pid=99369)\u001b[0m     return method(__ray_actor, *args, **kwargs)\n",
      "\u001b[2m\u001b[36m(_RemoteRayXGBoostActor pid=99369)\u001b[0m   File \"/Users/kike/opt/miniconda3/envs/feast_workshop/lib/python3.10/site-packages/ray/util/tracing/tracing_helper.py\", line 462, in _resume_span\n",
      "\u001b[2m\u001b[36m(_RemoteRayXGBoostActor pid=99369)\u001b[0m     return method(self, *_args, **_kwargs)\n",
      "\u001b[2m\u001b[36m(_RemoteRayXGBoostActor pid=99369)\u001b[0m   File \"/Users/kike/opt/miniconda3/envs/feast_workshop/lib/python3.10/site-packages/ray/actor.py\", line 1231, in __ray_terminate__\n",
      "\u001b[2m\u001b[36m(_RemoteRayXGBoostActor pid=99369)\u001b[0m     ray.actor.exit_actor()\n",
      "\u001b[2m\u001b[36m(_RemoteRayXGBoostActor pid=99369)\u001b[0m   File \"/Users/kike/opt/miniconda3/envs/feast_workshop/lib/python3.10/site-packages/ray/actor.py\", line 1282, in exit_actor\n",
      "\u001b[2m\u001b[36m(_RemoteRayXGBoostActor pid=99369)\u001b[0m     ray.worker.disconnect()\n",
      "\u001b[2m\u001b[36m(_RemoteRayXGBoostActor pid=99369)\u001b[0m   File \"/Users/kike/opt/miniconda3/envs/feast_workshop/lib/python3.10/site-packages/ray/worker.py\", line 1697, in disconnect\n",
      "\u001b[2m\u001b[36m(_RemoteRayXGBoostActor pid=99369)\u001b[0m     worker.import_thread.join_import_thread()\n",
      "\u001b[2m\u001b[36m(_RemoteRayXGBoostActor pid=99369)\u001b[0m   File \"/Users/kike/opt/miniconda3/envs/feast_workshop/lib/python3.10/site-packages/ray/_private/import_thread.py\", line 61, in join_import_thread\n",
      "\u001b[2m\u001b[36m(_RemoteRayXGBoostActor pid=99369)\u001b[0m     self.t.join()\n",
      "\u001b[2m\u001b[36m(_RemoteRayXGBoostActor pid=99369)\u001b[0m   File \"/Users/kike/opt/miniconda3/envs/feast_workshop/lib/python3.10/threading.py\", line 1089, in join\n",
      "\u001b[2m\u001b[36m(_RemoteRayXGBoostActor pid=99369)\u001b[0m     self._wait_for_tstate_lock()\n",
      "\u001b[2m\u001b[36m(_RemoteRayXGBoostActor pid=99369)\u001b[0m   File \"/Users/kike/opt/miniconda3/envs/feast_workshop/lib/python3.10/threading.py\", line 1109, in _wait_for_tstate_lock\n",
      "\u001b[2m\u001b[36m(_RemoteRayXGBoostActor pid=99369)\u001b[0m     if lock.acquire(block, timeout):\n",
      "\u001b[2m\u001b[36m(_RemoteRayXGBoostActor pid=99369)\u001b[0m   File \"/Users/kike/opt/miniconda3/envs/feast_workshop/lib/python3.10/site-packages/ray/worker.py\", line 448, in sigterm_handler\n",
      "\u001b[2m\u001b[36m(_RemoteRayXGBoostActor pid=99369)\u001b[0m     sys.exit(1)\n",
      "\u001b[2m\u001b[36m(_RemoteRayXGBoostActor pid=99369)\u001b[0m SystemExit: 1\n",
      "\u001b[2m\u001b[36m(_RemoteRayXGBoostActor pid=99368)\u001b[0m 2022-06-15 13:31:09,012\tERROR worker.py:451 -- SystemExit was raised from the worker.\n",
      "\u001b[2m\u001b[36m(_RemoteRayXGBoostActor pid=99368)\u001b[0m Traceback (most recent call last):\n",
      "\u001b[2m\u001b[36m(_RemoteRayXGBoostActor pid=99368)\u001b[0m   File \"python/ray/_raylet.pyx\", line 799, in ray._raylet.task_execution_handler\n",
      "\u001b[2m\u001b[36m(_RemoteRayXGBoostActor pid=99368)\u001b[0m   File \"python/ray/_raylet.pyx\", line 618, in ray._raylet.execute_task\n",
      "\u001b[2m\u001b[36m(_RemoteRayXGBoostActor pid=99368)\u001b[0m   File \"python/ray/_raylet.pyx\", line 658, in ray._raylet.execute_task\n",
      "\u001b[2m\u001b[36m(_RemoteRayXGBoostActor pid=99368)\u001b[0m   File \"python/ray/_raylet.pyx\", line 665, in ray._raylet.execute_task\n",
      "\u001b[2m\u001b[36m(_RemoteRayXGBoostActor pid=99368)\u001b[0m   File \"python/ray/_raylet.pyx\", line 669, in ray._raylet.execute_task\n",
      "\u001b[2m\u001b[36m(_RemoteRayXGBoostActor pid=99368)\u001b[0m   File \"python/ray/_raylet.pyx\", line 616, in ray._raylet.execute_task.function_executor\n",
      "\u001b[2m\u001b[36m(_RemoteRayXGBoostActor pid=99368)\u001b[0m   File \"/Users/kike/opt/miniconda3/envs/feast_workshop/lib/python3.10/site-packages/ray/_private/function_manager.py\", line 675, in actor_method_executor\n",
      "\u001b[2m\u001b[36m(_RemoteRayXGBoostActor pid=99368)\u001b[0m     return method(__ray_actor, *args, **kwargs)\n",
      "\u001b[2m\u001b[36m(_RemoteRayXGBoostActor pid=99368)\u001b[0m   File \"/Users/kike/opt/miniconda3/envs/feast_workshop/lib/python3.10/site-packages/ray/util/tracing/tracing_helper.py\", line 462, in _resume_span\n",
      "\u001b[2m\u001b[36m(_RemoteRayXGBoostActor pid=99368)\u001b[0m     return method(self, *_args, **_kwargs)\n",
      "\u001b[2m\u001b[36m(_RemoteRayXGBoostActor pid=99368)\u001b[0m   File \"/Users/kike/opt/miniconda3/envs/feast_workshop/lib/python3.10/site-packages/ray/actor.py\", line 1231, in __ray_terminate__\n",
      "\u001b[2m\u001b[36m(_RemoteRayXGBoostActor pid=99368)\u001b[0m     ray.actor.exit_actor()\n",
      "\u001b[2m\u001b[36m(_RemoteRayXGBoostActor pid=99368)\u001b[0m   File \"/Users/kike/opt/miniconda3/envs/feast_workshop/lib/python3.10/site-packages/ray/actor.py\", line 1282, in exit_actor\n",
      "\u001b[2m\u001b[36m(_RemoteRayXGBoostActor pid=99368)\u001b[0m     ray.worker.disconnect()\n",
      "\u001b[2m\u001b[36m(_RemoteRayXGBoostActor pid=99368)\u001b[0m   File \"/Users/kike/opt/miniconda3/envs/feast_workshop/lib/python3.10/site-packages/ray/worker.py\", line 1697, in disconnect\n",
      "\u001b[2m\u001b[36m(_RemoteRayXGBoostActor pid=99368)\u001b[0m     worker.import_thread.join_import_thread()\n",
      "\u001b[2m\u001b[36m(_RemoteRayXGBoostActor pid=99368)\u001b[0m   File \"/Users/kike/opt/miniconda3/envs/feast_workshop/lib/python3.10/site-packages/ray/_private/import_thread.py\", line 61, in join_import_thread\n",
      "\u001b[2m\u001b[36m(_RemoteRayXGBoostActor pid=99368)\u001b[0m     self.t.join()\n",
      "\u001b[2m\u001b[36m(_RemoteRayXGBoostActor pid=99368)\u001b[0m   File \"/Users/kike/opt/miniconda3/envs/feast_workshop/lib/python3.10/threading.py\", line 1089, in join\n",
      "\u001b[2m\u001b[36m(_RemoteRayXGBoostActor pid=99368)\u001b[0m     self._wait_for_tstate_lock()\n",
      "\u001b[2m\u001b[36m(_RemoteRayXGBoostActor pid=99368)\u001b[0m   File \"/Users/kike/opt/miniconda3/envs/feast_workshop/lib/python3.10/threading.py\", line 1109, in _wait_for_tstate_lock\n",
      "\u001b[2m\u001b[36m(_RemoteRayXGBoostActor pid=99368)\u001b[0m     if lock.acquire(block, timeout):\n",
      "\u001b[2m\u001b[36m(_RemoteRayXGBoostActor pid=99368)\u001b[0m   File \"/Users/kike/opt/miniconda3/envs/feast_workshop/lib/python3.10/site-packages/ray/worker.py\", line 448, in sigterm_handler\n",
      "\u001b[2m\u001b[36m(_RemoteRayXGBoostActor pid=99368)\u001b[0m     sys.exit(1)\n",
      "\u001b[2m\u001b[36m(_RemoteRayXGBoostActor pid=99368)\u001b[0m SystemExit: 1\n",
      "2022-06-15 13:31:11,326\tINFO main.py:1573 -- [RayXGBoost] Starting XGBoost prediction.\n",
      "2022-06-15 13:31:11,916\tINFO main.py:980 -- [RayXGBoost] Created 4 new actors (4 total actors). Waiting until actors are ready for training.\n"
     ]
    },
    {
     "name": "stdout",
     "output_type": "stream",
     "text": [
      " predictions: [0 0 0 ... 0 0 1]\n"
     ]
    },
    {
     "name": "stderr",
     "output_type": "stream",
     "text": [
      "2022-06-15 13:31:14,319\tINFO main.py:1025 -- [RayXGBoost] Starting XGBoost training.\n",
      "\u001b[2m\u001b[36m(_RemoteRayXGBoostActor pid=99403)\u001b[0m [13:31:14] task [xgboost.ray]:140528120196368 got new rank 3\n",
      "\u001b[2m\u001b[36m(_RemoteRayXGBoostActor pid=99401)\u001b[0m [13:31:14] task [xgboost.ray]:140159688371472 got new rank 1\n",
      "\u001b[2m\u001b[36m(_RemoteRayXGBoostActor pid=99400)\u001b[0m [13:31:14] task [xgboost.ray]:140399803657488 got new rank 0\n",
      "\u001b[2m\u001b[36m(_RemoteRayXGBoostActor pid=99402)\u001b[0m [13:31:14] task [xgboost.ray]:140588375731376 got new rank 2\n",
      "2022-06-15 13:31:18,670\tINFO main.py:1516 -- [RayXGBoost] Finished XGBoost training on training data with total N=21,478 in 6.81 seconds (4.35 pure XGBoost training time).\n",
      "2022-06-15 13:31:18,823\tINFO main.py:1556 -- [RayXGBoost] Created 4 remote actors.\n",
      "2022-06-15 13:31:21,281\tINFO main.py:1573 -- [RayXGBoost] Starting XGBoost prediction.\n",
      "2022-06-15 13:31:21,779\tINFO main.py:980 -- [RayXGBoost] Created 4 new actors (4 total actors). Waiting until actors are ready for training.\n"
     ]
    },
    {
     "name": "stdout",
     "output_type": "stream",
     "text": [
      " predictions: [0 0 0 ... 0 0 1]\n"
     ]
    },
    {
     "name": "stderr",
     "output_type": "stream",
     "text": [
      "2022-06-15 13:31:24,287\tINFO main.py:1025 -- [RayXGBoost] Starting XGBoost training.\n",
      "\u001b[2m\u001b[36m(_RemoteRayXGBoostActor pid=99426)\u001b[0m [13:31:24] task [xgboost.ray]:140531074575536 got new rank 0\n",
      "\u001b[2m\u001b[36m(_RemoteRayXGBoostActor pid=99429)\u001b[0m [13:31:24] task [xgboost.ray]:140312163904784 got new rank 3\n",
      "\u001b[2m\u001b[36m(_RemoteRayXGBoostActor pid=99427)\u001b[0m [13:31:24] task [xgboost.ray]:140590396271888 got new rank 1\n",
      "\u001b[2m\u001b[36m(_RemoteRayXGBoostActor pid=99428)\u001b[0m [13:31:24] task [xgboost.ray]:140546636868880 got new rank 2\n",
      "2022-06-15 13:31:28,641\tINFO main.py:1516 -- [RayXGBoost] Finished XGBoost training on training data with total N=21,478 in 6.92 seconds (4.35 pure XGBoost training time).\n",
      "2022-06-15 13:31:28,733\tINFO main.py:1556 -- [RayXGBoost] Created 4 remote actors.\n",
      "2022-06-15 13:31:31,233\tINFO main.py:1573 -- [RayXGBoost] Starting XGBoost prediction.\n",
      "2022-06-15 13:31:31,781\tINFO main.py:980 -- [RayXGBoost] Created 4 new actors (4 total actors). Waiting until actors are ready for training.\n"
     ]
    },
    {
     "name": "stdout",
     "output_type": "stream",
     "text": [
      " predictions: [0 0 0 ... 0 0 1]\n"
     ]
    },
    {
     "name": "stderr",
     "output_type": "stream",
     "text": [
      "2022-06-15 13:31:34,274\tINFO main.py:1025 -- [RayXGBoost] Starting XGBoost training.\n",
      "\u001b[2m\u001b[36m(_RemoteRayXGBoostActor pid=99454)\u001b[0m [13:31:34] task [xgboost.ray]:140395508198672 got new rank 2\n",
      "\u001b[2m\u001b[36m(_RemoteRayXGBoostActor pid=99455)\u001b[0m [13:31:34] task [xgboost.ray]:140161436101808 got new rank 3\n",
      "\u001b[2m\u001b[36m(_RemoteRayXGBoostActor pid=99452)\u001b[0m [13:31:34] task [xgboost.ray]:140453625490704 got new rank 0\n",
      "\u001b[2m\u001b[36m(_RemoteRayXGBoostActor pid=99453)\u001b[0m [13:31:34] task [xgboost.ray]:140495233100976 got new rank 1\n",
      "2022-06-15 13:31:38,634\tINFO main.py:1516 -- [RayXGBoost] Finished XGBoost training on training data with total N=21,478 in 6.91 seconds (4.35 pure XGBoost training time).\n",
      "2022-06-15 13:31:38,703\tINFO main.py:1556 -- [RayXGBoost] Created 4 remote actors.\n",
      "2022-06-15 13:31:41,025\tINFO main.py:1573 -- [RayXGBoost] Starting XGBoost prediction.\n",
      "2022-06-15 13:31:41,649\tINFO main.py:980 -- [RayXGBoost] Created 4 new actors (4 total actors). Waiting until actors are ready for training.\n"
     ]
    },
    {
     "name": "stdout",
     "output_type": "stream",
     "text": [
      " predictions: [0 0 0 ... 0 0 1]\n"
     ]
    },
    {
     "name": "stderr",
     "output_type": "stream",
     "text": [
      "2022-06-15 13:31:44,142\tINFO main.py:1025 -- [RayXGBoost] Starting XGBoost training.\n",
      "\u001b[2m\u001b[36m(_RemoteRayXGBoostActor pid=99489)\u001b[0m [13:31:44] task [xgboost.ray]:140503289556240 got new rank 1\n",
      "\u001b[2m\u001b[36m(_RemoteRayXGBoostActor pid=99490)\u001b[0m [13:31:44] task [xgboost.ray]:140663680003344 got new rank 2\n",
      "\u001b[2m\u001b[36m(_RemoteRayXGBoostActor pid=99488)\u001b[0m [13:31:44] task [xgboost.ray]:140290417650960 got new rank 0\n",
      "\u001b[2m\u001b[36m(_RemoteRayXGBoostActor pid=99491)\u001b[0m [13:31:44] task [xgboost.ray]:140434036026640 got new rank 3\n",
      "2022-06-15 13:31:48,601\tINFO main.py:1516 -- [RayXGBoost] Finished XGBoost training on training data with total N=21,478 in 7.01 seconds (4.45 pure XGBoost training time).\n",
      "2022-06-15 13:31:48,645\tINFO main.py:1556 -- [RayXGBoost] Created 4 remote actors.\n",
      "2022-06-15 13:31:50,925\tINFO main.py:1573 -- [RayXGBoost] Starting XGBoost prediction.\n",
      "2022-06-15 13:31:51,570\tINFO main.py:980 -- [RayXGBoost] Created 4 new actors (4 total actors). Waiting until actors are ready for training.\n"
     ]
    },
    {
     "name": "stdout",
     "output_type": "stream",
     "text": [
      " predictions: [0 0 0 ... 0 0 1]\n"
     ]
    },
    {
     "name": "stderr",
     "output_type": "stream",
     "text": [
      "2022-06-15 13:31:53,948\tINFO main.py:1025 -- [RayXGBoost] Starting XGBoost training.\n",
      "\u001b[2m\u001b[36m(_RemoteRayXGBoostActor pid=99517)\u001b[0m [13:31:53] task [xgboost.ray]:140287864990992 got new rank 1\n",
      "\u001b[2m\u001b[36m(_RemoteRayXGBoostActor pid=99519)\u001b[0m [13:31:53] task [xgboost.ray]:140239283154192 got new rank 3\n",
      "\u001b[2m\u001b[36m(_RemoteRayXGBoostActor pid=99518)\u001b[0m [13:31:53] task [xgboost.ray]:140153782398224 got new rank 2\n",
      "\u001b[2m\u001b[36m(_RemoteRayXGBoostActor pid=99516)\u001b[0m [13:31:53] task [xgboost.ray]:140513626352912 got new rank 0\n",
      "2022-06-15 13:31:58,409\tINFO main.py:1516 -- [RayXGBoost] Finished XGBoost training on training data with total N=21,478 in 6.90 seconds (4.46 pure XGBoost training time).\n",
      "2022-06-15 13:31:58,455\tINFO main.py:1556 -- [RayXGBoost] Created 4 remote actors.\n",
      "2022-06-15 13:32:00,664\tINFO main.py:1573 -- [RayXGBoost] Starting XGBoost prediction.\n"
     ]
    },
    {
     "name": "stdout",
     "output_type": "stream",
     "text": [
      " predictions: [0 0 0 ... 0 0 1]\n",
      "10.2 s ± 458 ms per loop (mean ± std. dev. of 7 runs, 1 loop each)\n"
     ]
    }
   ],
   "source": [
    "%timeit xgboost_cls.train()"
   ]
  },
  {
   "cell_type": "markdown",
   "id": "080ce609-2def-4b27-be36-7cde30da2522",
   "metadata": {},
   "source": [
    "### Define loan requests"
   ]
  },
  {
   "cell_type": "code",
   "execution_count": 6,
   "id": "92e75800-8e23-43cc-bb69-8497591aed3b",
   "metadata": {},
   "outputs": [],
   "source": [
    "loan_requests = [\n",
    "    {\n",
    "        \"zipcode\": [76104],\n",
    "        \"person_age\": [22],\n",
    "        \"person_income\": [59000],\n",
    "        \"person_home_ownership\": [\"RENT\"],\n",
    "        \"person_emp_length\": [123.0],\n",
    "        \"loan_intent\": [\"PERSONAL\"],\n",
    "        \"loan_amnt\": [35000],\n",
    "        \"loan_int_rate\": [16.02],\n",
    "        \"dob_ssn\": [\"19530219_5179\"]\n",
    "    },\n",
    "    {\n",
    "        \"zipcode\": [69033],\n",
    "        \"person_age\": [66],\n",
    "        \"person_income\": [42000],\n",
    "        \"person_home_ownership\": [\"RENT\"],\n",
    "        \"person_emp_length\": [2.0],\n",
    "        \"loan_intent\": [\"MEDICAL\"],\n",
    "        \"loan_amnt\": [6475],\n",
    "        \"loan_int_rate\": [9.99],\n",
    "        \"dob_ssn\": [\"19960703_3449\"]\n",
    "    }\n",
    "]"
   ]
  },
  {
   "cell_type": "markdown",
   "id": "a09c022d-1366-400b-8bb6-0af806bb2d9a",
   "metadata": {},
   "source": [
    "### Predict the loan requests"
   ]
  },
  {
   "cell_type": "code",
   "execution_count": 7,
   "id": "be4e0d69-6aa1-4714-97bf-162107cc5051",
   "metadata": {},
   "outputs": [
    {
     "name": "stderr",
     "output_type": "stream",
     "text": [
      "/Users/kike/opt/miniconda3/envs/feast_workshop/lib/python3.10/site-packages/xgboost_ray/sklearn.py:307: UserWarning: `ray_params` is not `None` and will override the `n_jobs` attribute.\n",
      "  warnings.warn(\"`ray_params` is not `None` and will override \"\n",
      "/Users/kike/opt/miniconda3/envs/feast_workshop/lib/python3.10/site-packages/xgboost_ray/main.py:422: UserWarning: `num_actors` in `ray_params` is smaller than 2 (1). XGBoost will NOT be distributed!\n",
      "  warnings.warn(\n",
      "2022-06-15 13:32:01,337\tINFO main.py:1556 -- [RayXGBoost] Created 1 remote actors.\n",
      "2022-06-15 13:32:03,367\tINFO main.py:1573 -- [RayXGBoost] Starting XGBoost prediction.\n",
      "/Users/kike/opt/miniconda3/envs/feast_workshop/lib/python3.10/site-packages/xgboost_ray/sklearn.py:307: UserWarning: `ray_params` is not `None` and will override the `n_jobs` attribute.\n",
      "  warnings.warn(\"`ray_params` is not `None` and will override \"\n",
      "/Users/kike/opt/miniconda3/envs/feast_workshop/lib/python3.10/site-packages/xgboost_ray/main.py:422: UserWarning: `num_actors` in `ray_params` is smaller than 2 (1). XGBoost will NOT be distributed!\n",
      "  warnings.warn(\n",
      "2022-06-15 13:32:04,136\tINFO main.py:1556 -- [RayXGBoost] Created 1 remote actors.\n"
     ]
    },
    {
     "name": "stdout",
     "output_type": "stream",
     "text": [
      "Loan for 76104 code rejected: status_code=0\n"
     ]
    },
    {
     "name": "stderr",
     "output_type": "stream",
     "text": [
      "2022-06-15 13:32:06,181\tINFO main.py:1573 -- [RayXGBoost] Starting XGBoost prediction.\n"
     ]
    },
    {
     "name": "stdout",
     "output_type": "stream",
     "text": [
      "Loan for 69033 code rejected: status_code=0\n"
     ]
    }
   ],
   "source": [
    "for loan_request in loan_requests:\n",
    "    result = round(xgboost_cls.predict(loan_request))\n",
    "    loan_status = \"approved\" if result == 1 else \"rejected\"\n",
    "    print(f\"Loan for {loan_request['zipcode'][0]} code {loan_status}: status_code={result}\")"
   ]
  }
 ],
 "metadata": {
  "kernelspec": {
   "display_name": "Python 3 (ipykernel)",
   "language": "python",
   "name": "python3"
  },
  "language_info": {
   "codemirror_mode": {
    "name": "ipython",
    "version": 3
   },
   "file_extension": ".py",
   "mimetype": "text/x-python",
   "name": "python",
   "nbconvert_exporter": "python",
   "pygments_lexer": "ipython3",
   "version": "3.10.4"
  }
 },
 "nbformat": 4,
 "nbformat_minor": 5
}
