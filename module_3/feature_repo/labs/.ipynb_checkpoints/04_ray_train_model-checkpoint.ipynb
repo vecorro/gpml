{
 "cells": [
  {
   "cell_type": "markdown",
   "id": "2f3cf39b-f14c-4727-be66-736485fbbe59",
   "metadata": {},
   "source": [
    "## A Credit Scoring Use Case for Loan Approval: Using Distributed Training with Ray and XGBoost and Feast\n",
    "![](images/feast_ray_xgboost.png)"
   ]
  },
  {
   "cell_type": "code",
   "execution_count": 1,
   "id": "d6369a05-35f7-4712-9568-d16536b832ec",
   "metadata": {},
   "outputs": [],
   "source": [
    "import sys\n",
    "sys.path.insert(0, \"../\")"
   ]
  },
  {
   "cell_type": "markdown",
   "id": "82b6b301-b734-42dd-9a45-e9162d84c5bb",
   "metadata": {},
   "source": [
    "### Import General Python libs and modules"
   ]
  },
  {
   "cell_type": "code",
   "execution_count": 2,
   "id": "71368eb6-519a-47dc-a471-21ae750b3bc2",
   "metadata": {},
   "outputs": [],
   "source": [
    "import pandas as pd\n",
    "import numpy as np\n",
    "from pathlib import Path\n",
    "\n",
    "from sklearn.model_selection import train_test_split\n",
    "from sklearn.metrics import accuracy_score\n",
    "from sklearn.preprocessing import OrdinalEncoder\n",
    "from sklearn.metrics import precision_score\n",
    "\n",
    "from xgboost_ray import RayXGBClassifier, RayParams\n",
    "import xgboost as xgb"
   ]
  },
  {
   "cell_type": "markdown",
   "id": "53f63be4-26c9-4e3d-9672-be6420454379",
   "metadata": {},
   "source": [
    "### Import Feast related modules and definitions from feast_repo directories and Ray modules"
   ]
  },
  {
   "cell_type": "code",
   "execution_count": 3,
   "id": "57dd1afe-4917-480d-a068-86d83130d5f9",
   "metadata": {},
   "outputs": [],
   "source": [
    "from feast import FeatureStore\n",
    "from utils.data_fetcher import DataFetcher\n",
    "from queries.ray_train_model import CreditRayXGBClassifier"
   ]
  },
  {
   "cell_type": "markdown",
   "id": "f51f10c5-e617-44b3-91ce-105f4f28e4ad",
   "metadata": {},
   "source": [
    "### Create instances of \n",
    " * feature store\n",
    " * data fetcher utility class\n",
    " * RayXGBoost classifier for distributed training"
   ]
  },
  {
   "cell_type": "code",
   "execution_count": 4,
   "id": "69cf2b84-00cd-4a36-840a-c6df66072fde",
   "metadata": {},
   "outputs": [
    {
     "name": "stderr",
     "output_type": "stream",
     "text": [
      "/usr/local/anaconda3/lib/python3.8/site-packages/ipykernel/ipkernel.py:287: DeprecationWarning: `should_run_async` will not call `transform_cell` automatically in the future. Please pass the result to `transformed_cell` argument and any exception that happen during thetransform in `preprocessing_exc_tuple` in IPython 7.17 and above.\n",
      "  and should_run_async(code)\n"
     ]
    }
   ],
   "source": [
    "# [IMPORTANT] Change this  path to yours git repo\n",
    "REPO_PATH = Path(\"/Users/jules/git-repos/feast_workshops/module_3/feature_repo\")\n",
    "store = FeatureStore(repo_path=REPO_PATH)\n",
    "fetcher = DataFetcher(store, REPO_PATH)\n",
    "xgboost_cls = CreditRayXGBClassifier(store, fetcher)"
   ]
  },
  {
   "cell_type": "markdown",
   "id": "59f6cc60-fcf8-4202-95e7-1c54cddd0daf",
   "metadata": {},
   "source": [
    "### Train the RayXGBoost classifier for distributed training on localhost using a four cores or processes\n",
    "![](images/xgboost_multi_core.png)"
   ]
  },
  {
   "cell_type": "code",
   "execution_count": 5,
   "id": "c7785fe4-6c4c-4397-b660-08178d0d6adb",
   "metadata": {},
   "outputs": [
    {
     "name": "stderr",
     "output_type": "stream",
     "text": [
      "/usr/local/anaconda3/lib/python3.8/site-packages/ipykernel/ipkernel.py:287: DeprecationWarning: `should_run_async` will not call `transform_cell` automatically in the future. Please pass the result to `transformed_cell` argument and any exception that happen during thetransform in `preprocessing_exc_tuple` in IPython 7.17 and above.\n",
      "  and should_run_async(code)\n",
      "/usr/local/anaconda3/lib/python3.8/site-packages/xgboost_ray/sklearn.py:751: UserWarning: The use of label encoder in XGBClassifier is deprecated and will be removed in a future release. To remove this warning, do the following: 1) Pass option use_label_encoder=False when constructing XGBClassifier object; and 2) Encode your labels (y) as integers starting with 0, i.e. 0, 1, 2, ..., [num_class - 1].\n",
      "  warnings.warn(label_encoder_deprecation_msg, UserWarning)\n",
      "2021-10-06 16:49:14,861\tINFO services.py:1263 -- View the Ray dashboard at \u001b[1m\u001b[32mhttp://127.0.0.1:8265\u001b[39m\u001b[22m\n",
      "2021-10-06 16:49:16,246\tINFO main.py:913 -- [RayXGBoost] Created 4 new actors (4 total actors). Waiting until actors are ready for training.\n",
      "2021-10-06 16:49:17,804\tINFO main.py:958 -- [RayXGBoost] Starting XGBoost training.\n",
      "10/06/2021 04:49:17 PM INFO:start listen on 10.103.119.204:9091\n",
      "10/06/2021 04:49:17 PM INFO:@tracker All of 4 nodes getting started\n",
      "\u001b[2m\u001b[36m(pid=20482)\u001b[0m [16:49:17] task [xgboost.ray]:140665686766496 got new rank 0\n",
      "\u001b[2m\u001b[36m(pid=20480)\u001b[0m [16:49:17] task [xgboost.ray]:140491070607856 got new rank 1\n",
      "\u001b[2m\u001b[36m(pid=20481)\u001b[0m [16:49:17] task [xgboost.ray]:140408662352368 got new rank 3\n",
      "\u001b[2m\u001b[36m(pid=20479)\u001b[0m [16:49:17] task [xgboost.ray]:140430940967408 got new rank 2\n",
      "\u001b[2m\u001b[36m(pid=20482)\u001b[0m [16:49:17] WARNING: /Users/travis/build/dmlc/xgboost/src/learner.cc:1095: Starting in XGBoost 1.3.0, the default evaluation metric used with the objective 'binary:logistic' was changed from 'error' to 'logloss'. Explicitly set eval_metric if you'd like to restore the old behavior.\n",
      "\u001b[2m\u001b[36m(pid=20480)\u001b[0m [16:49:17] WARNING: /Users/travis/build/dmlc/xgboost/src/learner.cc:1095: Starting in XGBoost 1.3.0, the default evaluation metric used with the objective 'binary:logistic' was changed from 'error' to 'logloss'. Explicitly set eval_metric if you'd like to restore the old behavior.\n",
      "\u001b[2m\u001b[36m(pid=20481)\u001b[0m [16:49:17] WARNING: /Users/travis/build/dmlc/xgboost/src/learner.cc:1095: Starting in XGBoost 1.3.0, the default evaluation metric used with the objective 'binary:logistic' was changed from 'error' to 'logloss'. Explicitly set eval_metric if you'd like to restore the old behavior.\n",
      "\u001b[2m\u001b[36m(pid=20479)\u001b[0m [16:49:17] WARNING: /Users/travis/build/dmlc/xgboost/src/learner.cc:1095: Starting in XGBoost 1.3.0, the default evaluation metric used with the objective 'binary:logistic' was changed from 'error' to 'logloss'. Explicitly set eval_metric if you'd like to restore the old behavior.\n",
      "10/06/2021 04:49:20 PM INFO:@tracker All nodes finishes job\n",
      "10/06/2021 04:49:20 PM INFO:@tracker 2.705364942550659 secs between node start and job finish\n",
      "2021-10-06 16:49:20,672\tINFO main.py:1436 -- [RayXGBoost] Finished XGBoost training on training data with total N=21,478 in 4.52 seconds (2.86 pure XGBoost training time).\n",
      "2021-10-06 16:49:20,696\tINFO main.py:1476 -- [RayXGBoost] Created 4 remote actors.\n",
      "2021-10-06 16:49:22,208\tINFO main.py:1493 -- [RayXGBoost] Starting XGBoost prediction.\n"
     ]
    },
    {
     "name": "stdout",
     "output_type": "stream",
     "text": [
      " predictions: [0 0 0 ... 0 0 0]\n"
     ]
    },
    {
     "name": "stderr",
     "output_type": "stream",
     "text": [
      "2021-10-06 16:49:23,026\tINFO main.py:913 -- [RayXGBoost] Created 4 new actors (4 total actors). Waiting until actors are ready for training.\n",
      "2021-10-06 16:49:24,975\tINFO main.py:958 -- [RayXGBoost] Starting XGBoost training.\n",
      "10/06/2021 04:49:24 PM INFO:start listen on 10.103.119.204:9091\n",
      "10/06/2021 04:49:25 PM INFO:@tracker All of 4 nodes getting started\n",
      "\u001b[2m\u001b[36m(pid=20501)\u001b[0m [16:49:25] task [xgboost.ray]:140682196136768 got new rank 0\n",
      "\u001b[2m\u001b[36m(pid=20503)\u001b[0m [16:49:25] task [xgboost.ray]:140645289611712 got new rank 1\n",
      "\u001b[2m\u001b[36m(pid=20505)\u001b[0m [16:49:25] task [xgboost.ray]:140184385212864 got new rank 3\n",
      "\u001b[2m\u001b[36m(pid=20504)\u001b[0m [16:49:25] task [xgboost.ray]:140475101405632 got new rank 2\n",
      "\u001b[2m\u001b[36m(pid=20501)\u001b[0m [16:49:25] WARNING: /Users/travis/build/dmlc/xgboost/src/learner.cc:1095: Starting in XGBoost 1.3.0, the default evaluation metric used with the objective 'binary:logistic' was changed from 'error' to 'logloss'. Explicitly set eval_metric if you'd like to restore the old behavior.\n",
      "\u001b[2m\u001b[36m(pid=20503)\u001b[0m [16:49:25] WARNING: /Users/travis/build/dmlc/xgboost/src/learner.cc:1095: Starting in XGBoost 1.3.0, the default evaluation metric used with the objective 'binary:logistic' was changed from 'error' to 'logloss'. Explicitly set eval_metric if you'd like to restore the old behavior.\n",
      "\u001b[2m\u001b[36m(pid=20505)\u001b[0m [16:49:25] WARNING: /Users/travis/build/dmlc/xgboost/src/learner.cc:1095: Starting in XGBoost 1.3.0, the default evaluation metric used with the objective 'binary:logistic' was changed from 'error' to 'logloss'. Explicitly set eval_metric if you'd like to restore the old behavior.\n",
      "\u001b[2m\u001b[36m(pid=20504)\u001b[0m [16:49:25] WARNING: /Users/travis/build/dmlc/xgboost/src/learner.cc:1095: Starting in XGBoost 1.3.0, the default evaluation metric used with the objective 'binary:logistic' was changed from 'error' to 'logloss'. Explicitly set eval_metric if you'd like to restore the old behavior.\n",
      "10/06/2021 04:49:27 PM INFO:@tracker All nodes finishes job\n",
      "10/06/2021 04:49:27 PM INFO:@tracker 2.773092746734619 secs between node start and job finish\n",
      "2021-10-06 16:49:27,925\tINFO main.py:1436 -- [RayXGBoost] Finished XGBoost training on training data with total N=21,478 in 5.65 seconds (2.94 pure XGBoost training time).\n",
      "2021-10-06 16:49:27,942\tINFO main.py:1476 -- [RayXGBoost] Created 4 remote actors.\n",
      "2021-10-06 16:49:29,952\tINFO main.py:1493 -- [RayXGBoost] Starting XGBoost prediction.\n"
     ]
    },
    {
     "name": "stdout",
     "output_type": "stream",
     "text": [
      " predictions: [0 0 0 ... 0 0 0]\n"
     ]
    },
    {
     "name": "stderr",
     "output_type": "stream",
     "text": [
      "2021-10-06 16:49:30,752\tINFO main.py:913 -- [RayXGBoost] Created 4 new actors (4 total actors). Waiting until actors are ready for training.\n",
      "2021-10-06 16:49:32,709\tINFO main.py:958 -- [RayXGBoost] Starting XGBoost training.\n",
      "10/06/2021 04:49:32 PM INFO:start listen on 10.103.119.204:9091\n",
      "10/06/2021 04:49:32 PM INFO:@tracker All of 4 nodes getting started\n",
      "\u001b[2m\u001b[36m(pid=20572)\u001b[0m [16:49:32] task [xgboost.ray]:140464899408704 got new rank 0\n",
      "\u001b[2m\u001b[36m(pid=20572)\u001b[0m [16:49:32] WARNING: /Users/travis/build/dmlc/xgboost/src/learner.cc:1095: Starting in XGBoost 1.3.0, the default evaluation metric used with the objective 'binary:logistic' was changed from 'error' to 'logloss'. Explicitly set eval_metric if you'd like to restore the old behavior.\n",
      "\u001b[2m\u001b[36m(pid=20578)\u001b[0m [16:49:32] task [xgboost.ray]:140290149634496 got new rank 3\n",
      "\u001b[2m\u001b[36m(pid=20578)\u001b[0m [16:49:32] WARNING: /Users/travis/build/dmlc/xgboost/src/learner.cc:1095: Starting in XGBoost 1.3.0, the default evaluation metric used with the objective 'binary:logistic' was changed from 'error' to 'logloss'. Explicitly set eval_metric if you'd like to restore the old behavior.\n",
      "\u001b[2m\u001b[36m(pid=20576)\u001b[0m [16:49:32] task [xgboost.ray]:140695356006848 got new rank 1\n",
      "\u001b[2m\u001b[36m(pid=20576)\u001b[0m [16:49:32] WARNING: /Users/travis/build/dmlc/xgboost/src/learner.cc:1095: Starting in XGBoost 1.3.0, the default evaluation metric used with the objective 'binary:logistic' was changed from 'error' to 'logloss'. Explicitly set eval_metric if you'd like to restore the old behavior.\n",
      "\u001b[2m\u001b[36m(pid=20577)\u001b[0m [16:49:32] task [xgboost.ray]:140650929426880 got new rank 2\n",
      "\u001b[2m\u001b[36m(pid=20577)\u001b[0m [16:49:32] WARNING: /Users/travis/build/dmlc/xgboost/src/learner.cc:1095: Starting in XGBoost 1.3.0, the default evaluation metric used with the objective 'binary:logistic' was changed from 'error' to 'logloss'. Explicitly set eval_metric if you'd like to restore the old behavior.\n",
      "10/06/2021 04:49:35 PM INFO:@tracker All nodes finishes job\n",
      "10/06/2021 04:49:35 PM INFO:@tracker 2.6528408527374268 secs between node start and job finish\n",
      "2021-10-06 16:49:35,586\tINFO main.py:1436 -- [RayXGBoost] Finished XGBoost training on training data with total N=21,478 in 5.57 seconds (2.87 pure XGBoost training time).\n",
      "2021-10-06 16:49:35,605\tINFO main.py:1476 -- [RayXGBoost] Created 4 remote actors.\n",
      "2021-10-06 16:49:37,750\tINFO main.py:1493 -- [RayXGBoost] Starting XGBoost prediction.\n"
     ]
    },
    {
     "name": "stdout",
     "output_type": "stream",
     "text": [
      " predictions: [0 0 0 ... 0 0 0]\n"
     ]
    },
    {
     "name": "stderr",
     "output_type": "stream",
     "text": [
      "2021-10-06 16:49:38,532\tINFO main.py:913 -- [RayXGBoost] Created 4 new actors (4 total actors). Waiting until actors are ready for training.\n",
      "2021-10-06 16:49:40,496\tINFO main.py:958 -- [RayXGBoost] Starting XGBoost training.\n",
      "10/06/2021 04:49:40 PM INFO:start listen on 10.103.119.204:9091\n",
      "10/06/2021 04:49:40 PM INFO:@tracker All of 4 nodes getting started\n",
      "\u001b[2m\u001b[36m(pid=20626)\u001b[0m [16:49:40] task [xgboost.ray]:140431749460800 got new rank 0\n",
      "\u001b[2m\u001b[36m(pid=20626)\u001b[0m [16:49:40] WARNING: /Users/travis/build/dmlc/xgboost/src/learner.cc:1095: Starting in XGBoost 1.3.0, the default evaluation metric used with the objective 'binary:logistic' was changed from 'error' to 'logloss'. Explicitly set eval_metric if you'd like to restore the old behavior.\n",
      "\u001b[2m\u001b[36m(pid=20631)\u001b[0m [16:49:40] task [xgboost.ray]:140578591039936 got new rank 2\n",
      "\u001b[2m\u001b[36m(pid=20631)\u001b[0m [16:49:40] WARNING: /Users/travis/build/dmlc/xgboost/src/learner.cc:1095: Starting in XGBoost 1.3.0, the default evaluation metric used with the objective 'binary:logistic' was changed from 'error' to 'logloss'. Explicitly set eval_metric if you'd like to restore the old behavior.\n",
      "\u001b[2m\u001b[36m(pid=20630)\u001b[0m [16:49:40] task [xgboost.ray]:140655353405888 got new rank 1\n",
      "\u001b[2m\u001b[36m(pid=20630)\u001b[0m [16:49:40] WARNING: /Users/travis/build/dmlc/xgboost/src/learner.cc:1095: Starting in XGBoost 1.3.0, the default evaluation metric used with the objective 'binary:logistic' was changed from 'error' to 'logloss'. Explicitly set eval_metric if you'd like to restore the old behavior.\n",
      "\u001b[2m\u001b[36m(pid=20632)\u001b[0m [16:49:40] task [xgboost.ray]:140238347817408 got new rank 3\n",
      "\u001b[2m\u001b[36m(pid=20632)\u001b[0m [16:49:40] WARNING: /Users/travis/build/dmlc/xgboost/src/learner.cc:1095: Starting in XGBoost 1.3.0, the default evaluation metric used with the objective 'binary:logistic' was changed from 'error' to 'logloss'. Explicitly set eval_metric if you'd like to restore the old behavior.\n",
      "10/06/2021 04:49:43 PM INFO:@tracker All nodes finishes job\n",
      "10/06/2021 04:49:43 PM INFO:@tracker 2.5848920345306396 secs between node start and job finish\n",
      "2021-10-06 16:49:43,247\tINFO main.py:1436 -- [RayXGBoost] Finished XGBoost training on training data with total N=21,478 in 5.43 seconds (2.75 pure XGBoost training time).\n",
      "2021-10-06 16:49:43,265\tINFO main.py:1476 -- [RayXGBoost] Created 4 remote actors.\n",
      "2021-10-06 16:49:45,339\tINFO main.py:1493 -- [RayXGBoost] Starting XGBoost prediction.\n"
     ]
    },
    {
     "name": "stdout",
     "output_type": "stream",
     "text": [
      " predictions: [0 0 0 ... 0 0 0]\n"
     ]
    },
    {
     "name": "stderr",
     "output_type": "stream",
     "text": [
      "2021-10-06 16:49:46,160\tINFO main.py:913 -- [RayXGBoost] Created 4 new actors (4 total actors). Waiting until actors are ready for training.\n",
      "2021-10-06 16:49:48,022\tINFO main.py:958 -- [RayXGBoost] Starting XGBoost training.\n",
      "10/06/2021 04:49:48 PM INFO:start listen on 10.103.119.204:9091\n",
      "10/06/2021 04:49:48 PM INFO:@tracker All of 4 nodes getting started\n",
      "\u001b[2m\u001b[36m(pid=20647)\u001b[0m [16:49:48] task [xgboost.ray]:140383301813056 got new rank 0\n",
      "\u001b[2m\u001b[36m(pid=20651)\u001b[0m [16:49:48] task [xgboost.ray]:140362895643072 got new rank 1\n",
      "\u001b[2m\u001b[36m(pid=20653)\u001b[0m [16:49:48] task [xgboost.ray]:140674280427968 got new rank 3\n",
      "\u001b[2m\u001b[36m(pid=20652)\u001b[0m [16:49:48] task [xgboost.ray]:140326119985600 got new rank 2\n",
      "\u001b[2m\u001b[36m(pid=20647)\u001b[0m [16:49:48] WARNING: /Users/travis/build/dmlc/xgboost/src/learner.cc:1095: Starting in XGBoost 1.3.0, the default evaluation metric used with the objective 'binary:logistic' was changed from 'error' to 'logloss'. Explicitly set eval_metric if you'd like to restore the old behavior.\n",
      "\u001b[2m\u001b[36m(pid=20651)\u001b[0m [16:49:48] WARNING: /Users/travis/build/dmlc/xgboost/src/learner.cc:1095: Starting in XGBoost 1.3.0, the default evaluation metric used with the objective 'binary:logistic' was changed from 'error' to 'logloss'. Explicitly set eval_metric if you'd like to restore the old behavior.\n",
      "\u001b[2m\u001b[36m(pid=20653)\u001b[0m [16:49:48] WARNING: /Users/travis/build/dmlc/xgboost/src/learner.cc:1095: Starting in XGBoost 1.3.0, the default evaluation metric used with the objective 'binary:logistic' was changed from 'error' to 'logloss'. Explicitly set eval_metric if you'd like to restore the old behavior.\n",
      "\u001b[2m\u001b[36m(pid=20652)\u001b[0m [16:49:48] WARNING: /Users/travis/build/dmlc/xgboost/src/learner.cc:1095: Starting in XGBoost 1.3.0, the default evaluation metric used with the objective 'binary:logistic' was changed from 'error' to 'logloss'. Explicitly set eval_metric if you'd like to restore the old behavior.\n",
      "10/06/2021 04:49:50 PM INFO:@tracker All nodes finishes job\n",
      "10/06/2021 04:49:50 PM INFO:@tracker 2.5950119495391846 secs between node start and job finish\n",
      "2021-10-06 16:49:50,777\tINFO main.py:1436 -- [RayXGBoost] Finished XGBoost training on training data with total N=21,478 in 5.35 seconds (2.75 pure XGBoost training time).\n",
      "2021-10-06 16:49:50,793\tINFO main.py:1476 -- [RayXGBoost] Created 4 remote actors.\n",
      "2021-10-06 16:49:52,836\tINFO main.py:1493 -- [RayXGBoost] Starting XGBoost prediction.\n"
     ]
    },
    {
     "name": "stdout",
     "output_type": "stream",
     "text": [
      " predictions: [0 0 0 ... 0 0 0]\n"
     ]
    },
    {
     "name": "stderr",
     "output_type": "stream",
     "text": [
      "2021-10-06 16:49:53,689\tINFO main.py:913 -- [RayXGBoost] Created 4 new actors (4 total actors). Waiting until actors are ready for training.\n",
      "2021-10-06 16:49:55,656\tINFO main.py:958 -- [RayXGBoost] Starting XGBoost training.\n",
      "10/06/2021 04:49:55 PM INFO:start listen on 10.103.119.204:9091\n",
      "10/06/2021 04:49:55 PM INFO:@tracker All of 4 nodes getting started\n",
      "\u001b[2m\u001b[36m(pid=20668)\u001b[0m [16:49:55] task [xgboost.ray]:140522884707136 got new rank 0\n",
      "\u001b[2m\u001b[36m(pid=20674)\u001b[0m [16:49:55] task [xgboost.ray]:140352026829248 got new rank 3\n",
      "\u001b[2m\u001b[36m(pid=20674)\u001b[0m [16:49:55] WARNING: /Users/travis/build/dmlc/xgboost/src/learner.cc:1095: Starting in XGBoost 1.3.0, the default evaluation metric used with the objective 'binary:logistic' was changed from 'error' to 'logloss'. Explicitly set eval_metric if you'd like to restore the old behavior.\n",
      "\u001b[2m\u001b[36m(pid=20673)\u001b[0m [16:49:55] task [xgboost.ray]:140646631760320 got new rank 2\n",
      "\u001b[2m\u001b[36m(pid=20673)\u001b[0m [16:49:55] WARNING: /Users/travis/build/dmlc/xgboost/src/learner.cc:1095: Starting in XGBoost 1.3.0, the default evaluation metric used with the objective 'binary:logistic' was changed from 'error' to 'logloss'. Explicitly set eval_metric if you'd like to restore the old behavior.\n",
      "\u001b[2m\u001b[36m(pid=20672)\u001b[0m [16:49:55] task [xgboost.ray]:140437393039808 got new rank 1\n",
      "\u001b[2m\u001b[36m(pid=20672)\u001b[0m [16:49:55] WARNING: /Users/travis/build/dmlc/xgboost/src/learner.cc:1095: Starting in XGBoost 1.3.0, the default evaluation metric used with the objective 'binary:logistic' was changed from 'error' to 'logloss'. Explicitly set eval_metric if you'd like to restore the old behavior.\n",
      "\u001b[2m\u001b[36m(pid=20668)\u001b[0m [16:49:55] WARNING: /Users/travis/build/dmlc/xgboost/src/learner.cc:1095: Starting in XGBoost 1.3.0, the default evaluation metric used with the objective 'binary:logistic' was changed from 'error' to 'logloss'. Explicitly set eval_metric if you'd like to restore the old behavior.\n",
      "10/06/2021 04:49:58 PM INFO:@tracker All nodes finishes job\n",
      "10/06/2021 04:49:58 PM INFO:@tracker 2.6412999629974365 secs between node start and job finish\n",
      "2021-10-06 16:49:58,500\tINFO main.py:1436 -- [RayXGBoost] Finished XGBoost training on training data with total N=21,478 in 5.60 seconds (2.84 pure XGBoost training time).\n",
      "2021-10-06 16:49:58,519\tINFO main.py:1476 -- [RayXGBoost] Created 4 remote actors.\n",
      "2021-10-06 16:50:00,543\tINFO main.py:1493 -- [RayXGBoost] Starting XGBoost prediction.\n"
     ]
    },
    {
     "name": "stdout",
     "output_type": "stream",
     "text": [
      " predictions: [0 0 0 ... 0 0 0]\n"
     ]
    },
    {
     "name": "stderr",
     "output_type": "stream",
     "text": [
      "2021-10-06 16:50:01,326\tINFO main.py:913 -- [RayXGBoost] Created 4 new actors (4 total actors). Waiting until actors are ready for training.\n",
      "2021-10-06 16:50:03,286\tINFO main.py:958 -- [RayXGBoost] Starting XGBoost training.\n",
      "10/06/2021 04:50:03 PM INFO:start listen on 10.103.119.204:9091\n",
      "10/06/2021 04:50:03 PM INFO:@tracker All of 4 nodes getting started\n",
      "\u001b[2m\u001b[36m(pid=20689)\u001b[0m [16:50:03] task [xgboost.ray]:140378199475008 got new rank 0\n",
      "\u001b[2m\u001b[36m(pid=20689)\u001b[0m [16:50:03] WARNING: /Users/travis/build/dmlc/xgboost/src/learner.cc:1095: Starting in XGBoost 1.3.0, the default evaluation metric used with the objective 'binary:logistic' was changed from 'error' to 'logloss'. Explicitly set eval_metric if you'd like to restore the old behavior.\n",
      "\u001b[2m\u001b[36m(pid=20695)\u001b[0m [16:50:03] task [xgboost.ray]:140581406200256 got new rank 3\n",
      "\u001b[2m\u001b[36m(pid=20695)\u001b[0m [16:50:03] WARNING: /Users/travis/build/dmlc/xgboost/src/learner.cc:1095: Starting in XGBoost 1.3.0, the default evaluation metric used with the objective 'binary:logistic' was changed from 'error' to 'logloss'. Explicitly set eval_metric if you'd like to restore the old behavior.\n",
      "\u001b[2m\u001b[36m(pid=20694)\u001b[0m [16:50:03] task [xgboost.ray]:140669850960320 got new rank 2\n",
      "\u001b[2m\u001b[36m(pid=20694)\u001b[0m [16:50:03] WARNING: /Users/travis/build/dmlc/xgboost/src/learner.cc:1095: Starting in XGBoost 1.3.0, the default evaluation metric used with the objective 'binary:logistic' was changed from 'error' to 'logloss'. Explicitly set eval_metric if you'd like to restore the old behavior.\n",
      "\u001b[2m\u001b[36m(pid=20693)\u001b[0m [16:50:03] task [xgboost.ray]:140316589199808 got new rank 1\n",
      "\u001b[2m\u001b[36m(pid=20693)\u001b[0m [16:50:03] WARNING: /Users/travis/build/dmlc/xgboost/src/learner.cc:1095: Starting in XGBoost 1.3.0, the default evaluation metric used with the objective 'binary:logistic' was changed from 'error' to 'logloss'. Explicitly set eval_metric if you'd like to restore the old behavior.\n",
      "10/06/2021 04:50:05 PM INFO:@tracker All nodes finishes job\n",
      "10/06/2021 04:50:05 PM INFO:@tracker 2.662182092666626 secs between node start and job finish\n",
      "2021-10-06 16:50:06,151\tINFO main.py:1436 -- [RayXGBoost] Finished XGBoost training on training data with total N=21,478 in 5.54 seconds (2.86 pure XGBoost training time).\n",
      "2021-10-06 16:50:06,168\tINFO main.py:1476 -- [RayXGBoost] Created 4 remote actors.\n",
      "2021-10-06 16:50:08,210\tINFO main.py:1493 -- [RayXGBoost] Starting XGBoost prediction.\n"
     ]
    },
    {
     "name": "stdout",
     "output_type": "stream",
     "text": [
      " predictions: [0 0 0 ... 0 0 0]\n"
     ]
    },
    {
     "name": "stderr",
     "output_type": "stream",
     "text": [
      "2021-10-06 16:50:09,027\tINFO main.py:913 -- [RayXGBoost] Created 4 new actors (4 total actors). Waiting until actors are ready for training.\n",
      "2021-10-06 16:50:10,990\tINFO main.py:958 -- [RayXGBoost] Starting XGBoost training.\n",
      "10/06/2021 04:50:10 PM INFO:start listen on 10.103.119.204:9091\n",
      "10/06/2021 04:50:11 PM INFO:@tracker All of 4 nodes getting started\n",
      "\u001b[2m\u001b[36m(pid=20710)\u001b[0m [16:50:11] task [xgboost.ray]:140500464325440 got new rank 0\n",
      "\u001b[2m\u001b[36m(pid=20710)\u001b[0m [16:50:11] WARNING: /Users/travis/build/dmlc/xgboost/src/learner.cc:1095: Starting in XGBoost 1.3.0, the default evaluation metric used with the objective 'binary:logistic' was changed from 'error' to 'logloss'. Explicitly set eval_metric if you'd like to restore the old behavior.\n",
      "\u001b[2m\u001b[36m(pid=20714)\u001b[0m [16:50:11] task [xgboost.ray]:140456444678592 got new rank 1\n",
      "\u001b[2m\u001b[36m(pid=20714)\u001b[0m [16:50:11] WARNING: /Users/travis/build/dmlc/xgboost/src/learner.cc:1095: Starting in XGBoost 1.3.0, the default evaluation metric used with the objective 'binary:logistic' was changed from 'error' to 'logloss'. Explicitly set eval_metric if you'd like to restore the old behavior.\n",
      "\u001b[2m\u001b[36m(pid=20716)\u001b[0m [16:50:11] task [xgboost.ray]:140614552637888 got new rank 3\n",
      "\u001b[2m\u001b[36m(pid=20716)\u001b[0m [16:50:11] WARNING: /Users/travis/build/dmlc/xgboost/src/learner.cc:1095: Starting in XGBoost 1.3.0, the default evaluation metric used with the objective 'binary:logistic' was changed from 'error' to 'logloss'. Explicitly set eval_metric if you'd like to restore the old behavior.\n",
      "\u001b[2m\u001b[36m(pid=20715)\u001b[0m [16:50:11] task [xgboost.ray]:140669322121664 got new rank 2\n",
      "\u001b[2m\u001b[36m(pid=20715)\u001b[0m [16:50:11] WARNING: /Users/travis/build/dmlc/xgboost/src/learner.cc:1095: Starting in XGBoost 1.3.0, the default evaluation metric used with the objective 'binary:logistic' was changed from 'error' to 'logloss'. Explicitly set eval_metric if you'd like to restore the old behavior.\n",
      "10/06/2021 04:50:14 PM INFO:@tracker All nodes finishes job\n",
      "10/06/2021 04:50:14 PM INFO:@tracker 3.109935760498047 secs between node start and job finish\n",
      "2021-10-06 16:50:14,304\tINFO main.py:1436 -- [RayXGBoost] Finished XGBoost training on training data with total N=21,478 in 6.03 seconds (3.31 pure XGBoost training time).\n",
      "2021-10-06 16:50:14,341\tINFO main.py:1476 -- [RayXGBoost] Created 4 remote actors.\n",
      "2021-10-06 16:50:16,319\tINFO main.py:1493 -- [RayXGBoost] Starting XGBoost prediction.\n"
     ]
    },
    {
     "name": "stdout",
     "output_type": "stream",
     "text": [
      " predictions: [0 0 0 ... 0 0 0]\n",
      "7.73 s ± 182 ms per loop (mean ± std. dev. of 7 runs, 1 loop each)\n"
     ]
    }
   ],
   "source": [
    "%timeit xgboost_cls.train()"
   ]
  },
  {
   "cell_type": "markdown",
   "id": "080ce609-2def-4b27-be36-7cde30da2522",
   "metadata": {},
   "source": [
    "### Define loan requests"
   ]
  },
  {
   "cell_type": "code",
   "execution_count": 6,
   "id": "92e75800-8e23-43cc-bb69-8497591aed3b",
   "metadata": {},
   "outputs": [],
   "source": [
    "loan_requests = [\n",
    "    {\n",
    "        \"zipcode\": [76104],\n",
    "        \"person_age\": [22],\n",
    "        \"person_income\": [59000],\n",
    "        \"person_home_ownership\": [\"RENT\"],\n",
    "        \"person_emp_length\": [123.0],\n",
    "        \"loan_intent\": [\"PERSONAL\"],\n",
    "        \"loan_amnt\": [35000],\n",
    "        \"loan_int_rate\": [16.02],\n",
    "        \"dob_ssn\": [\"19530219_5179\"]\n",
    "    },\n",
    "    {\n",
    "        \"zipcode\": [69033],\n",
    "        \"person_age\": [66],\n",
    "        \"person_income\": [42000],\n",
    "        \"person_home_ownership\": [\"RENT\"],\n",
    "        \"person_emp_length\": [2.0],\n",
    "        \"loan_intent\": [\"MEDICAL\"],\n",
    "        \"loan_amnt\": [6475],\n",
    "        \"loan_int_rate\": [9.99],\n",
    "        \"dob_ssn\": [\"19960703_3449\"]\n",
    "    }\n",
    "]"
   ]
  },
  {
   "cell_type": "markdown",
   "id": "a09c022d-1366-400b-8bb6-0af806bb2d9a",
   "metadata": {},
   "source": [
    "### Predict the loan requests"
   ]
  },
  {
   "cell_type": "code",
   "execution_count": 7,
   "id": "be4e0d69-6aa1-4714-97bf-162107cc5051",
   "metadata": {},
   "outputs": [
    {
     "name": "stderr",
     "output_type": "stream",
     "text": [
      "/usr/local/anaconda3/lib/python3.8/site-packages/xgboost_ray/sklearn.py:294: UserWarning: `ray_params` is not `None` and will override the `n_jobs` attribute.\n",
      "  warnings.warn(\"`ray_params` is not `None` and will override \"\n",
      "/usr/local/anaconda3/lib/python3.8/site-packages/xgboost_ray/main.py:364: UserWarning: `num_actors` in `ray_params` is smaller than 2 (1). XGBoost will NOT be distributed!\n",
      "  warnings.warn(\n",
      "2021-10-06 16:50:37,918\tINFO main.py:1476 -- [RayXGBoost] Created 1 remote actors.\n",
      "2021-10-06 16:50:39,700\tINFO main.py:1493 -- [RayXGBoost] Starting XGBoost prediction.\n",
      "/usr/local/anaconda3/lib/python3.8/site-packages/xgboost_ray/sklearn.py:294: UserWarning: `ray_params` is not `None` and will override the `n_jobs` attribute.\n",
      "  warnings.warn(\"`ray_params` is not `None` and will override \"\n",
      "/usr/local/anaconda3/lib/python3.8/site-packages/xgboost_ray/main.py:364: UserWarning: `num_actors` in `ray_params` is smaller than 2 (1). XGBoost will NOT be distributed!\n",
      "  warnings.warn(\n",
      "2021-10-06 16:50:39,752\tINFO main.py:1476 -- [RayXGBoost] Created 1 remote actors.\n"
     ]
    },
    {
     "name": "stdout",
     "output_type": "stream",
     "text": [
      "Loan for 76104 code approved: status_code=1\n"
     ]
    },
    {
     "name": "stderr",
     "output_type": "stream",
     "text": [
      "2021-10-06 16:50:41,500\tINFO main.py:1493 -- [RayXGBoost] Starting XGBoost prediction.\n"
     ]
    },
    {
     "name": "stdout",
     "output_type": "stream",
     "text": [
      "Loan for 69033 code rejected: status_code=0\n"
     ]
    }
   ],
   "source": [
    "for loan_request in loan_requests:\n",
    "    result = round(xgboost_cls.predict(loan_request))\n",
    "    loan_status = \"approved\" if result == 1 else \"rejected\"\n",
    "    print(f\"Loan for {loan_request['zipcode'][0]} code {loan_status}: status_code={result}\")"
   ]
  }
 ],
 "metadata": {
  "kernelspec": {
   "display_name": "Python 3",
   "language": "python",
   "name": "python3"
  },
  "language_info": {
   "codemirror_mode": {
    "name": "ipython",
    "version": 3
   },
   "file_extension": ".py",
   "mimetype": "text/x-python",
   "name": "python",
   "nbconvert_exporter": "python",
   "pygments_lexer": "ipython3",
   "version": "3.8.8"
  }
 },
 "nbformat": 4,
 "nbformat_minor": 5
}
