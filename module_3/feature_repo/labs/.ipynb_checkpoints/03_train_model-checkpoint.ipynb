{
 "cells": [
  {
   "cell_type": "markdown",
   "id": "cd1f86d9-c97a-4309-9756-184c2e8b01f4",
   "metadata": {},
   "source": [
    "## A Credit Scoring Use Case for Loan Approval: Using XGBoost and Feast\n",
    "![](images/feast_xgboost.png)"
   ]
  },
  {
   "cell_type": "code",
   "execution_count": 3,
   "id": "bea3fcf4-9476-4b93-a033-db9837d13d1d",
   "metadata": {},
   "outputs": [
    {
     "name": "stderr",
     "output_type": "stream",
     "text": [
      "/usr/local/anaconda3/lib/python3.8/site-packages/ipykernel/ipkernel.py:287: DeprecationWarning: `should_run_async` will not call `transform_cell` automatically in the future. Please pass the result to `transformed_cell` argument and any exception that happen during thetransform in `preprocessing_exc_tuple` in IPython 7.17 and above.\n",
      "  and should_run_async(code)\n"
     ]
    }
   ],
   "source": [
    "import sys\n",
    "sys.path.insert(0, \"../\")"
   ]
  },
  {
   "cell_type": "markdown",
   "id": "e240f774-41a9-4fbb-8eb5-9ad28f8e23db",
   "metadata": {},
   "source": [
    "### Import General Python libs and modules"
   ]
  },
  {
   "cell_type": "code",
   "execution_count": 4,
   "id": "23fff6f0-ec91-4e31-82a6-db17994ebbb2",
   "metadata": {},
   "outputs": [],
   "source": [
    "import pandas as pd\n",
    "import time\n",
    "import numpy as np\n",
    "from pathlib import Path\n",
    "\n",
    "from sklearn.model_selection import train_test_split\n",
    "from sklearn.metrics import accuracy_score\n",
    "from sklearn.preprocessing import OrdinalEncoder\n",
    "from sklearn.metrics import precision_score\n",
    "\n",
    "import xgboost as xgb"
   ]
  },
  {
   "cell_type": "markdown",
   "id": "590f2ca5-b698-422f-bd80-4db35d4b586e",
   "metadata": {},
   "source": [
    "### Import Feast related modules and definitions from feast_repo directories"
   ]
  },
  {
   "cell_type": "code",
   "execution_count": 5,
   "id": "088bda85-f750-4443-b762-c37d7737a187",
   "metadata": {},
   "outputs": [
    {
     "name": "stderr",
     "output_type": "stream",
     "text": [
      "/usr/local/anaconda3/lib/python3.8/site-packages/ipykernel/ipkernel.py:287: DeprecationWarning: `should_run_async` will not call `transform_cell` automatically in the future. Please pass the result to `transformed_cell` argument and any exception that happen during thetransform in `preprocessing_exc_tuple` in IPython 7.17 and above.\n",
      "  and should_run_async(code)\n"
     ]
    }
   ],
   "source": [
    "from feast import FeatureStore\n",
    "from utils.data_fetcher import DataFetcher\n",
    "from queries.train_model import CreditXGBClassifier"
   ]
  },
  {
   "cell_type": "markdown",
   "id": "e3c10fed-a126-456b-a2b1-da92aa530970",
   "metadata": {},
   "source": [
    "### Create instances of \n",
    " * feature store\n",
    " * data fetcher utility class\n",
    " * XGBoost classifier"
   ]
  },
  {
   "cell_type": "code",
   "execution_count": 9,
   "id": "a9bc2c6e-9204-4bf2-8e06-95e97a7ce8ad",
   "metadata": {},
   "outputs": [],
   "source": [
    "# [IMPORTANT] Change this  path to yours git repo\n",
    "REPO_PATH = Path(\"/Users/kike/Library/CloudStorage/OneDrive-VMware,Inc/OCTO/2022-H1/Taurus/Feast/feast_workshops-master/module_1/feature_repo\")\n",
    "\n",
    "store = FeatureStore(repo_path=REPO_PATH)\n",
    "fetcher = DataFetcher(store, REPO_PATH)\n",
    "xgboost_cls = CreditXGBClassifier(store, fetcher)"
   ]
  },
  {
   "cell_type": "markdown",
   "id": "1894e2b5-6e42-4791-8936-042d45de9699",
   "metadata": {},
   "source": [
    "### Train the XGBoost classifier on localhost using a single process and a single core\n",
    "![](images/xgboost_single_core.png)"
   ]
  },
  {
   "cell_type": "code",
   "execution_count": 10,
   "id": "ad7d559e-0037-46b9-b252-64407d723b13",
   "metadata": {},
   "outputs": [
    {
     "name": "stderr",
     "output_type": "stream",
     "text": [
      "/usr/local/anaconda3/lib/python3.8/site-packages/ipykernel/ipkernel.py:287: DeprecationWarning: `should_run_async` will not call `transform_cell` automatically in the future. Please pass the result to `transformed_cell` argument and any exception that happen during thetransform in `preprocessing_exc_tuple` in IPython 7.17 and above.\n",
      "  and should_run_async(code)\n"
     ]
    },
    {
     "name": "stdout",
     "output_type": "stream",
     "text": [
      " predictions: [0.02745708 0.00026555 0.00625412 ... 0.00151679 0.00253062 0.01899836]\n",
      "Numpy array precision: 1.0\n",
      " predictions: [0.02745708 0.00026555 0.00625412 ... 0.00151679 0.00253062 0.01899836]\n",
      "Numpy array precision: 1.0\n",
      " predictions: [0.02745708 0.00026555 0.00625412 ... 0.00151679 0.00253062 0.01899836]\n",
      "Numpy array precision: 1.0\n",
      " predictions: [0.02745708 0.00026555 0.00625412 ... 0.00151679 0.00253062 0.01899836]\n",
      "Numpy array precision: 1.0\n",
      " predictions: [0.02745708 0.00026555 0.00625412 ... 0.00151679 0.00253062 0.01899836]\n",
      "Numpy array precision: 1.0\n",
      " predictions: [0.02745708 0.00026555 0.00625412 ... 0.00151679 0.00253062 0.01899836]\n",
      "Numpy array precision: 1.0\n",
      " predictions: [0.02745708 0.00026555 0.00625412 ... 0.00151679 0.00253062 0.01899836]\n",
      "Numpy array precision: 1.0\n",
      " predictions: [0.02745708 0.00026555 0.00625412 ... 0.00151679 0.00253062 0.01899836]\n",
      "Numpy array precision: 1.0\n",
      "1.66 s ± 66 ms per loop (mean ± std. dev. of 7 runs, 1 loop each)\n"
     ]
    }
   ],
   "source": [
    "%timeit xgboost_cls.train()"
   ]
  },
  {
   "cell_type": "markdown",
   "id": "0fd16a17-02e4-4217-a2ad-b0e860ed74b8",
   "metadata": {},
   "source": [
    "### Define loan requests"
   ]
  },
  {
   "cell_type": "code",
   "execution_count": 11,
   "id": "2b47eaa3-ee19-4720-bc7e-d33b132fe350",
   "metadata": {},
   "outputs": [
    {
     "name": "stderr",
     "output_type": "stream",
     "text": [
      "/usr/local/anaconda3/lib/python3.8/site-packages/ipykernel/ipkernel.py:287: DeprecationWarning: `should_run_async` will not call `transform_cell` automatically in the future. Please pass the result to `transformed_cell` argument and any exception that happen during thetransform in `preprocessing_exc_tuple` in IPython 7.17 and above.\n",
      "  and should_run_async(code)\n"
     ]
    }
   ],
   "source": [
    " loan_requests = [\n",
    "    {\n",
    "        \"zipcode\": [76104],\n",
    "        \"person_age\": [22],\n",
    "        \"person_income\": [59000],\n",
    "        \"person_home_ownership\": [\"RENT\"],\n",
    "        \"person_emp_length\": [123.0],\n",
    "        \"loan_intent\": [\"PERSONAL\"],\n",
    "        \"loan_amnt\": [35000],\n",
    "        \"loan_int_rate\": [16.02],\n",
    "        \"dob_ssn\": [\"19530219_5179\"]\n",
    "    },\n",
    "    {\n",
    "        \"zipcode\": [69033],\n",
    "        \"person_age\": [66],\n",
    "        \"person_income\": [42000],\n",
    "        \"person_home_ownership\": [\"RENT\"],\n",
    "        \"person_emp_length\": [2.0],\n",
    "        \"loan_intent\": [\"MEDICAL\"],\n",
    "        \"loan_amnt\": [6475],\n",
    "        \"loan_int_rate\": [9.99],\n",
    "        \"dob_ssn\": [\"19960703_3449\"]\n",
    "    }\n",
    "]"
   ]
  },
  {
   "cell_type": "markdown",
   "id": "c39d27d5-8698-4278-9027-08ea5e810988",
   "metadata": {},
   "source": [
    "### Predict the loan requests"
   ]
  },
  {
   "cell_type": "code",
   "execution_count": 12,
   "id": "591074bc-aa43-4708-a87d-78011fc1d302",
   "metadata": {},
   "outputs": [
    {
     "name": "stdout",
     "output_type": "stream",
     "text": [
      "Loan for 76104 code approved: status_code=1\n",
      "Loan for 69033 code rejected: status_code=0\n"
     ]
    }
   ],
   "source": [
    "for loan_request in loan_requests:\n",
    "    result = round(xgboost_cls.predict(loan_request))\n",
    "    loan_status = \"approved\" if result == 1 else \"rejected\"\n",
    "    print(f\"Loan for {loan_request['zipcode'][0]} code {loan_status}: status_code={result}\")"
   ]
  }
 ],
 "metadata": {
  "kernelspec": {
   "display_name": "Python 3 (ipykernel)",
   "language": "python",
   "name": "python3"
  },
  "language_info": {
   "codemirror_mode": {
    "name": "ipython",
    "version": 3
   },
   "file_extension": ".py",
   "mimetype": "text/x-python",
   "name": "python",
   "nbconvert_exporter": "python",
   "pygments_lexer": "ipython3",
   "version": "3.10.4"
  }
 },
 "nbformat": 4,
 "nbformat_minor": 5
}
